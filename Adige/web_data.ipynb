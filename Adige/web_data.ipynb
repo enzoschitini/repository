{
 "cells": [
  {
   "cell_type": "markdown",
   "metadata": {},
   "source": [
    "URL = 'https://raw.githubusercontent.com/enzoschitini/Enzo/main/Progetti/db/international_matches.csv'\n",
    "\n",
    "URL = 'https://raw.githubusercontent.com/enzoschitini/Enzo/main/Progetti/GitHub/projects/portfolio/Imola/satelite.csv'"
   ]
  },
  {
   "cell_type": "code",
   "execution_count": 1,
   "metadata": {},
   "outputs": [],
   "source": [
    "import pandas as pd\n",
    "from time import sleep"
   ]
  },
  {
   "cell_type": "code",
   "execution_count": 2,
   "metadata": {},
   "outputs": [],
   "source": [
    "dati = './base.csv'"
   ]
  },
  {
   "cell_type": "code",
   "execution_count": 3,
   "metadata": {},
   "outputs": [],
   "source": [
    "with open(file=dati, mode='w') as file:\n",
    "    file.write(\"\")"
   ]
  },
  {
   "cell_type": "code",
   "execution_count": 4,
   "metadata": {},
   "outputs": [],
   "source": [
    "url = 'https://raw.githubusercontent.com/andre-marcos-perez/ebac-course-utils/develop/dataset/credito.csv'"
   ]
  },
  {
   "cell_type": "code",
   "execution_count": 5,
   "metadata": {},
   "outputs": [],
   "source": [
    "df = pd.read_csv(url)"
   ]
  },
  {
   "cell_type": "code",
   "execution_count": 6,
   "metadata": {},
   "outputs": [
    {
     "data": {
      "text/html": [
       "<div>\n",
       "<style scoped>\n",
       "    .dataframe tbody tr th:only-of-type {\n",
       "        vertical-align: middle;\n",
       "    }\n",
       "\n",
       "    .dataframe tbody tr th {\n",
       "        vertical-align: top;\n",
       "    }\n",
       "\n",
       "    .dataframe thead th {\n",
       "        text-align: right;\n",
       "    }\n",
       "</style>\n",
       "<table border=\"1\" class=\"dataframe\">\n",
       "  <thead>\n",
       "    <tr style=\"text-align: right;\">\n",
       "      <th></th>\n",
       "      <th>id</th>\n",
       "      <th>default</th>\n",
       "      <th>idade</th>\n",
       "      <th>sexo</th>\n",
       "      <th>dependentes</th>\n",
       "      <th>escolaridade</th>\n",
       "      <th>estado_civil</th>\n",
       "      <th>salario_anual</th>\n",
       "      <th>tipo_cartao</th>\n",
       "      <th>meses_de_relacionamento</th>\n",
       "      <th>qtd_produtos</th>\n",
       "      <th>iteracoes_12m</th>\n",
       "      <th>meses_inativo_12m</th>\n",
       "      <th>limite_credito</th>\n",
       "      <th>valor_transacoes_12m</th>\n",
       "      <th>qtd_transacoes_12m</th>\n",
       "    </tr>\n",
       "  </thead>\n",
       "  <tbody>\n",
       "    <tr>\n",
       "      <th>0</th>\n",
       "      <td>768805383</td>\n",
       "      <td>0</td>\n",
       "      <td>45</td>\n",
       "      <td>M</td>\n",
       "      <td>3</td>\n",
       "      <td>ensino medio</td>\n",
       "      <td>casado</td>\n",
       "      <td>$60K - $80K</td>\n",
       "      <td>blue</td>\n",
       "      <td>39</td>\n",
       "      <td>5</td>\n",
       "      <td>3</td>\n",
       "      <td>1</td>\n",
       "      <td>12.691,51</td>\n",
       "      <td>1.144,90</td>\n",
       "      <td>42</td>\n",
       "    </tr>\n",
       "    <tr>\n",
       "      <th>1</th>\n",
       "      <td>818770008</td>\n",
       "      <td>0</td>\n",
       "      <td>49</td>\n",
       "      <td>F</td>\n",
       "      <td>5</td>\n",
       "      <td>mestrado</td>\n",
       "      <td>solteiro</td>\n",
       "      <td>menos que $40K</td>\n",
       "      <td>blue</td>\n",
       "      <td>44</td>\n",
       "      <td>6</td>\n",
       "      <td>2</td>\n",
       "      <td>1</td>\n",
       "      <td>8.256,96</td>\n",
       "      <td>1.291,45</td>\n",
       "      <td>33</td>\n",
       "    </tr>\n",
       "    <tr>\n",
       "      <th>2</th>\n",
       "      <td>713982108</td>\n",
       "      <td>0</td>\n",
       "      <td>51</td>\n",
       "      <td>M</td>\n",
       "      <td>3</td>\n",
       "      <td>mestrado</td>\n",
       "      <td>casado</td>\n",
       "      <td>$80K - $120K</td>\n",
       "      <td>blue</td>\n",
       "      <td>36</td>\n",
       "      <td>4</td>\n",
       "      <td>0</td>\n",
       "      <td>1</td>\n",
       "      <td>3.418,56</td>\n",
       "      <td>1.887,72</td>\n",
       "      <td>20</td>\n",
       "    </tr>\n",
       "    <tr>\n",
       "      <th>3</th>\n",
       "      <td>769911858</td>\n",
       "      <td>0</td>\n",
       "      <td>40</td>\n",
       "      <td>F</td>\n",
       "      <td>4</td>\n",
       "      <td>ensino medio</td>\n",
       "      <td>na</td>\n",
       "      <td>menos que $40K</td>\n",
       "      <td>blue</td>\n",
       "      <td>34</td>\n",
       "      <td>3</td>\n",
       "      <td>1</td>\n",
       "      <td>4</td>\n",
       "      <td>3.313,03</td>\n",
       "      <td>1.171,56</td>\n",
       "      <td>20</td>\n",
       "    </tr>\n",
       "    <tr>\n",
       "      <th>4</th>\n",
       "      <td>709106358</td>\n",
       "      <td>0</td>\n",
       "      <td>40</td>\n",
       "      <td>M</td>\n",
       "      <td>3</td>\n",
       "      <td>sem educacao formal</td>\n",
       "      <td>casado</td>\n",
       "      <td>$60K - $80K</td>\n",
       "      <td>blue</td>\n",
       "      <td>21</td>\n",
       "      <td>5</td>\n",
       "      <td>0</td>\n",
       "      <td>1</td>\n",
       "      <td>4.716,22</td>\n",
       "      <td>816,08</td>\n",
       "      <td>28</td>\n",
       "    </tr>\n",
       "    <tr>\n",
       "      <th>5</th>\n",
       "      <td>713061558</td>\n",
       "      <td>0</td>\n",
       "      <td>44</td>\n",
       "      <td>M</td>\n",
       "      <td>2</td>\n",
       "      <td>mestrado</td>\n",
       "      <td>casado</td>\n",
       "      <td>$40K - $60K</td>\n",
       "      <td>blue</td>\n",
       "      <td>36</td>\n",
       "      <td>3</td>\n",
       "      <td>2</td>\n",
       "      <td>1</td>\n",
       "      <td>4.010,69</td>\n",
       "      <td>1.088,07</td>\n",
       "      <td>24</td>\n",
       "    </tr>\n",
       "    <tr>\n",
       "      <th>6</th>\n",
       "      <td>810347208</td>\n",
       "      <td>0</td>\n",
       "      <td>51</td>\n",
       "      <td>M</td>\n",
       "      <td>4</td>\n",
       "      <td>na</td>\n",
       "      <td>casado</td>\n",
       "      <td>$120K +</td>\n",
       "      <td>gold</td>\n",
       "      <td>46</td>\n",
       "      <td>6</td>\n",
       "      <td>3</td>\n",
       "      <td>1</td>\n",
       "      <td>34.516,72</td>\n",
       "      <td>1.330,87</td>\n",
       "      <td>31</td>\n",
       "    </tr>\n",
       "    <tr>\n",
       "      <th>7</th>\n",
       "      <td>818906208</td>\n",
       "      <td>0</td>\n",
       "      <td>32</td>\n",
       "      <td>M</td>\n",
       "      <td>0</td>\n",
       "      <td>ensino medio</td>\n",
       "      <td>na</td>\n",
       "      <td>$60K - $80K</td>\n",
       "      <td>silver</td>\n",
       "      <td>27</td>\n",
       "      <td>2</td>\n",
       "      <td>2</td>\n",
       "      <td>2</td>\n",
       "      <td>29.081,49</td>\n",
       "      <td>1.538,32</td>\n",
       "      <td>36</td>\n",
       "    </tr>\n",
       "    <tr>\n",
       "      <th>8</th>\n",
       "      <td>710930508</td>\n",
       "      <td>0</td>\n",
       "      <td>37</td>\n",
       "      <td>M</td>\n",
       "      <td>3</td>\n",
       "      <td>sem educacao formal</td>\n",
       "      <td>solteiro</td>\n",
       "      <td>$60K - $80K</td>\n",
       "      <td>blue</td>\n",
       "      <td>36</td>\n",
       "      <td>5</td>\n",
       "      <td>0</td>\n",
       "      <td>2</td>\n",
       "      <td>22.352,50</td>\n",
       "      <td>1.350,14</td>\n",
       "      <td>24</td>\n",
       "    </tr>\n",
       "    <tr>\n",
       "      <th>9</th>\n",
       "      <td>719661558</td>\n",
       "      <td>0</td>\n",
       "      <td>48</td>\n",
       "      <td>M</td>\n",
       "      <td>2</td>\n",
       "      <td>mestrado</td>\n",
       "      <td>solteiro</td>\n",
       "      <td>$80K - $120K</td>\n",
       "      <td>blue</td>\n",
       "      <td>36</td>\n",
       "      <td>6</td>\n",
       "      <td>3</td>\n",
       "      <td>3</td>\n",
       "      <td>11.656,41</td>\n",
       "      <td>1.441,73</td>\n",
       "      <td>32</td>\n",
       "    </tr>\n",
       "    <tr>\n",
       "      <th>10</th>\n",
       "      <td>708790833</td>\n",
       "      <td>0</td>\n",
       "      <td>42</td>\n",
       "      <td>M</td>\n",
       "      <td>5</td>\n",
       "      <td>sem educacao formal</td>\n",
       "      <td>na</td>\n",
       "      <td>$120K +</td>\n",
       "      <td>blue</td>\n",
       "      <td>31</td>\n",
       "      <td>5</td>\n",
       "      <td>2</td>\n",
       "      <td>3</td>\n",
       "      <td>6.748,40</td>\n",
       "      <td>1.201,27</td>\n",
       "      <td>42</td>\n",
       "    </tr>\n",
       "  </tbody>\n",
       "</table>\n",
       "</div>"
      ],
      "text/plain": [
       "           id  default  idade sexo  dependentes         escolaridade  \\\n",
       "0   768805383        0     45    M            3         ensino medio   \n",
       "1   818770008        0     49    F            5             mestrado   \n",
       "2   713982108        0     51    M            3             mestrado   \n",
       "3   769911858        0     40    F            4         ensino medio   \n",
       "4   709106358        0     40    M            3  sem educacao formal   \n",
       "5   713061558        0     44    M            2             mestrado   \n",
       "6   810347208        0     51    M            4                   na   \n",
       "7   818906208        0     32    M            0         ensino medio   \n",
       "8   710930508        0     37    M            3  sem educacao formal   \n",
       "9   719661558        0     48    M            2             mestrado   \n",
       "10  708790833        0     42    M            5  sem educacao formal   \n",
       "\n",
       "   estado_civil   salario_anual tipo_cartao  meses_de_relacionamento  \\\n",
       "0        casado     $60K - $80K        blue                       39   \n",
       "1      solteiro  menos que $40K        blue                       44   \n",
       "2        casado    $80K - $120K        blue                       36   \n",
       "3            na  menos que $40K        blue                       34   \n",
       "4        casado     $60K - $80K        blue                       21   \n",
       "5        casado     $40K - $60K        blue                       36   \n",
       "6        casado         $120K +        gold                       46   \n",
       "7            na     $60K - $80K      silver                       27   \n",
       "8      solteiro     $60K - $80K        blue                       36   \n",
       "9      solteiro    $80K - $120K        blue                       36   \n",
       "10           na         $120K +        blue                       31   \n",
       "\n",
       "    qtd_produtos  iteracoes_12m  meses_inativo_12m limite_credito  \\\n",
       "0              5              3                  1      12.691,51   \n",
       "1              6              2                  1       8.256,96   \n",
       "2              4              0                  1       3.418,56   \n",
       "3              3              1                  4       3.313,03   \n",
       "4              5              0                  1       4.716,22   \n",
       "5              3              2                  1       4.010,69   \n",
       "6              6              3                  1      34.516,72   \n",
       "7              2              2                  2      29.081,49   \n",
       "8              5              0                  2      22.352,50   \n",
       "9              6              3                  3      11.656,41   \n",
       "10             5              2                  3       6.748,40   \n",
       "\n",
       "   valor_transacoes_12m  qtd_transacoes_12m  \n",
       "0              1.144,90                  42  \n",
       "1              1.291,45                  33  \n",
       "2              1.887,72                  20  \n",
       "3              1.171,56                  20  \n",
       "4                816,08                  28  \n",
       "5              1.088,07                  24  \n",
       "6              1.330,87                  31  \n",
       "7              1.538,32                  36  \n",
       "8              1.350,14                  24  \n",
       "9              1.441,73                  32  \n",
       "10             1.201,27                  42  "
      ]
     },
     "execution_count": 6,
     "metadata": {},
     "output_type": "execute_result"
    }
   ],
   "source": [
    "df.head(n=11)"
   ]
  },
  {
   "cell_type": "code",
   "execution_count": 7,
   "metadata": {},
   "outputs": [
    {
     "name": "stdout",
     "output_type": "stream",
     "text": [
      "id,default,idade,sexo,dependentes,escolaridade,estado_civil,salario_anual,tipo_cartao,meses_de_relacionamento,qtd_produtos,iteracoes_12m,meses_inativo_12m,limite_credito,valor_transacoes_12m,qtd_transacoes_12m\n"
     ]
    }
   ],
   "source": [
    "intestazioni = df.head(n=0)\n",
    "intestazioni = list(intestazioni)\n",
    "intestazioni = str(intestazioni)\n",
    "x = intestazioni\n",
    "x = x.replace('[', '').replace(']', '').replace(\"'\", '').replace(' ', '')\n",
    "print(x)"
   ]
  },
  {
   "cell_type": "code",
   "execution_count": 8,
   "metadata": {},
   "outputs": [
    {
     "name": "stdout",
     "output_type": "stream",
     "text": [
      "Overwriting base.csv\n"
     ]
    }
   ],
   "source": [
    "%%writefile base.csv\n",
    "creazione dell'archivio in corso............"
   ]
  },
  {
   "cell_type": "code",
   "execution_count": 9,
   "metadata": {},
   "outputs": [],
   "source": [
    "sleep(1)"
   ]
  },
  {
   "cell_type": "code",
   "execution_count": 10,
   "metadata": {},
   "outputs": [],
   "source": [
    "with open(file=dati, mode='w') as file:\n",
    "    file.write(\"\")\n",
    "    file.write(x + '\\n')"
   ]
  },
  {
   "cell_type": "code",
   "execution_count": 11,
   "metadata": {},
   "outputs": [
    {
     "name": "stdout",
     "output_type": "stream",
     "text": [
      "[768805383, 0, 45, 'M', 3, 'ensino medio', 'casado', '$60K - $80K', 'blue', 39, 5, 3, 1, '12.691,51', '1.144,90', 42]\n"
     ]
    }
   ],
   "source": [
    "lista = df.values.tolist()\n",
    "print(lista[0])"
   ]
  },
  {
   "cell_type": "code",
   "execution_count": 12,
   "metadata": {},
   "outputs": [],
   "source": [
    "with open(file=dati, mode='a', encoding='utf-8') as fp:\n",
    "    for x in lista:\n",
    "        x = str(x)\n",
    "        x = x.replace('[', '').replace(']', '').replace(\"'\", '').replace(' ', '')\n",
    "        fp.write(x + '\\n')\n",
    "        sleep(0.0005)"
   ]
  },
  {
   "cell_type": "code",
   "execution_count": 13,
   "metadata": {},
   "outputs": [],
   "source": [
    "class ArquivoCSV(object):\n",
    "\n",
    "  def __init__(self, arquivo: str):\n",
    "    self.arquivo = arquivo\n",
    "    self.conteudo = self._extrair_conteudo()\n",
    "    self.colunas = self._extrair_nome_colunas()\n",
    "\n",
    "  def _extrair_conteudo(self):\n",
    "    conteudo = None\n",
    "    with open(file=self.arquivo, mode='r', encoding='utf8') as arquivo:\n",
    "      conteudo = arquivo.readlines()\n",
    "    return conteudo\n",
    "\n",
    "  def _extrair_nome_colunas(self):\n",
    "    return self.conteudo[0].strip().split(sep=',')\n",
    "\n",
    "  def extrair_coluna(self, indice_coluna: str):\n",
    "    coluna = list()\n",
    "    for linha in self.conteudo:\n",
    "      conteudo_linha = linha.strip().split(sep=',')\n",
    "      coluna.append(conteudo_linha[indice_coluna])\n",
    "    coluna.pop(0)\n",
    "    return coluna"
   ]
  },
  {
   "cell_type": "code",
   "execution_count": 14,
   "metadata": {},
   "outputs": [],
   "source": [
    "def valore_abbreviato(valore:str) -> str:\n",
    "    alg_valore = list(valore)\n",
    "    num_punt = sum(map(lambda x: x == '.', valore))\n",
    "    for x in range(num_punt):\n",
    "     alg_valore.remove('.')\n",
    "    numero = int(\"\".join(alg_valore))\n",
    "    numero_format = \"{:,}\".format(numero).replace(\",\", \".\")\n",
    "    return numero_format"
   ]
  },
  {
   "cell_type": "code",
   "execution_count": 15,
   "metadata": {},
   "outputs": [
    {
     "name": "stdout",
     "output_type": "stream",
     "text": [
      "Ci sono 10.127 righe.\n"
     ]
    }
   ],
   "source": [
    "csv = ArquivoCSV(dati)\n",
    "totale = csv.extrair_coluna(0)\n",
    "totale = valore_abbreviato(str(len(totale)))\n",
    "print(f'Ci sono {totale} righe.')"
   ]
  },
  {
   "cell_type": "code",
   "execution_count": 16,
   "metadata": {},
   "outputs": [],
   "source": [
    "import pandas as pd\n",
    "\n",
    "df = pd.read_csv('./base.csv')"
   ]
  },
  {
   "cell_type": "code",
   "execution_count": 17,
   "metadata": {},
   "outputs": [
    {
     "ename": "KeyError",
     "evalue": "'home_team'",
     "output_type": "error",
     "traceback": [
      "\u001b[1;31m---------------------------------------------------------------------------\u001b[0m",
      "\u001b[1;31mKeyError\u001b[0m                                  Traceback (most recent call last)",
      "File \u001b[1;32mc:\\Users\\Soldado\\AppData\\Local\\Programs\\Python\\Python311\\Lib\\site-packages\\pandas\\core\\indexes\\base.py:3790\u001b[0m, in \u001b[0;36mIndex.get_loc\u001b[1;34m(self, key)\u001b[0m\n\u001b[0;32m   3789\u001b[0m \u001b[39mtry\u001b[39;00m:\n\u001b[1;32m-> 3790\u001b[0m     \u001b[39mreturn\u001b[39;00m \u001b[39mself\u001b[39;49m\u001b[39m.\u001b[39;49m_engine\u001b[39m.\u001b[39;49mget_loc(casted_key)\n\u001b[0;32m   3791\u001b[0m \u001b[39mexcept\u001b[39;00m \u001b[39mKeyError\u001b[39;00m \u001b[39mas\u001b[39;00m err:\n",
      "File \u001b[1;32mindex.pyx:152\u001b[0m, in \u001b[0;36mpandas._libs.index.IndexEngine.get_loc\u001b[1;34m()\u001b[0m\n",
      "File \u001b[1;32mindex.pyx:181\u001b[0m, in \u001b[0;36mpandas._libs.index.IndexEngine.get_loc\u001b[1;34m()\u001b[0m\n",
      "File \u001b[1;32mpandas\\_libs\\hashtable_class_helper.pxi:7080\u001b[0m, in \u001b[0;36mpandas._libs.hashtable.PyObjectHashTable.get_item\u001b[1;34m()\u001b[0m\n",
      "File \u001b[1;32mpandas\\_libs\\hashtable_class_helper.pxi:7088\u001b[0m, in \u001b[0;36mpandas._libs.hashtable.PyObjectHashTable.get_item\u001b[1;34m()\u001b[0m\n",
      "\u001b[1;31mKeyError\u001b[0m: 'home_team'",
      "\nThe above exception was the direct cause of the following exception:\n",
      "\u001b[1;31mKeyError\u001b[0m                                  Traceback (most recent call last)",
      "\u001b[1;32mf:\\Python\\GitHub\\Adige\\Data\\web_data.ipynb Cella 18\u001b[0m line \u001b[0;36m1\n\u001b[1;32m----> <a href='vscode-notebook-cell:/f%3A/Python/GitHub/Adige/Data/web_data.ipynb#X23sZmlsZQ%3D%3D?line=0'>1</a>\u001b[0m df_ita \u001b[39m=\u001b[39m df[(df[\u001b[39m'\u001b[39;49m\u001b[39mhome_team\u001b[39;49m\u001b[39m'\u001b[39;49m] \u001b[39m==\u001b[39m \u001b[39m'\u001b[39m\u001b[39mItaly\u001b[39m\u001b[39m'\u001b[39m) \u001b[39m|\u001b[39m (df[\u001b[39m'\u001b[39m\u001b[39maway_team\u001b[39m\u001b[39m'\u001b[39m] \u001b[39m==\u001b[39m \u001b[39m'\u001b[39m\u001b[39mItaly\u001b[39m\u001b[39m'\u001b[39m)]\n",
      "File \u001b[1;32mc:\\Users\\Soldado\\AppData\\Local\\Programs\\Python\\Python311\\Lib\\site-packages\\pandas\\core\\frame.py:3896\u001b[0m, in \u001b[0;36mDataFrame.__getitem__\u001b[1;34m(self, key)\u001b[0m\n\u001b[0;32m   3894\u001b[0m \u001b[39mif\u001b[39;00m \u001b[39mself\u001b[39m\u001b[39m.\u001b[39mcolumns\u001b[39m.\u001b[39mnlevels \u001b[39m>\u001b[39m \u001b[39m1\u001b[39m:\n\u001b[0;32m   3895\u001b[0m     \u001b[39mreturn\u001b[39;00m \u001b[39mself\u001b[39m\u001b[39m.\u001b[39m_getitem_multilevel(key)\n\u001b[1;32m-> 3896\u001b[0m indexer \u001b[39m=\u001b[39m \u001b[39mself\u001b[39;49m\u001b[39m.\u001b[39;49mcolumns\u001b[39m.\u001b[39;49mget_loc(key)\n\u001b[0;32m   3897\u001b[0m \u001b[39mif\u001b[39;00m is_integer(indexer):\n\u001b[0;32m   3898\u001b[0m     indexer \u001b[39m=\u001b[39m [indexer]\n",
      "File \u001b[1;32mc:\\Users\\Soldado\\AppData\\Local\\Programs\\Python\\Python311\\Lib\\site-packages\\pandas\\core\\indexes\\base.py:3797\u001b[0m, in \u001b[0;36mIndex.get_loc\u001b[1;34m(self, key)\u001b[0m\n\u001b[0;32m   3792\u001b[0m     \u001b[39mif\u001b[39;00m \u001b[39misinstance\u001b[39m(casted_key, \u001b[39mslice\u001b[39m) \u001b[39mor\u001b[39;00m (\n\u001b[0;32m   3793\u001b[0m         \u001b[39misinstance\u001b[39m(casted_key, abc\u001b[39m.\u001b[39mIterable)\n\u001b[0;32m   3794\u001b[0m         \u001b[39mand\u001b[39;00m \u001b[39many\u001b[39m(\u001b[39misinstance\u001b[39m(x, \u001b[39mslice\u001b[39m) \u001b[39mfor\u001b[39;00m x \u001b[39min\u001b[39;00m casted_key)\n\u001b[0;32m   3795\u001b[0m     ):\n\u001b[0;32m   3796\u001b[0m         \u001b[39mraise\u001b[39;00m InvalidIndexError(key)\n\u001b[1;32m-> 3797\u001b[0m     \u001b[39mraise\u001b[39;00m \u001b[39mKeyError\u001b[39;00m(key) \u001b[39mfrom\u001b[39;00m \u001b[39merr\u001b[39;00m\n\u001b[0;32m   3798\u001b[0m \u001b[39mexcept\u001b[39;00m \u001b[39mTypeError\u001b[39;00m:\n\u001b[0;32m   3799\u001b[0m     \u001b[39m# If we have a listlike key, _check_indexing_error will raise\u001b[39;00m\n\u001b[0;32m   3800\u001b[0m     \u001b[39m#  InvalidIndexError. Otherwise we fall through and re-raise\u001b[39;00m\n\u001b[0;32m   3801\u001b[0m     \u001b[39m#  the TypeError.\u001b[39;00m\n\u001b[0;32m   3802\u001b[0m     \u001b[39mself\u001b[39m\u001b[39m.\u001b[39m_check_indexing_error(key)\n",
      "\u001b[1;31mKeyError\u001b[0m: 'home_team'"
     ]
    }
   ],
   "source": [
    "df_ita = df[(df['home_team'] == 'Italy') | (df['away_team'] == 'Italy')]"
   ]
  },
  {
   "cell_type": "code",
   "execution_count": null,
   "metadata": {},
   "outputs": [],
   "source": [
    "df_ita = df_ita[['date', 'home_team', 'away_team', 'home_team_score', 'away_team_score','tournament']]"
   ]
  },
  {
   "cell_type": "code",
   "execution_count": null,
   "metadata": {},
   "outputs": [
    {
     "data": {
      "text/html": [
       "<div>\n",
       "<style scoped>\n",
       "    .dataframe tbody tr th:only-of-type {\n",
       "        vertical-align: middle;\n",
       "    }\n",
       "\n",
       "    .dataframe tbody tr th {\n",
       "        vertical-align: top;\n",
       "    }\n",
       "\n",
       "    .dataframe thead th {\n",
       "        text-align: right;\n",
       "    }\n",
       "</style>\n",
       "<table border=\"1\" class=\"dataframe\">\n",
       "  <thead>\n",
       "    <tr style=\"text-align: right;\">\n",
       "      <th></th>\n",
       "      <th>date</th>\n",
       "      <th>home_team</th>\n",
       "      <th>away_team</th>\n",
       "      <th>home_team_score</th>\n",
       "      <th>away_team_score</th>\n",
       "      <th>tournament</th>\n",
       "    </tr>\n",
       "  </thead>\n",
       "  <tbody>\n",
       "    <tr>\n",
       "      <th>53</th>\n",
       "      <td>1993-09-22</td>\n",
       "      <td>Estonia</td>\n",
       "      <td>Italy</td>\n",
       "      <td>0</td>\n",
       "      <td>3</td>\n",
       "      <td>FIFA World Cup qualification</td>\n",
       "    </tr>\n",
       "    <tr>\n",
       "      <th>82</th>\n",
       "      <td>1993-10-13</td>\n",
       "      <td>Italy</td>\n",
       "      <td>Scotland</td>\n",
       "      <td>3</td>\n",
       "      <td>1</td>\n",
       "      <td>FIFA World Cup qualification</td>\n",
       "    </tr>\n",
       "    <tr>\n",
       "      <th>132</th>\n",
       "      <td>1993-11-17</td>\n",
       "      <td>Italy</td>\n",
       "      <td>Portugal</td>\n",
       "      <td>1</td>\n",
       "      <td>0</td>\n",
       "      <td>FIFA World Cup qualification</td>\n",
       "    </tr>\n",
       "    <tr>\n",
       "      <th>219</th>\n",
       "      <td>1994-02-16</td>\n",
       "      <td>Italy</td>\n",
       "      <td>France</td>\n",
       "      <td>0</td>\n",
       "      <td>1</td>\n",
       "      <td>Friendly</td>\n",
       "    </tr>\n",
       "    <tr>\n",
       "      <th>250</th>\n",
       "      <td>1994-03-23</td>\n",
       "      <td>Germany</td>\n",
       "      <td>Italy</td>\n",
       "      <td>2</td>\n",
       "      <td>1</td>\n",
       "      <td>Friendly</td>\n",
       "    </tr>\n",
       "  </tbody>\n",
       "</table>\n",
       "</div>"
      ],
      "text/plain": [
       "           date  home_team  away_team   home_team_score   away_team_score  \\\n",
       "53   1993-09-22    Estonia      Italy                 0                 3   \n",
       "82   1993-10-13      Italy   Scotland                 3                 1   \n",
       "132  1993-11-17      Italy   Portugal                 1                 0   \n",
       "219  1994-02-16      Italy     France                 0                 1   \n",
       "250  1994-03-23    Germany      Italy                 2                 1   \n",
       "\n",
       "                        tournament  \n",
       "53    FIFA World Cup qualification  \n",
       "82    FIFA World Cup qualification  \n",
       "132   FIFA World Cup qualification  \n",
       "219                       Friendly  \n",
       "250                       Friendly  "
      ]
     },
     "execution_count": 90,
     "metadata": {},
     "output_type": "execute_result"
    }
   ],
   "source": [
    "df_ita.head(n=5)"
   ]
  },
  {
   "cell_type": "code",
   "execution_count": null,
   "metadata": {},
   "outputs": [
    {
     "name": "stdout",
     "output_type": "stream",
     "text": [
      "             date  home_team   away_team   home_team_score   away_team_score  \\\n",
      "53     1993-09-22    Estonia       Italy                 0                 3   \n",
      "82     1993-10-13      Italy    Scotland                 3                 1   \n",
      "132    1993-11-17      Italy    Portugal                 1                 0   \n",
      "219    1994-02-16      Italy      France                 0                 1   \n",
      "250    1994-03-23    Germany       Italy                 2                 1   \n",
      "...           ...        ...         ...               ...               ...   \n",
      "23652  2022-06-01      Italy   Argentina                 0                 3   \n",
      "23716  2022-06-04      Italy     Germany                 1                 1   \n",
      "23769  2022-06-07      Italy     Hungary                 2                 1   \n",
      "23850  2022-06-11    England       Italy                 0                 0   \n",
      "23906  2022-06-14    Germany       Italy                 5                 2   \n",
      "\n",
      "                            tournament  \n",
      "53        FIFA World Cup qualification  \n",
      "82        FIFA World Cup qualification  \n",
      "132       FIFA World Cup qualification  \n",
      "219                           Friendly  \n",
      "250                           Friendly  \n",
      "...                                ...  \n",
      "23652   CONMEBOL–UEFA Cup of Champions  \n",
      "23716              UEFA Nations League  \n",
      "23769              UEFA Nations League  \n",
      "23850              UEFA Nations League  \n",
      "23906              UEFA Nations League  \n",
      "\n",
      "[351 rows x 6 columns]\n",
      "<class 'pandas.core.frame.DataFrame'>\n"
     ]
    }
   ],
   "source": [
    "print(df_ita)\n",
    "print(type(df_ita))"
   ]
  },
  {
   "cell_type": "code",
   "execution_count": null,
   "metadata": {},
   "outputs": [
    {
     "data": {
      "text/plain": [
       "date                object\n",
       " home_team          object\n",
       " away_team          object\n",
       " home_team_score     int64\n",
       " away_team_score     int64\n",
       " tournament         object\n",
       "dtype: object"
      ]
     },
     "execution_count": 92,
     "metadata": {},
     "output_type": "execute_result"
    }
   ],
   "source": [
    "df_ita.dtypes"
   ]
  },
  {
   "cell_type": "code",
   "execution_count": null,
   "metadata": {},
   "outputs": [
    {
     "name": "stdout",
     "output_type": "stream",
     "text": [
      "[['1993-09-22', ' Estonia', ' Italy', 0, 3, ' FIFA World Cup qualification'], ['1993-10-13', ' Italy', ' Scotland', 3, 1, ' FIFA World Cup qualification'], ['1993-11-17', ' Italy', ' Portugal', 1, 0, ' FIFA World Cup qualification'], ['1994-02-16', ' Italy', ' France', 0, 1, ' Friendly'], ['1994-03-23', ' Germany', ' Italy', 2, 1, ' Friendly'], ['1994-05-27', ' Italy', ' Finland', 2, 0, ' Friendly'], ['1994-06-03', ' Italy', ' Switzerland', 1, 0, ' Friendly'], ['1994-06-11', ' Costa Rica', ' Italy', 0, 1, ' Friendly'], ['1994-06-18', ' Italy', ' Republic of Ireland', 0, 1, ' FIFA World Cup'], ['1994-06-23', ' Italy', ' Norway', 1, 0, ' FIFA World Cup'], ['1994-06-28', ' Italy', ' Mexico', 1, 1, ' FIFA World Cup'], ['1994-07-05', ' Nigeria', ' Italy', 1, 2, ' FIFA World Cup'], ['1994-07-09', ' Italy', ' Spain', 2, 1, ' FIFA World Cup'], ['1994-07-13', ' Bulgaria', ' Italy', 1, 2, ' FIFA World Cup'], ['1994-07-17', ' Brazil', ' Italy', 0, 0, ' FIFA World Cup'], ['1994-09-07', ' Slovenia', ' Italy', 1, 1, ' UEFA Euro qualification'], ['1994-10-08', ' Estonia', ' Italy', 0, 2, ' UEFA Euro qualification'], ['1994-11-16', ' Italy', ' Croatia', 1, 2, ' UEFA Euro qualification'], ['1994-12-21', ' Italy', ' Turkey', 3, 1, ' Friendly'], ['1995-03-25', ' Italy', ' Estonia', 4, 1, ' UEFA Euro qualification'], ['1995-03-29', ' Ukraine', ' Italy', 0, 2, ' UEFA Euro qualification'], ['1995-04-26', ' Lithuania', ' Italy', 0, 1, ' UEFA Euro qualification'], ['1995-06-19', ' Switzerland', ' Italy', 0, 1, ' Friendly'], ['1995-06-21', ' Germany', ' Italy', 2, 0, ' Friendly'], ['1995-09-06', ' Italy', ' Slovenia', 1, 0, ' UEFA Euro qualification'], ['1995-10-08', ' Croatia', ' Italy', 1, 1, ' UEFA Euro qualification'], ['1995-11-11', ' Italy', ' Ukraine', 3, 1, ' UEFA Euro qualification'], ['1995-11-15', ' Italy', ' Lithuania', 4, 0, ' UEFA Euro qualification'], ['1996-05-29', ' Italy', ' Belgium', 2, 2, ' Friendly'], ['1996-06-01', ' Hungary', ' Italy', 0, 2, ' Friendly'], ['1996-06-11', ' Italy', ' Russia', 2, 1, ' UEFA Euro'], ['1996-06-14', ' Czech Republic', ' Italy', 2, 1, ' UEFA Euro'], ['1996-06-19', ' Italy', ' Germany', 0, 0, ' UEFA Euro'], ['1996-10-05', ' Moldova', ' Italy', 1, 3, ' FIFA World Cup qualification'], ['1996-10-09', ' Italy', ' Georgia', 1, 0, ' FIFA World Cup qualification'], ['1996-11-06', ' Bosnia and Herzegovina', ' Italy', 2, 1, ' Friendly'], ['1997-01-22', ' Italy', ' Northern Ireland', 2, 0, ' Friendly'], ['1997-02-12', ' England', ' Italy', 0, 1, ' FIFA World Cup qualification'], ['1997-03-29', ' Italy', ' Moldova', 3, 0, ' FIFA World Cup qualification'], ['1997-04-02', ' Poland', ' Italy', 0, 0, ' FIFA World Cup qualification'], ['1997-04-30', ' Italy', ' Poland', 3, 0, ' FIFA World Cup qualification'], ['1997-06-04', ' England', ' Italy', 2, 0, ' Tournoi de France'], ['1997-06-08', ' Italy', ' Brazil', 3, 3, ' Tournoi de France'], ['1997-06-11', ' France', ' Italy', 2, 2, ' Tournoi de France'], ['1997-09-10', ' Georgia', ' Italy', 0, 0, ' FIFA World Cup qualification'], ['1997-10-11', ' Italy', ' England', 0, 0, ' FIFA World Cup qualification'], ['1997-10-29', ' Russia', ' Italy', 1, 1, ' FIFA World Cup qualification'], ['1997-11-15', ' Italy', ' Russia', 1, 0, ' FIFA World Cup qualification'], ['1998-01-28', ' Italy', ' Slovakia', 3, 0, ' Friendly'], ['1998-04-22', ' Italy', ' Paraguay', 3, 1, ' Friendly'], ['1998-06-02', ' Sweden', ' Italy', 1, 0, ' Friendly'], ['1998-06-11', ' Italy', ' Chile', 2, 2, ' FIFA World Cup'], ['1998-06-17', ' Italy', ' Cameroon', 3, 0, ' FIFA World Cup'], ['1998-06-23', ' Italy', ' Austria', 2, 1, ' FIFA World Cup'], ['1998-06-27', ' Italy', ' Norway', 1, 0, ' FIFA World Cup'], ['1998-07-03', ' France', ' Italy', 0, 0, ' FIFA World Cup'], ['1998-09-05', ' Wales', ' Italy', 0, 2, ' UEFA Euro qualification'], ['1998-10-10', ' Italy', ' Switzerland', 2, 0, ' UEFA Euro qualification'], ['1998-11-18', ' Italy', ' Spain', 2, 2, ' Friendly'], ['1999-02-10', ' Italy', ' Norway', 0, 0, ' Friendly'], ['1999-03-27', ' Denmark', ' Italy', 1, 2, ' UEFA Euro qualification'], ['1999-03-31', ' Italy', ' Belarus', 1, 1, ' UEFA Euro qualification'], ['1999-04-28', ' Croatia', ' Italy', 0, 0, ' Friendly'], ['1999-06-05', ' Italy', ' Wales', 4, 0, ' UEFA Euro qualification'], ['1999-06-09', ' Switzerland', ' Italy', 0, 0, ' UEFA Euro qualification'], ['1999-09-08', ' Italy', ' Denmark', 2, 3, ' UEFA Euro qualification'], ['1999-10-09', ' Belarus', ' Italy', 0, 0, ' UEFA Euro qualification'], ['1999-11-13', ' Italy', ' Belgium', 1, 3, ' Friendly'], ['2000-02-23', ' Italy', ' Sweden', 1, 0, ' Friendly'], ['2000-03-29', ' Spain', ' Italy', 2, 0, ' Friendly'], ['2000-04-26', ' Italy', ' Portugal', 2, 0, ' Friendly'], ['2000-06-03', ' Norway', ' Italy', 1, 0, ' Friendly'], ['2000-06-11', ' Turkey', ' Italy', 1, 2, ' UEFA Euro'], ['2000-06-14', ' Belgium', ' Italy', 0, 2, ' UEFA Euro'], ['2000-06-19', ' Italy', ' Sweden', 2, 1, ' UEFA Euro'], ['2000-06-24', ' Italy', ' Romania', 2, 0, ' UEFA Euro'], ['2000-06-29', ' Netherlands', ' Italy', 0, 0, ' UEFA Euro'], ['2000-07-02', ' France', ' Italy', 2, 1, ' UEFA Euro'], ['2000-09-03', ' Hungary', ' Italy', 2, 2, ' FIFA World Cup qualification'], ['2000-10-07', ' Italy', ' Romania', 3, 0, ' FIFA World Cup qualification'], ['2000-10-11', ' Italy', ' Georgia', 2, 0, ' FIFA World Cup qualification'], ['2000-11-15', ' Italy', ' England', 1, 0, ' Friendly'], ['2001-02-28', ' Italy', ' Argentina', 1, 2, ' Friendly'], ['2001-03-24', ' Romania', ' Italy', 0, 2, ' FIFA World Cup qualification'], ['2001-03-28', ' Italy', ' Lithuania', 4, 0, ' FIFA World Cup qualification'], ['2001-04-25', ' Italy', ' South Africa', 1, 0, ' Friendly'], ['2001-06-02', ' Georgia', ' Italy', 1, 2, ' FIFA World Cup qualification'], ['2001-09-01', ' Lithuania', ' Italy', 0, 0, ' FIFA World Cup qualification'], ['2001-09-05', ' Italy', ' Morocco', 1, 0, ' Friendly'], ['2001-10-06', ' Italy', ' Hungary', 1, 0, ' FIFA World Cup qualification'], ['2001-11-07', ' Japan', ' Italy', 1, 1, ' Friendly'], ['2002-02-13', ' Italy', ' USA', 1, 0, ' Friendly'], ['2002-03-27', ' England', ' Italy', 1, 2, ' Friendly'], ['2002-04-17', ' Italy', ' Uruguay', 1, 1, ' Friendly'], ['2002-05-18', ' Czech Republic', ' Italy', 1, 0, ' Friendly'], ['2002-06-03', ' Italy', ' Ecuador', 2, 0, ' FIFA World Cup'], ['2002-06-08', ' Italy', ' Croatia', 1, 2, ' FIFA World Cup'], ['2002-06-13', ' Mexico', ' Italy', 1, 1, ' FIFA World Cup'], ['2002-06-18', ' Korea Republic', ' Italy', 2, 1, ' FIFA World Cup'], ['2002-08-21', ' Italy', ' Slovenia', 0, 1, ' Friendly'], ['2002-09-07', ' Azerbaijan', ' Italy', 0, 2, ' UEFA Euro qualification'], ['2002-10-16', ' Wales', ' Italy', 2, 1, ' UEFA Euro qualification'], ['2002-11-20', ' Italy', ' Turkey', 1, 1, ' Friendly'], ['2003-02-12', ' Italy', ' Portugal', 1, 0, ' Friendly'], ['2003-03-29', ' Italy', ' Finland', 2, 0, ' UEFA Euro qualification'], ['2003-04-30', ' Switzerland', ' Italy', 1, 2, ' Friendly'], ['2003-06-03', ' Italy', ' Northern Ireland', 2, 0, ' Friendly'], ['2003-06-11', ' Finland', ' Italy', 0, 2, ' UEFA Euro qualification'], ['2003-08-20', ' Germany', ' Italy', 0, 1, ' Friendly'], ['2003-09-06', ' Italy', ' Wales', 4, 0, ' UEFA Euro qualification'], ['2003-10-11', ' Italy', ' Azerbaijan', 4, 0, ' UEFA Euro qualification'], ['2003-11-12', ' Poland', ' Italy', 3, 1, ' Friendly'], ['2003-11-16', ' Italy', ' Romania', 1, 0, ' Friendly'], ['2004-02-18', ' Italy', ' Czech Republic', 2, 2, ' Friendly'], ['2004-03-31', ' Portugal', ' Italy', 1, 2, ' Friendly'], ['2004-04-28', ' Italy', ' Spain', 1, 1, ' Friendly'], ['2004-05-30', ' Tunisia', ' Italy', 0, 4, ' Friendly'], ['2004-06-14', ' Denmark', ' Italy', 0, 0, ' UEFA Euro'], ['2004-06-18', ' Italy', ' Sweden', 1, 1, ' UEFA Euro'], ['2004-06-22', ' Italy', ' Bulgaria', 2, 1, ' UEFA Euro'], ['2004-08-18', ' Iceland', ' Italy', 2, 0, ' Friendly'], ['2004-09-04', ' Italy', ' Norway', 2, 1, ' FIFA World Cup qualification'], ['2004-09-08', ' Moldova', ' Italy', 0, 1, ' FIFA World Cup qualification'], ['2004-10-09', ' Slovenia', ' Italy', 1, 0, ' FIFA World Cup qualification'], ['2004-10-13', ' Italy', ' Belarus', 4, 3, ' FIFA World Cup qualification'], ['2004-11-17', ' Italy', ' Finland', 1, 0, ' Friendly'], ['2005-02-09', ' Italy', ' Russia', 2, 0, ' Friendly'], ['2005-03-26', ' Italy', ' Scotland', 2, 0, ' FIFA World Cup qualification'], ['2005-03-30', ' Italy', ' Iceland', 0, 0, ' Friendly'], ['2005-06-04', ' Norway', ' Italy', 0, 0, ' FIFA World Cup qualification'], ['2005-06-11', ' Ecuador', ' Italy', 1, 1, ' Friendly'], ['2005-08-17', ' Republic of Ireland', ' Italy', 1, 2, ' Friendly'], ['2005-09-03', ' Scotland', ' Italy', 1, 1, ' FIFA World Cup qualification'], ['2005-09-07', ' Belarus', ' Italy', 1, 4, ' FIFA World Cup qualification'], ['2005-10-08', ' Italy', ' Slovenia', 1, 0, ' FIFA World Cup qualification'], ['2005-10-12', ' Italy', ' Moldova', 2, 1, ' FIFA World Cup qualification'], ['2005-11-12', ' Netherlands', ' Italy', 1, 3, ' Friendly'], ['2005-11-16', ' \"Côte dIvoire\"', ' Italy', 1, 1, ' Friendly'], ['2006-03-01', ' Italy', ' Germany', 4, 1, ' Friendly'], ['2006-05-31', ' Switzerland', ' Italy', 1, 1, ' Friendly'], ['2006-06-02', ' Italy', ' Ukraine', 0, 0, ' Friendly'], ['2006-06-12', ' Italy', ' Ghana', 2, 0, ' FIFA World Cup'], ['2006-06-17', ' Italy', ' USA', 1, 1, ' FIFA World Cup'], ['2006-06-22', ' Czech Republic', ' Italy', 0, 2, ' FIFA World Cup'], ['2006-06-26', ' Italy', ' Australia', 1, 0, ' FIFA World Cup'], ['2006-06-30', ' Italy', ' Ukraine', 3, 0, ' FIFA World Cup'], ['2006-07-04', ' Germany', ' Italy', 0, 2, ' FIFA World Cup'], ['2006-07-09', ' Italy', ' France', 1, 1, ' FIFA World Cup'], ['2006-08-16', ' Italy', ' Croatia', 0, 2, ' Friendly'], ['2006-09-02', ' Italy', ' Lithuania', 1, 1, ' UEFA Euro qualification'], ['2006-09-06', ' France', ' Italy', 3, 1, ' UEFA Euro qualification'], ['2006-10-07', ' Italy', ' Ukraine', 2, 0, ' UEFA Euro qualification'], ['2006-10-11', ' Georgia', ' Italy', 1, 3, ' UEFA Euro qualification'], ['2006-11-15', ' Italy', ' Turkey', 1, 1, ' Friendly'], ['2007-03-28', ' Italy', ' Scotland', 2, 0, ' UEFA Euro qualification'], ['2007-06-02', ' Faroe Islands', ' Italy', 1, 2, ' UEFA Euro qualification'], ['2007-06-06', ' Lithuania', ' Italy', 0, 2, ' UEFA Euro qualification'], ['2007-08-22', ' Hungary', ' Italy', 3, 1, ' Friendly'], ['2007-09-08', ' Italy', ' France', 0, 0, ' UEFA Euro qualification'], ['2007-09-12', ' Ukraine', ' Italy', 1, 2, ' UEFA Euro qualification'], ['2007-10-13', ' Italy', ' Georgia', 2, 0, ' UEFA Euro qualification'], ['2007-10-17', ' Italy', ' South Africa', 2, 0, ' Friendly'], ['2007-11-17', ' Scotland', ' Italy', 1, 2, ' UEFA Euro qualification'], ['2007-11-21', ' Italy', ' Faroe Islands', 3, 1, ' UEFA Euro qualification'], ['2008-02-06', ' Italy', ' Portugal', 3, 1, ' Friendly'], ['2008-03-26', ' Spain', ' Italy', 1, 0, ' Friendly'], ['2008-05-30', ' Italy', ' Belgium', 3, 1, ' Friendly'], ['2008-06-09', ' Netherlands', ' Italy', 3, 0, ' UEFA Euro'], ['2008-06-13', ' Italy', ' Romania', 1, 1, ' UEFA Euro'], ['2008-06-17', ' France', ' Italy', 0, 2, ' UEFA Euro'], ['2008-06-22', ' Spain', ' Italy', 0, 0, ' UEFA Euro'], ['2008-08-20', ' Italy', ' Austria', 2, 2, ' Friendly'], ['2008-09-06', ' Cyprus', ' Italy', 1, 2, ' FIFA World Cup qualification'], ['2008-09-10', ' Italy', ' Georgia', 2, 0, ' FIFA World Cup qualification'], ['2008-10-11', ' Bulgaria', ' Italy', 0, 0, ' FIFA World Cup qualification'], ['2008-10-15', ' Italy', ' Montenegro', 2, 1, ' FIFA World Cup qualification'], ['2008-11-19', ' Greece', ' Italy', 1, 1, ' Friendly'], ['2009-02-10', ' Brazil', ' Italy', 2, 0, ' Friendly'], ['2009-03-28', ' Montenegro', ' Italy', 0, 2, ' FIFA World Cup qualification'], ['2009-04-01', ' Italy', ' Republic of Ireland', 1, 1, ' FIFA World Cup qualification'], ['2009-06-06', ' Italy', ' Northern Ireland', 3, 0, ' Friendly'], ['2009-06-10', ' Italy', ' New Zealand', 4, 3, ' Friendly'], ['2009-06-15', ' USA', ' Italy', 1, 3, ' Confederations Cup'], ['2009-06-18', ' Egypt', ' Italy', 1, 0, ' Confederations Cup'], ['2009-06-21', ' Italy', ' Brazil', 0, 3, ' Confederations Cup'], ['2009-08-12', ' Switzerland', ' Italy', 0, 0, ' Friendly'], ['2009-09-05', ' Georgia', ' Italy', 0, 2, ' FIFA World Cup qualification'], ['2009-09-09', ' Italy', ' Bulgaria', 2, 0, ' FIFA World Cup qualification'], ['2009-10-10', ' Republic of Ireland', ' Italy', 2, 2, ' FIFA World Cup qualification'], ['2009-10-14', ' Italy', ' Cyprus', 3, 2, ' FIFA World Cup qualification'], ['2009-11-14', ' Italy', ' Netherlands', 0, 0, ' Friendly'], ['2009-11-18', ' Italy', ' Sweden', 1, 0, ' Friendly'], ['2010-03-03', ' Italy', ' Cameroon', 0, 0, ' Friendly'], ['2010-06-03', ' Italy', ' Mexico', 1, 2, ' Friendly'], ['2010-06-05', ' Switzerland', ' Italy', 1, 1, ' Friendly'], ['2010-06-14', ' Italy', ' Paraguay', 1, 1, ' FIFA World Cup'], ['2010-06-20', ' Italy', ' New Zealand', 1, 1, ' FIFA World Cup'], ['2010-06-24', ' Slovakia', ' Italy', 3, 2, ' FIFA World Cup'], ['2010-08-10', ' Italy', ' \"Côte dIvoire\"', 0, 1, ' Friendly'], ['2010-09-03', ' Estonia', ' Italy', 1, 2, ' UEFA Euro qualification'], ['2010-09-07', ' Italy', ' Faroe Islands', 5, 0, ' UEFA Euro qualification'], ['2010-10-08', ' Northern Ireland', ' Italy', 0, 0, ' UEFA Euro qualification'], ['2010-10-12', ' Italy', ' Serbia', 3, 0, ' UEFA Euro qualification'], ['2010-11-17', ' Italy', ' Romania', 1, 1, ' Friendly'], ['2011-02-09', ' Germany', ' Italy', 1, 1, ' Friendly'], ['2011-03-25', ' Slovenia', ' Italy', 0, 1, ' UEFA Euro qualification'], ['2011-03-29', ' Ukraine', ' Italy', 0, 2, ' Friendly'], ['2011-06-03', ' Italy', ' Estonia', 3, 0, ' UEFA Euro qualification'], ['2011-06-07', ' Italy', ' Republic of Ireland', 0, 2, ' Friendly'], ['2011-08-10', ' Italy', ' Spain', 2, 1, ' Friendly'], ['2011-09-02', ' Faroe Islands', ' Italy', 0, 1, ' UEFA Euro qualification'], ['2011-09-06', ' Italy', ' Slovenia', 1, 0, ' UEFA Euro qualification'], ['2011-10-07', ' Serbia', ' Italy', 1, 1, ' UEFA Euro qualification'], ['2011-10-11', ' Italy', ' Northern Ireland', 3, 0, ' UEFA Euro qualification'], ['2011-11-11', ' Poland', ' Italy', 0, 2, ' Friendly'], ['2011-11-15', ' Italy', ' Uruguay', 0, 1, ' Friendly'], ['2012-02-29', ' Italy', ' USA', 0, 1, ' Friendly'], ['2012-06-01', ' Italy', ' Russia', 0, 3, ' Friendly'], ['2012-06-10', ' Spain', ' Italy', 1, 1, ' UEFA Euro'], ['2012-06-14', ' Italy', ' Croatia', 1, 1, ' UEFA Euro'], ['2012-06-18', ' Italy', ' Republic of Ireland', 2, 0, ' UEFA Euro'], ['2012-06-24', ' England', ' Italy', 0, 0, ' UEFA Euro'], ['2012-06-28', ' Germany', ' Italy', 1, 2, ' UEFA Euro'], ['2012-07-01', ' Spain', ' Italy', 4, 0, ' UEFA Euro'], ['2012-08-15', ' England', ' Italy', 2, 1, ' Friendly'], ['2012-09-07', ' Bulgaria', ' Italy', 2, 2, ' FIFA World Cup qualification'], ['2012-09-11', ' Italy', ' Malta', 2, 0, ' FIFA World Cup qualification'], ['2012-10-12', ' Armenia', ' Italy', 1, 3, ' FIFA World Cup qualification'], ['2012-10-16', ' Italy', ' Denmark', 3, 1, ' FIFA World Cup qualification'], ['2012-11-14', ' Italy', ' France', 1, 2, ' Friendly'], ['2013-02-06', ' Netherlands', ' Italy', 1, 1, ' Friendly'], ['2013-03-21', ' Italy', ' Brazil', 2, 2, ' Friendly'], ['2013-03-26', ' Malta', ' Italy', 0, 2, ' FIFA World Cup qualification'], ['2013-05-31', ' Italy', ' San Marino', 4, 0, ' Friendly'], ['2013-06-07', ' Czech Republic', ' Italy', 0, 0, ' FIFA World Cup qualification'], ['2013-06-11', ' Italy', ' Haiti', 2, 2, ' Friendly'], ['2013-06-16', ' Mexico', ' Italy', 1, 2, ' Confederations Cup'], ['2013-06-19', ' Italy', ' Japan', 4, 3, ' Confederations Cup'], ['2013-06-22', ' Brazil', ' Italy', 4, 2, ' Confederations Cup'], ['2013-06-27', ' Spain', ' Italy', 0, 0, ' Confederations Cup'], ['2013-06-30', ' Uruguay', ' Italy', 2, 2, ' Confederations Cup'], ['2013-08-14', ' Italy', ' Argentina', 1, 2, ' Friendly'], ['2013-09-06', ' Italy', ' Bulgaria', 1, 0, ' FIFA World Cup qualification'], ['2013-09-10', ' Italy', ' Czech Republic', 2, 1, ' FIFA World Cup qualification'], ['2013-10-11', ' Denmark', ' Italy', 2, 2, ' FIFA World Cup qualification'], ['2013-10-15', ' Italy', ' Armenia', 2, 2, ' FIFA World Cup qualification'], ['2013-11-15', ' Italy', ' Germany', 1, 1, ' Friendly'], ['2013-11-18', ' Italy', ' Nigeria', 2, 2, ' Friendly'], ['2014-03-05', ' Spain', ' Italy', 1, 0, ' Friendly'], ['2014-05-31', ' Italy', ' Republic of Ireland', 0, 0, ' Friendly'], ['2014-06-04', ' Italy', ' Luxembourg', 1, 1, ' Friendly'], ['2014-06-14', ' England', ' Italy', 1, 2, ' FIFA World Cup'], ['2014-06-20', ' Italy', ' Costa Rica', 0, 1, ' FIFA World Cup'], ['2014-06-24', ' Italy', ' Uruguay', 0, 1, ' FIFA World Cup'], ['2014-09-04', ' Italy', ' Netherlands', 2, 0, ' Friendly'], ['2014-09-09', ' Norway', ' Italy', 0, 2, ' UEFA Euro qualification'], ['2014-10-10', ' Italy', ' Azerbaijan', 2, 1, ' UEFA Euro qualification'], ['2014-10-13', ' Malta', ' Italy', 0, 1, ' UEFA Euro qualification'], ['2014-11-16', ' Italy', ' Croatia', 1, 1, ' UEFA Euro qualification'], ['2014-11-18', ' Italy', ' Albania', 1, 0, ' Friendly'], ['2015-03-28', ' Bulgaria', ' Italy', 2, 2, ' UEFA Euro qualification'], ['2015-03-31', ' Italy', ' England', 1, 1, ' Friendly'], ['2015-06-12', ' Croatia', ' Italy', 1, 1, ' UEFA Euro qualification'], ['2015-06-16', ' Italy', ' Portugal', 0, 1, ' Friendly'], ['2015-09-03', ' Italy', ' Malta', 1, 0, ' UEFA Euro qualification'], ['2015-09-06', ' Italy', ' Bulgaria', 1, 0, ' UEFA Euro qualification'], ['2015-10-10', ' Azerbaijan', ' Italy', 1, 3, ' UEFA Euro qualification'], ['2015-10-13', ' Italy', ' Norway', 2, 1, ' UEFA Euro qualification'], ['2015-11-13', ' Belgium', ' Italy', 3, 1, ' Friendly'], ['2015-11-17', ' Italy', ' Romania', 2, 2, ' Friendly'], ['2016-03-24', ' Italy', ' Spain', 1, 1, ' Friendly'], ['2016-03-29', ' Germany', ' Italy', 4, 1, ' Friendly'], ['2016-05-29', ' Italy', ' Scotland', 1, 0, ' Friendly'], ['2016-06-06', ' Italy', ' Finland', 2, 0, ' Friendly'], ['2016-06-13', ' Belgium', ' Italy', 0, 2, ' UEFA Euro'], ['2016-06-17', ' Italy', ' Sweden', 1, 0, ' UEFA Euro'], ['2016-06-22', ' Italy', ' Republic of Ireland', 0, 1, ' UEFA Euro'], ['2016-06-27', ' Italy', ' Spain', 2, 0, ' UEFA Euro'], ['2016-07-02', ' Germany', ' Italy', 1, 1, ' UEFA Euro'], ['2016-09-01', ' Italy', ' France', 1, 3, ' Friendly'], ['2016-09-05', ' Israel', ' Italy', 1, 3, ' FIFA World Cup qualification'], ['2016-10-06', ' Italy', ' Spain', 1, 1, ' FIFA World Cup qualification'], ['2016-10-09', ' North Macedonia', ' Italy', 2, 3, ' FIFA World Cup qualification'], ['2016-11-12', ' Liechtenstein', ' Italy', 0, 4, ' FIFA World Cup qualification'], ['2016-11-15', ' Italy', ' Germany', 0, 0, ' Friendly'], ['2017-03-24', ' Italy', ' Albania', 2, 0, ' FIFA World Cup qualification'], ['2017-03-28', ' Netherlands', ' Italy', 1, 2, ' Friendly'], ['2017-05-31', ' Italy', ' San Marino', 8, 0, ' Friendly'], ['2017-06-07', ' Italy', ' Uruguay', 3, 0, ' Friendly'], ['2017-06-11', ' Italy', ' Liechtenstein', 5, 0, ' FIFA World Cup qualification'], ['2017-09-02', ' Spain', ' Italy', 3, 0, ' FIFA World Cup qualification'], ['2017-09-05', ' Italy', ' Israel', 1, 0, ' FIFA World Cup qualification'], ['2017-10-06', ' Italy', ' North Macedonia', 1, 1, ' FIFA World Cup qualification'], ['2017-10-09', ' Albania', ' Italy', 0, 1, ' FIFA World Cup qualification'], ['2017-11-10', ' Sweden', ' Italy', 1, 0, ' FIFA World Cup qualification'], ['2017-11-13', ' Italy', ' Sweden', 0, 0, ' FIFA World Cup qualification'], ['2018-03-23', ' Italy', ' Argentina', 0, 2, ' Friendly'], ['2018-03-27', ' England', ' Italy', 1, 1, ' Friendly'], ['2018-05-28', ' Italy', ' Saudi Arabia', 2, 1, ' Friendly'], ['2018-06-01', ' France', ' Italy', 3, 1, ' Friendly'], ['2018-06-04', ' Italy', ' Netherlands', 1, 1, ' Friendly'], ['2018-09-07', ' Italy', ' Poland', 1, 1, ' UEFA Nations League'], ['2018-09-10', ' Portugal', ' Italy', 1, 0, ' UEFA Nations League'], ['2018-10-10', ' Italy', ' Ukraine', 1, 1, ' Friendly'], ['2018-10-14', ' Poland', ' Italy', 0, 1, ' UEFA Nations League'], ['2018-11-17', ' Italy', ' Portugal', 0, 0, ' UEFA Nations League'], ['2018-11-20', ' Italy', ' USA', 1, 0, ' Friendly'], ['2019-03-23', ' Italy', ' Finland', 2, 0, ' UEFA Euro qualification'], ['2019-03-26', ' Italy', ' Liechtenstein', 6, 0, ' UEFA Euro qualification'], ['2019-06-08', ' Greece', ' Italy', 0, 3, ' UEFA Euro qualification'], ['2019-06-11', ' Italy', ' Bosnia and Herzegovina', 2, 1, ' UEFA Euro qualification'], ['2019-09-05', ' Armenia', ' Italy', 1, 3, ' UEFA Euro qualification'], ['2019-09-08', ' Finland', ' Italy', 1, 2, ' UEFA Euro qualification'], ['2019-10-12', ' Italy', ' Greece', 2, 0, ' UEFA Euro qualification'], ['2019-10-15', ' Liechtenstein', ' Italy', 0, 5, ' UEFA Euro qualification'], ['2019-11-15', ' Bosnia and Herzegovina', ' Italy', 0, 3, ' UEFA Euro qualification'], ['2019-11-18', ' Italy', ' Armenia', 9, 1, ' UEFA Euro qualification'], ['2020-09-04', ' Italy', ' Bosnia and Herzegovina', 1, 1, ' UEFA Nations League'], ['2020-09-07', ' Netherlands', ' Italy', 0, 1, ' UEFA Nations League'], ['2020-10-07', ' Italy', ' Moldova', 6, 0, ' Friendly'], ['2020-10-11', ' Poland', ' Italy', 0, 0, ' UEFA Nations League'], ['2020-10-14', ' Italy', ' Netherlands', 1, 1, ' UEFA Nations League'], ['2020-11-11', ' Italy', ' Estonia', 4, 0, ' Friendly'], ['2020-11-15', ' Italy', ' Poland', 2, 0, ' UEFA Nations League'], ['2020-11-18', ' Bosnia and Herzegovina', ' Italy', 0, 2, ' UEFA Nations League'], ['2021-03-25', ' Italy', ' Northern Ireland', 2, 0, ' FIFA World Cup qualification'], ['2021-03-28', ' Bulgaria', ' Italy', 0, 2, ' FIFA World Cup qualification'], ['2021-03-31', ' Lithuania', ' Italy', 0, 2, ' FIFA World Cup qualification'], ['2021-05-28', ' Italy', ' San Marino', 7, 0, ' Friendly'], ['2021-06-04', ' Italy', ' Czech Republic', 4, 0, ' Friendly'], ['2021-06-11', ' Italy', ' Turkey', 3, 0, ' UEFA Euro'], ['2021-06-16', ' Italy', ' Switzerland', 3, 0, ' UEFA Euro'], ['2021-06-20', ' Italy', ' Wales', 1, 0, ' UEFA Euro'], ['2021-06-26', ' Italy', ' Austria', 2, 1, ' UEFA Euro'], ['2021-07-02', ' Belgium', ' Italy', 1, 2, ' UEFA Euro'], ['2021-07-06', ' Italy', ' Spain', 1, 1, ' UEFA Euro'], ['2021-07-11', ' England', ' Italy', 1, 1, ' UEFA Euro'], ['2021-09-02', ' Italy', ' Bulgaria', 1, 1, ' FIFA World Cup qualification'], ['2021-09-05', ' Switzerland', ' Italy', 0, 0, ' FIFA World Cup qualification'], ['2021-09-08', ' Italy', ' Lithuania', 5, 0, ' FIFA World Cup qualification'], ['2021-10-06', ' Italy', ' Spain', 1, 2, ' UEFA Nations League'], ['2021-10-10', ' Italy', ' Belgium', 2, 1, ' UEFA Nations League'], ['2021-11-12', ' Italy', ' Switzerland', 1, 1, ' FIFA World Cup qualification'], ['2021-11-15', ' Northern Ireland', ' Italy', 0, 0, ' FIFA World Cup qualification'], ['2022-03-24', ' Italy', ' North Macedonia', 0, 1, ' FIFA World Cup qualification'], ['2022-03-29', ' Turkey', ' Italy', 2, 3, ' Friendly'], ['2022-06-01', ' Italy', ' Argentina', 0, 3, ' CONMEBOL–UEFA Cup of Champions'], ['2022-06-04', ' Italy', ' Germany', 1, 1, ' UEFA Nations League'], ['2022-06-07', ' Italy', ' Hungary', 2, 1, ' UEFA Nations League'], ['2022-06-11', ' England', ' Italy', 0, 0, ' UEFA Nations League'], ['2022-06-14', ' Germany', ' Italy', 5, 2, ' UEFA Nations League']]\n",
      "['1993-09-22', ' Estonia', ' Italy', 0, 3, ' FIFA World Cup qualification']\n"
     ]
    }
   ],
   "source": [
    "lista = df_ita.values.tolist()\n",
    "print(lista)\n",
    "print(lista[0])"
   ]
  }
 ],
 "metadata": {
  "kernelspec": {
   "display_name": "Python 3",
   "language": "python",
   "name": "python3"
  },
  "language_info": {
   "codemirror_mode": {
    "name": "ipython",
    "version": 3
   },
   "file_extension": ".py",
   "mimetype": "text/x-python",
   "name": "python",
   "nbconvert_exporter": "python",
   "pygments_lexer": "ipython3",
   "version": "3.11.5"
  }
 },
 "nbformat": 4,
 "nbformat_minor": 2
}
