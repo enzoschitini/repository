{
 "cells": [
  {
   "cell_type": "markdown",
   "metadata": {},
   "source": [
    "# Data Science Portfolio\n",
    "Aqui você verá todos os meus projetos de Data Science divididos em grupos com as habilidades necessárias para obter os melhores Insights.\n",
    "\n",
    "<img src=\"https://raw.githubusercontent.com/enzoschitini/Adige/main/image/Group.png\" alt=\"capa\">\n",
    "\n",
    "---\n",
    "\n",
    "# **Bem-Vindo(a)!** • Veja o que eu fiz de melhor com cientista de dados\n",
    "**+ 18** Projetos \n",
    "#### [Enzo Schitini](https://www.linkedin.com/in/enzoschitini/) - Data Scientist • Expert Bubble.io • UX & UI @ Nugus creator\n",
    "\n",
    "---"
   ]
  },
  {
   "cell_type": "markdown",
   "metadata": {},
   "source": [
    "Vamos explorar dados de crédito e contém informações sobre clientes de uma instituição financeira. Em especial, estamos interessados em explicar a segunda coluna, chamada de **default**, que indica se um cliente é adimplente(`default = 0`), ou inadimplente (`default = 1`), ou seja, queremos entender o porque um cliente deixa de honrar com suas dívidas baseado no comportamento de outros atributos, como salário, escolaridade e movimentação financeira. Uma descrição completa dos atributos está abaixo."
   ]
  },
  {
   "cell_type": "markdown",
   "metadata": {},
   "source": [
    "#### **Análise Exploratória**\n",
    "\n",
    "<ol type=\"1\">\n",
    "  <li>Carregamento dos dados e entendimento do contexto</li>\n",
    "</ol>"
   ]
  },
  {
   "cell_type": "markdown",
   "metadata": {},
   "source": [
    "- `Variáveis do Dataset`"
   ]
  },
  {
   "cell_type": "markdown",
   "metadata": {},
   "source": [
    "| Coluna  | Descrição |\n",
    "| ------- | --------- |\n",
    "| id      | Número da conta |\n",
    "| default | Indica se o cliente é adimplente (0) ou inadimplente (1) |\n",
    "| idade   | --- |\n",
    "| sexo    | --- |\n",
    "| depedentes | --- |\n",
    "| escolaridade | --- |\n",
    "| estado_civil | --- |\n",
    "| salario_anual | Faixa do salario mensal multiplicado por 12 |\n",
    "| tipo_cartao | Categoria do cartao: blue, silver, gold e platinium |\n",
    "| meses_de_relacionamento | Quantidade de meses desde a abertura da conta |\n",
    "| qtd_produtos | Quantidade de produtos contratados |\n",
    "| iteracoes_12m | Quantidade de iteracoes com o cliente no último ano |\n",
    "| meses_inatico_12m | Quantidade de meses que o cliente ficou inativo no último ano |\n",
    "| limite_credito | Valor do limite do cartão de crédito |\n",
    "| valor_transacoes_12m | Soma total do valor das transações no cartão de crédito no último ano |\n",
    "| qtd_transacoes_12m | Quantidade total de transações no cartão de crédito no último ano |"
   ]
  },
  {
   "cell_type": "markdown",
   "metadata": {},
   "source": [
    "### Vamos começar a análise"
   ]
  },
  {
   "cell_type": "code",
   "execution_count": 15,
   "metadata": {},
   "outputs": [],
   "source": [
    "# Importando os pacotes\n",
    "import pandas as pd\n",
    "import matplotlib as plt"
   ]
  },
  {
   "cell_type": "markdown",
   "metadata": {},
   "source": [
    "- Carregando os dados"
   ]
  },
  {
   "cell_type": "code",
   "execution_count": 16,
   "metadata": {},
   "outputs": [],
   "source": [
    "df = pd.read_csv('./data.csv')"
   ]
  },
  {
   "cell_type": "markdown",
   "metadata": {},
   "source": [
    "### Estrutura dos dados"
   ]
  },
  {
   "cell_type": "code",
   "execution_count": 17,
   "metadata": {},
   "outputs": [
    {
     "name": "stdout",
     "output_type": "stream",
     "text": [
      "Temos 10127 linhas e 16 colunas.\n"
     ]
    }
   ],
   "source": [
    "linhas, colunas = df.shape\n",
    "print(f'Temos {linhas} linhas e {colunas} colunas.')"
   ]
  },
  {
   "cell_type": "code",
   "execution_count": 18,
   "metadata": {},
   "outputs": [
    {
     "data": {
      "text/plain": [
       "0        False\n",
       "1        False\n",
       "2        False\n",
       "3        False\n",
       "4        False\n",
       "         ...  \n",
       "10122    False\n",
       "10123    False\n",
       "10124    False\n",
       "10125    False\n",
       "10126    False\n",
       "Length: 10127, dtype: bool"
      ]
     },
     "execution_count": 18,
     "metadata": {},
     "output_type": "execute_result"
    }
   ],
   "source": [
    "df.duplicated()"
   ]
  },
  {
   "cell_type": "code",
   "execution_count": 19,
   "metadata": {},
   "outputs": [
    {
     "data": {
      "text/html": [
       "<div>\n",
       "<style scoped>\n",
       "    .dataframe tbody tr th:only-of-type {\n",
       "        vertical-align: middle;\n",
       "    }\n",
       "\n",
       "    .dataframe tbody tr th {\n",
       "        vertical-align: top;\n",
       "    }\n",
       "\n",
       "    .dataframe thead th {\n",
       "        text-align: right;\n",
       "    }\n",
       "</style>\n",
       "<table border=\"1\" class=\"dataframe\">\n",
       "  <thead>\n",
       "    <tr style=\"text-align: right;\">\n",
       "      <th></th>\n",
       "      <th>id</th>\n",
       "      <th>default</th>\n",
       "      <th>idade</th>\n",
       "      <th>sexo</th>\n",
       "      <th>dependentes</th>\n",
       "      <th>escolaridade</th>\n",
       "      <th>estado_civil</th>\n",
       "      <th>salario_anual</th>\n",
       "      <th>tipo_cartao</th>\n",
       "      <th>meses_de_relacionamento</th>\n",
       "      <th>qtd_produtos</th>\n",
       "      <th>iteracoes_12m</th>\n",
       "      <th>meses_inativo_12m</th>\n",
       "      <th>limite_credito</th>\n",
       "      <th>valor_transacoes_12m</th>\n",
       "      <th>qtd_transacoes_12m</th>\n",
       "    </tr>\n",
       "  </thead>\n",
       "  <tbody>\n",
       "    <tr>\n",
       "      <th>0</th>\n",
       "      <td>768805383</td>\n",
       "      <td>0</td>\n",
       "      <td>45</td>\n",
       "      <td>M</td>\n",
       "      <td>3</td>\n",
       "      <td>ensino medio</td>\n",
       "      <td>casado</td>\n",
       "      <td>$60K - $80K</td>\n",
       "      <td>blue</td>\n",
       "      <td>39</td>\n",
       "      <td>5</td>\n",
       "      <td>3</td>\n",
       "      <td>1</td>\n",
       "      <td>12.691,51</td>\n",
       "      <td>1.144,90</td>\n",
       "      <td>42</td>\n",
       "    </tr>\n",
       "    <tr>\n",
       "      <th>1</th>\n",
       "      <td>818770008</td>\n",
       "      <td>0</td>\n",
       "      <td>49</td>\n",
       "      <td>F</td>\n",
       "      <td>5</td>\n",
       "      <td>mestrado</td>\n",
       "      <td>solteiro</td>\n",
       "      <td>menos que $40K</td>\n",
       "      <td>blue</td>\n",
       "      <td>44</td>\n",
       "      <td>6</td>\n",
       "      <td>2</td>\n",
       "      <td>1</td>\n",
       "      <td>8.256,96</td>\n",
       "      <td>1.291,45</td>\n",
       "      <td>33</td>\n",
       "    </tr>\n",
       "    <tr>\n",
       "      <th>2</th>\n",
       "      <td>713982108</td>\n",
       "      <td>0</td>\n",
       "      <td>51</td>\n",
       "      <td>M</td>\n",
       "      <td>3</td>\n",
       "      <td>mestrado</td>\n",
       "      <td>casado</td>\n",
       "      <td>$80K - $120K</td>\n",
       "      <td>blue</td>\n",
       "      <td>36</td>\n",
       "      <td>4</td>\n",
       "      <td>0</td>\n",
       "      <td>1</td>\n",
       "      <td>3.418,56</td>\n",
       "      <td>1.887,72</td>\n",
       "      <td>20</td>\n",
       "    </tr>\n",
       "    <tr>\n",
       "      <th>3</th>\n",
       "      <td>769911858</td>\n",
       "      <td>0</td>\n",
       "      <td>40</td>\n",
       "      <td>F</td>\n",
       "      <td>4</td>\n",
       "      <td>ensino medio</td>\n",
       "      <td>na</td>\n",
       "      <td>menos que $40K</td>\n",
       "      <td>blue</td>\n",
       "      <td>34</td>\n",
       "      <td>3</td>\n",
       "      <td>1</td>\n",
       "      <td>4</td>\n",
       "      <td>3.313,03</td>\n",
       "      <td>1.171,56</td>\n",
       "      <td>20</td>\n",
       "    </tr>\n",
       "    <tr>\n",
       "      <th>4</th>\n",
       "      <td>709106358</td>\n",
       "      <td>0</td>\n",
       "      <td>40</td>\n",
       "      <td>M</td>\n",
       "      <td>3</td>\n",
       "      <td>sem educacao formal</td>\n",
       "      <td>casado</td>\n",
       "      <td>$60K - $80K</td>\n",
       "      <td>blue</td>\n",
       "      <td>21</td>\n",
       "      <td>5</td>\n",
       "      <td>0</td>\n",
       "      <td>1</td>\n",
       "      <td>4.716,22</td>\n",
       "      <td>816,08</td>\n",
       "      <td>28</td>\n",
       "    </tr>\n",
       "  </tbody>\n",
       "</table>\n",
       "</div>"
      ],
      "text/plain": [
       "          id  default  idade sexo  dependentes         escolaridade  \\\n",
       "0  768805383        0     45    M            3         ensino medio   \n",
       "1  818770008        0     49    F            5             mestrado   \n",
       "2  713982108        0     51    M            3             mestrado   \n",
       "3  769911858        0     40    F            4         ensino medio   \n",
       "4  709106358        0     40    M            3  sem educacao formal   \n",
       "\n",
       "  estado_civil   salario_anual tipo_cartao  meses_de_relacionamento  \\\n",
       "0       casado     $60K - $80K        blue                       39   \n",
       "1     solteiro  menos que $40K        blue                       44   \n",
       "2       casado    $80K - $120K        blue                       36   \n",
       "3           na  menos que $40K        blue                       34   \n",
       "4       casado     $60K - $80K        blue                       21   \n",
       "\n",
       "   qtd_produtos  iteracoes_12m  meses_inativo_12m limite_credito  \\\n",
       "0             5              3                  1      12.691,51   \n",
       "1             6              2                  1       8.256,96   \n",
       "2             4              0                  1       3.418,56   \n",
       "3             3              1                  4       3.313,03   \n",
       "4             5              0                  1       4.716,22   \n",
       "\n",
       "  valor_transacoes_12m  qtd_transacoes_12m  \n",
       "0             1.144,90                  42  \n",
       "1             1.291,45                  33  \n",
       "2             1.887,72                  20  \n",
       "3             1.171,56                  20  \n",
       "4               816,08                  28  "
      ]
     },
     "execution_count": 19,
     "metadata": {},
     "output_type": "execute_result"
    }
   ],
   "source": [
    "df.head(n=5)"
   ]
  },
  {
   "cell_type": "code",
   "execution_count": 20,
   "metadata": {},
   "outputs": [],
   "source": [
    "qtd_total, _ = df.shape\n",
    "qtd_adimplentes, _ = df[df['default'] == 0].shape\n",
    "qtd_inadimplentes, _ = df[df['default'] == 1].shape"
   ]
  },
  {
   "cell_type": "code",
   "execution_count": 21,
   "metadata": {},
   "outputs": [
    {
     "name": "stdout",
     "output_type": "stream",
     "text": [
      "A proporcão clientes adimplentes é de 83.93%\n",
      "A proporcão clientes inadimplentes é de 16.07%\n"
     ]
    }
   ],
   "source": [
    "print(f\"A proporcão clientes adimplentes é de {round(100 * qtd_adimplentes / qtd_total, 2)}%\")\n",
    "print(f\"A proporcão clientes inadimplentes é de {round(100 * qtd_inadimplentes / qtd_total, 2)}%\")"
   ]
  },
  {
   "cell_type": "markdown",
   "metadata": {},
   "source": [
    "### Schema"
   ]
  },
  {
   "cell_type": "markdown",
   "metadata": {},
   "source": [
    " - Colunas e seus respectivos tipos de dados."
   ]
  },
  {
   "cell_type": "code",
   "execution_count": 22,
   "metadata": {},
   "outputs": [
    {
     "data": {
      "text/plain": [
       "id                          int64\n",
       "default                     int64\n",
       "idade                       int64\n",
       "sexo                       object\n",
       "dependentes                 int64\n",
       "escolaridade               object\n",
       "estado_civil               object\n",
       "salario_anual              object\n",
       "tipo_cartao                object\n",
       "meses_de_relacionamento     int64\n",
       "qtd_produtos                int64\n",
       "iteracoes_12m               int64\n",
       "meses_inativo_12m           int64\n",
       "limite_credito             object\n",
       "valor_transacoes_12m       object\n",
       "qtd_transacoes_12m          int64\n",
       "dtype: object"
      ]
     },
     "execution_count": 22,
     "metadata": {},
     "output_type": "execute_result"
    }
   ],
   "source": [
    "df.dtypes"
   ]
  },
  {
   "cell_type": "markdown",
   "metadata": {},
   "source": [
    " - Atributos **categóricos**."
   ]
  },
  {
   "cell_type": "code",
   "execution_count": 23,
   "metadata": {},
   "outputs": [
    {
     "data": {
      "text/html": [
       "<div>\n",
       "<style scoped>\n",
       "    .dataframe tbody tr th:only-of-type {\n",
       "        vertical-align: middle;\n",
       "    }\n",
       "\n",
       "    .dataframe tbody tr th {\n",
       "        vertical-align: top;\n",
       "    }\n",
       "\n",
       "    .dataframe thead th {\n",
       "        text-align: right;\n",
       "    }\n",
       "</style>\n",
       "<table border=\"1\" class=\"dataframe\">\n",
       "  <thead>\n",
       "    <tr style=\"text-align: right;\">\n",
       "      <th></th>\n",
       "      <th>count</th>\n",
       "      <th>unique</th>\n",
       "      <th>top</th>\n",
       "      <th>freq</th>\n",
       "    </tr>\n",
       "  </thead>\n",
       "  <tbody>\n",
       "    <tr>\n",
       "      <th>sexo</th>\n",
       "      <td>10127</td>\n",
       "      <td>2</td>\n",
       "      <td>F</td>\n",
       "      <td>5358</td>\n",
       "    </tr>\n",
       "    <tr>\n",
       "      <th>escolaridade</th>\n",
       "      <td>10127</td>\n",
       "      <td>6</td>\n",
       "      <td>mestrado</td>\n",
       "      <td>3128</td>\n",
       "    </tr>\n",
       "    <tr>\n",
       "      <th>estado_civil</th>\n",
       "      <td>10127</td>\n",
       "      <td>4</td>\n",
       "      <td>casado</td>\n",
       "      <td>4687</td>\n",
       "    </tr>\n",
       "    <tr>\n",
       "      <th>salario_anual</th>\n",
       "      <td>10127</td>\n",
       "      <td>6</td>\n",
       "      <td>menos que $40K</td>\n",
       "      <td>3561</td>\n",
       "    </tr>\n",
       "    <tr>\n",
       "      <th>tipo_cartao</th>\n",
       "      <td>10127</td>\n",
       "      <td>4</td>\n",
       "      <td>blue</td>\n",
       "      <td>9436</td>\n",
       "    </tr>\n",
       "    <tr>\n",
       "      <th>limite_credito</th>\n",
       "      <td>10127</td>\n",
       "      <td>9272</td>\n",
       "      <td>1.438,21</td>\n",
       "      <td>11</td>\n",
       "    </tr>\n",
       "    <tr>\n",
       "      <th>valor_transacoes_12m</th>\n",
       "      <td>10127</td>\n",
       "      <td>10035</td>\n",
       "      <td>3.851,51</td>\n",
       "      <td>3</td>\n",
       "    </tr>\n",
       "  </tbody>\n",
       "</table>\n",
       "</div>"
      ],
      "text/plain": [
       "                      count unique             top  freq\n",
       "sexo                  10127      2               F  5358\n",
       "escolaridade          10127      6        mestrado  3128\n",
       "estado_civil          10127      4          casado  4687\n",
       "salario_anual         10127      6  menos que $40K  3561\n",
       "tipo_cartao           10127      4            blue  9436\n",
       "limite_credito        10127   9272        1.438,21    11\n",
       "valor_transacoes_12m  10127  10035        3.851,51     3"
      ]
     },
     "execution_count": 23,
     "metadata": {},
     "output_type": "execute_result"
    }
   ],
   "source": [
    "df.select_dtypes('object').describe().transpose() # freq / count = %"
   ]
  },
  {
   "cell_type": "code",
   "execution_count": 44,
   "metadata": {},
   "outputs": [
    {
     "name": "stdout",
     "output_type": "stream",
     "text": [
      "----------------------------------------\n",
      "sexo 2 categorias: ['M', 'F']\n",
      "----------------------------------------\n",
      "escolaridade 6 categorias: ['ensino medio', 'mestrado', 'sem educacao formal', 'na', 'graduacao', 'doutorado']\n",
      "----------------------------------------\n",
      "estado_civil 4 categorias: ['casado', 'solteiro', 'na', 'divorciado']\n",
      "----------------------------------------\n",
      "salario_anual 6 categorias: ['$60K - $80K', 'menos que $40K', '$80K - $120K', '$40K - $60K', '$120K +', 'na']\n",
      "----------------------------------------\n",
      "tipo_cartao 4 categorias: ['blue', 'gold', 'silver', 'platinum']\n"
     ]
    }
   ],
   "source": [
    "lista_colunas_categoricas = df.select_dtypes('object').columns\n",
    "\n",
    "for coluna in lista_colunas_categoricas:\n",
    "    categorias = df[coluna].unique().tolist()\n",
    "    \n",
    "    if len(categorias) <= 15:\n",
    "        print('----------------------------------------')\n",
    "        print(f'{coluna} {(len(categorias))} categorias: {categorias}')"
   ]
  },
  {
   "cell_type": "markdown",
   "metadata": {},
   "source": [
    " - Atributos **numéricos**."
   ]
  },
  {
   "cell_type": "code",
   "execution_count": 24,
   "metadata": {},
   "outputs": [
    {
     "data": {
      "text/html": [
       "<div>\n",
       "<style scoped>\n",
       "    .dataframe tbody tr th:only-of-type {\n",
       "        vertical-align: middle;\n",
       "    }\n",
       "\n",
       "    .dataframe tbody tr th {\n",
       "        vertical-align: top;\n",
       "    }\n",
       "\n",
       "    .dataframe thead th {\n",
       "        text-align: right;\n",
       "    }\n",
       "</style>\n",
       "<table border=\"1\" class=\"dataframe\">\n",
       "  <thead>\n",
       "    <tr style=\"text-align: right;\">\n",
       "      <th></th>\n",
       "      <th>count</th>\n",
       "      <th>mean</th>\n",
       "      <th>std</th>\n",
       "      <th>min</th>\n",
       "      <th>25%</th>\n",
       "      <th>50%</th>\n",
       "      <th>75%</th>\n",
       "      <th>max</th>\n",
       "    </tr>\n",
       "  </thead>\n",
       "  <tbody>\n",
       "    <tr>\n",
       "      <th>default</th>\n",
       "      <td>10127.0</td>\n",
       "      <td>0.160660</td>\n",
       "      <td>0.367235</td>\n",
       "      <td>0.0</td>\n",
       "      <td>0.0</td>\n",
       "      <td>0.0</td>\n",
       "      <td>0.0</td>\n",
       "      <td>1.0</td>\n",
       "    </tr>\n",
       "    <tr>\n",
       "      <th>idade</th>\n",
       "      <td>10127.0</td>\n",
       "      <td>46.325960</td>\n",
       "      <td>8.016814</td>\n",
       "      <td>26.0</td>\n",
       "      <td>41.0</td>\n",
       "      <td>46.0</td>\n",
       "      <td>52.0</td>\n",
       "      <td>73.0</td>\n",
       "    </tr>\n",
       "    <tr>\n",
       "      <th>dependentes</th>\n",
       "      <td>10127.0</td>\n",
       "      <td>2.346203</td>\n",
       "      <td>1.298908</td>\n",
       "      <td>0.0</td>\n",
       "      <td>1.0</td>\n",
       "      <td>2.0</td>\n",
       "      <td>3.0</td>\n",
       "      <td>5.0</td>\n",
       "    </tr>\n",
       "    <tr>\n",
       "      <th>meses_de_relacionamento</th>\n",
       "      <td>10127.0</td>\n",
       "      <td>35.928409</td>\n",
       "      <td>7.986416</td>\n",
       "      <td>13.0</td>\n",
       "      <td>31.0</td>\n",
       "      <td>36.0</td>\n",
       "      <td>40.0</td>\n",
       "      <td>56.0</td>\n",
       "    </tr>\n",
       "    <tr>\n",
       "      <th>qtd_produtos</th>\n",
       "      <td>10127.0</td>\n",
       "      <td>3.812580</td>\n",
       "      <td>1.554408</td>\n",
       "      <td>1.0</td>\n",
       "      <td>3.0</td>\n",
       "      <td>4.0</td>\n",
       "      <td>5.0</td>\n",
       "      <td>6.0</td>\n",
       "    </tr>\n",
       "    <tr>\n",
       "      <th>iteracoes_12m</th>\n",
       "      <td>10127.0</td>\n",
       "      <td>2.455317</td>\n",
       "      <td>1.106225</td>\n",
       "      <td>0.0</td>\n",
       "      <td>2.0</td>\n",
       "      <td>2.0</td>\n",
       "      <td>3.0</td>\n",
       "      <td>6.0</td>\n",
       "    </tr>\n",
       "    <tr>\n",
       "      <th>meses_inativo_12m</th>\n",
       "      <td>10127.0</td>\n",
       "      <td>2.341167</td>\n",
       "      <td>1.010622</td>\n",
       "      <td>0.0</td>\n",
       "      <td>2.0</td>\n",
       "      <td>2.0</td>\n",
       "      <td>3.0</td>\n",
       "      <td>6.0</td>\n",
       "    </tr>\n",
       "    <tr>\n",
       "      <th>qtd_transacoes_12m</th>\n",
       "      <td>10127.0</td>\n",
       "      <td>64.858695</td>\n",
       "      <td>23.472570</td>\n",
       "      <td>10.0</td>\n",
       "      <td>45.0</td>\n",
       "      <td>67.0</td>\n",
       "      <td>81.0</td>\n",
       "      <td>139.0</td>\n",
       "    </tr>\n",
       "  </tbody>\n",
       "</table>\n",
       "</div>"
      ],
      "text/plain": [
       "                           count       mean        std   min   25%   50%  \\\n",
       "default                  10127.0   0.160660   0.367235   0.0   0.0   0.0   \n",
       "idade                    10127.0  46.325960   8.016814  26.0  41.0  46.0   \n",
       "dependentes              10127.0   2.346203   1.298908   0.0   1.0   2.0   \n",
       "meses_de_relacionamento  10127.0  35.928409   7.986416  13.0  31.0  36.0   \n",
       "qtd_produtos             10127.0   3.812580   1.554408   1.0   3.0   4.0   \n",
       "iteracoes_12m            10127.0   2.455317   1.106225   0.0   2.0   2.0   \n",
       "meses_inativo_12m        10127.0   2.341167   1.010622   0.0   2.0   2.0   \n",
       "qtd_transacoes_12m       10127.0  64.858695  23.472570  10.0  45.0  67.0   \n",
       "\n",
       "                          75%    max  \n",
       "default                   0.0    1.0  \n",
       "idade                    52.0   73.0  \n",
       "dependentes               3.0    5.0  \n",
       "meses_de_relacionamento  40.0   56.0  \n",
       "qtd_produtos              5.0    6.0  \n",
       "iteracoes_12m             3.0    6.0  \n",
       "meses_inativo_12m         3.0    6.0  \n",
       "qtd_transacoes_12m       81.0  139.0  "
      ]
     },
     "execution_count": 24,
     "metadata": {},
     "output_type": "execute_result"
    }
   ],
   "source": [
    "df.drop('id', axis=1).select_dtypes('number').describe().transpose()"
   ]
  },
  {
   "cell_type": "markdown",
   "metadata": {},
   "source": [
    "### Tratamendo dos dados"
   ]
  }
 ],
 "metadata": {
  "kernelspec": {
   "display_name": "Python 3",
   "language": "python",
   "name": "python3"
  },
  "language_info": {
   "codemirror_mode": {
    "name": "ipython",
    "version": 3
   },
   "file_extension": ".py",
   "mimetype": "text/x-python",
   "name": "python",
   "nbconvert_exporter": "python",
   "pygments_lexer": "ipython3",
   "version": "3.11.5"
  }
 },
 "nbformat": 4,
 "nbformat_minor": 2
}
