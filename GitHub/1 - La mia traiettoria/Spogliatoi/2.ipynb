{
 "cells": [
  {
   "cell_type": "markdown",
   "metadata": {},
   "source": [
    "<img src=\"image/Group.png\" alt=\"logo\">\n",
    "\n",
    "---\n",
    "\n",
    "# **Spogliatoio** | Python: Data on national teams around the world since 1993\n",
    "\n",
    "Caderno de **Códigos**<br> \n",
    "Desenvolvedor [Enzo Schitini](https://enzo-schitini.bubbleapps.io/version-test/)\n",
    "\n",
    "---"
   ]
  },
  {
   "cell_type": "markdown",
   "metadata": {},
   "source": [
    "### **`Tópicos`**\n",
    "\n",
    "<ol type=\"1\">\n",
    "  <li>Introdução ao material</li>\n",
    "  <li>Criação dos dados</li>\n",
    "  <li>Análise exploratória</li>\n",
    "  <li>Algoritmo</li>\n",
    "  <li>Storytelling</li>\n",
    "</ol>\n",
    "\n",
    "> Os dados foram fornecidos pelo Kaggle\n",
    "---"
   ]
  },
  {
   "cell_type": "markdown",
   "metadata": {},
   "source": [
    "## 1\\. `Introdução ao material`"
   ]
  },
  {
   "cell_type": "markdown",
   "metadata": {},
   "source": [
    "#### 1.1\\. `.`"
   ]
  },
  {
   "cell_type": "markdown",
   "metadata": {},
   "source": [
    "#### 1.2\\. `Importando as funções`"
   ]
  },
  {
   "cell_type": "code",
   "execution_count": 156,
   "metadata": {},
   "outputs": [],
   "source": [
    "from functools import reduce\n",
    "import time\n",
    "from time import sleep\n",
    "import matplotlib\n",
    "import pandas as pd\n",
    "\n",
    "from adige import ArquivoCSV\n",
    "from adige import valore_abbreviato"
   ]
  },
  {
   "cell_type": "markdown",
   "metadata": {},
   "source": [
    "## 2\\. `Outros arquivos`"
   ]
  },
  {
   "cell_type": "markdown",
   "metadata": {},
   "source": [
    "## 3\\. `Análise exploratória`"
   ]
  },
  {
   "cell_type": "markdown",
   "metadata": {},
   "source": [
    "<img src=\"image/9940.png\" alt=\"logo\">\n",
    "\n",
    "---"
   ]
  },
  {
   "cell_type": "markdown",
   "metadata": {},
   "source": [
    "#### 3.1\\. `As colunas`"
   ]
  },
  {
   "cell_type": "markdown",
   "metadata": {},
   "source": [
    "| Coluna  | Descrição |\n",
    "| ------- | --------- |\n",
    "| id      | Número da conta |"
   ]
  },
  {
   "cell_type": "code",
   "execution_count": 157,
   "metadata": {},
   "outputs": [],
   "source": [
    "data = './base.csv'"
   ]
  },
  {
   "cell_type": "code",
   "execution_count": 158,
   "metadata": {},
   "outputs": [],
   "source": [
    "df = pd.read_csv(data)"
   ]
  },
  {
   "cell_type": "code",
   "execution_count": 159,
   "metadata": {},
   "outputs": [
    {
     "data": {
      "text/html": [
       "<div>\n",
       "<style scoped>\n",
       "    .dataframe tbody tr th:only-of-type {\n",
       "        vertical-align: middle;\n",
       "    }\n",
       "\n",
       "    .dataframe tbody tr th {\n",
       "        vertical-align: top;\n",
       "    }\n",
       "\n",
       "    .dataframe thead th {\n",
       "        text-align: right;\n",
       "    }\n",
       "</style>\n",
       "<table border=\"1\" class=\"dataframe\">\n",
       "  <thead>\n",
       "    <tr style=\"text-align: right;\">\n",
       "      <th></th>\n",
       "      <th>date</th>\n",
       "      <th>home_team</th>\n",
       "      <th>away_team</th>\n",
       "      <th>home_team_continent</th>\n",
       "      <th>away_team_continent</th>\n",
       "      <th>home_team_fifa_rank</th>\n",
       "      <th>away_team_fifa_rank</th>\n",
       "      <th>home_team_total_fifa_points</th>\n",
       "      <th>away_team_total_fifa_points</th>\n",
       "      <th>home_team_score</th>\n",
       "      <th>...</th>\n",
       "      <th>shoot_out</th>\n",
       "      <th>home_team_result</th>\n",
       "      <th>home_team_goalkeeper_score</th>\n",
       "      <th>away_team_goalkeeper_score</th>\n",
       "      <th>home_team_mean_defense_score</th>\n",
       "      <th>home_team_mean_offense_score</th>\n",
       "      <th>home_team_mean_midfield_score</th>\n",
       "      <th>away_team_mean_defense_score</th>\n",
       "      <th>away_team_mean_offense_score</th>\n",
       "      <th>away_team_mean_midfield_score</th>\n",
       "    </tr>\n",
       "  </thead>\n",
       "  <tbody>\n",
       "    <tr>\n",
       "      <th>0</th>\n",
       "      <td>1993-08-08</td>\n",
       "      <td>Bolivia</td>\n",
       "      <td>Uruguay</td>\n",
       "      <td>SouthAmerica</td>\n",
       "      <td>SouthAmerica</td>\n",
       "      <td>59</td>\n",
       "      <td>22</td>\n",
       "      <td>0</td>\n",
       "      <td>0</td>\n",
       "      <td>3</td>\n",
       "      <td>...</td>\n",
       "      <td>No</td>\n",
       "      <td>Win</td>\n",
       "      <td>NaN</td>\n",
       "      <td>NaN</td>\n",
       "      <td>NaN</td>\n",
       "      <td>NaN</td>\n",
       "      <td>NaN</td>\n",
       "      <td>NaN</td>\n",
       "      <td>NaN</td>\n",
       "      <td>NaN</td>\n",
       "    </tr>\n",
       "    <tr>\n",
       "      <th>1</th>\n",
       "      <td>1993-08-08</td>\n",
       "      <td>Brazil</td>\n",
       "      <td>Mexico</td>\n",
       "      <td>SouthAmerica</td>\n",
       "      <td>NorthAmerica</td>\n",
       "      <td>8</td>\n",
       "      <td>14</td>\n",
       "      <td>0</td>\n",
       "      <td>0</td>\n",
       "      <td>1</td>\n",
       "      <td>...</td>\n",
       "      <td>No</td>\n",
       "      <td>Draw</td>\n",
       "      <td>NaN</td>\n",
       "      <td>NaN</td>\n",
       "      <td>NaN</td>\n",
       "      <td>NaN</td>\n",
       "      <td>NaN</td>\n",
       "      <td>NaN</td>\n",
       "      <td>NaN</td>\n",
       "      <td>NaN</td>\n",
       "    </tr>\n",
       "    <tr>\n",
       "      <th>2</th>\n",
       "      <td>1993-08-08</td>\n",
       "      <td>Ecuador</td>\n",
       "      <td>Venezuela</td>\n",
       "      <td>SouthAmerica</td>\n",
       "      <td>SouthAmerica</td>\n",
       "      <td>35</td>\n",
       "      <td>94</td>\n",
       "      <td>0</td>\n",
       "      <td>0</td>\n",
       "      <td>5</td>\n",
       "      <td>...</td>\n",
       "      <td>No</td>\n",
       "      <td>Win</td>\n",
       "      <td>NaN</td>\n",
       "      <td>NaN</td>\n",
       "      <td>NaN</td>\n",
       "      <td>NaN</td>\n",
       "      <td>NaN</td>\n",
       "      <td>NaN</td>\n",
       "      <td>NaN</td>\n",
       "      <td>NaN</td>\n",
       "    </tr>\n",
       "    <tr>\n",
       "      <th>3</th>\n",
       "      <td>1993-08-08</td>\n",
       "      <td>Guinea</td>\n",
       "      <td>SierraLeone</td>\n",
       "      <td>Africa</td>\n",
       "      <td>Africa</td>\n",
       "      <td>65</td>\n",
       "      <td>86</td>\n",
       "      <td>0</td>\n",
       "      <td>0</td>\n",
       "      <td>1</td>\n",
       "      <td>...</td>\n",
       "      <td>No</td>\n",
       "      <td>Win</td>\n",
       "      <td>NaN</td>\n",
       "      <td>NaN</td>\n",
       "      <td>NaN</td>\n",
       "      <td>NaN</td>\n",
       "      <td>NaN</td>\n",
       "      <td>NaN</td>\n",
       "      <td>NaN</td>\n",
       "      <td>NaN</td>\n",
       "    </tr>\n",
       "    <tr>\n",
       "      <th>4</th>\n",
       "      <td>1993-08-08</td>\n",
       "      <td>Paraguay</td>\n",
       "      <td>Argentina</td>\n",
       "      <td>SouthAmerica</td>\n",
       "      <td>SouthAmerica</td>\n",
       "      <td>67</td>\n",
       "      <td>5</td>\n",
       "      <td>0</td>\n",
       "      <td>0</td>\n",
       "      <td>1</td>\n",
       "      <td>...</td>\n",
       "      <td>No</td>\n",
       "      <td>Lose</td>\n",
       "      <td>NaN</td>\n",
       "      <td>NaN</td>\n",
       "      <td>NaN</td>\n",
       "      <td>NaN</td>\n",
       "      <td>NaN</td>\n",
       "      <td>NaN</td>\n",
       "      <td>NaN</td>\n",
       "      <td>NaN</td>\n",
       "    </tr>\n",
       "  </tbody>\n",
       "</table>\n",
       "<p>5 rows × 25 columns</p>\n",
       "</div>"
      ],
      "text/plain": [
       "         date home_team    away_team home_team_continent away_team_continent  \\\n",
       "0  1993-08-08   Bolivia      Uruguay        SouthAmerica        SouthAmerica   \n",
       "1  1993-08-08    Brazil       Mexico        SouthAmerica        NorthAmerica   \n",
       "2  1993-08-08   Ecuador    Venezuela        SouthAmerica        SouthAmerica   \n",
       "3  1993-08-08    Guinea  SierraLeone              Africa              Africa   \n",
       "4  1993-08-08  Paraguay    Argentina        SouthAmerica        SouthAmerica   \n",
       "\n",
       "   home_team_fifa_rank  away_team_fifa_rank  home_team_total_fifa_points  \\\n",
       "0                   59                   22                            0   \n",
       "1                    8                   14                            0   \n",
       "2                   35                   94                            0   \n",
       "3                   65                   86                            0   \n",
       "4                   67                    5                            0   \n",
       "\n",
       "   away_team_total_fifa_points  home_team_score  ...  shoot_out  \\\n",
       "0                            0                3  ...         No   \n",
       "1                            0                1  ...         No   \n",
       "2                            0                5  ...         No   \n",
       "3                            0                1  ...         No   \n",
       "4                            0                1  ...         No   \n",
       "\n",
       "  home_team_result home_team_goalkeeper_score away_team_goalkeeper_score  \\\n",
       "0              Win                        NaN                        NaN   \n",
       "1             Draw                        NaN                        NaN   \n",
       "2              Win                        NaN                        NaN   \n",
       "3              Win                        NaN                        NaN   \n",
       "4             Lose                        NaN                        NaN   \n",
       "\n",
       "   home_team_mean_defense_score home_team_mean_offense_score  \\\n",
       "0                           NaN                          NaN   \n",
       "1                           NaN                          NaN   \n",
       "2                           NaN                          NaN   \n",
       "3                           NaN                          NaN   \n",
       "4                           NaN                          NaN   \n",
       "\n",
       "  home_team_mean_midfield_score  away_team_mean_defense_score  \\\n",
       "0                           NaN                           NaN   \n",
       "1                           NaN                           NaN   \n",
       "2                           NaN                           NaN   \n",
       "3                           NaN                           NaN   \n",
       "4                           NaN                           NaN   \n",
       "\n",
       "   away_team_mean_offense_score  away_team_mean_midfield_score  \n",
       "0                           NaN                            NaN  \n",
       "1                           NaN                            NaN  \n",
       "2                           NaN                            NaN  \n",
       "3                           NaN                            NaN  \n",
       "4                           NaN                            NaN  \n",
       "\n",
       "[5 rows x 25 columns]"
      ]
     },
     "execution_count": 159,
     "metadata": {},
     "output_type": "execute_result"
    }
   ],
   "source": [
    "df.head(n=5)"
   ]
  },
  {
   "cell_type": "code",
   "execution_count": 160,
   "metadata": {},
   "outputs": [],
   "source": [
    "csv = ArquivoCSV(data)\n",
    "torneo = list(set(csv.extrair_coluna(11)))\n",
    "nazionali = list(set(csv.extrair_coluna(1)))"
   ]
  },
  {
   "cell_type": "code",
   "execution_count": 161,
   "metadata": {},
   "outputs": [
    {
     "name": "stdout",
     "output_type": "stream",
     "text": [
      "Torneo: 82\n"
     ]
    }
   ],
   "source": [
    "print(f'Torneo: {len(torneo)}')"
   ]
  },
  {
   "cell_type": "code",
   "execution_count": 162,
   "metadata": {},
   "outputs": [
    {
     "name": "stdout",
     "output_type": "stream",
     "text": [
      "Ci sono 211 nazionali.\n"
     ]
    }
   ],
   "source": [
    "print(f'Ci sono {len(nazionali)} nazionali.')"
   ]
  },
  {
   "cell_type": "markdown",
   "metadata": {},
   "source": [
    "#### 3.2\\. `Estrutura`"
   ]
  },
  {
   "cell_type": "code",
   "execution_count": 163,
   "metadata": {},
   "outputs": [
    {
     "name": "stdout",
     "output_type": "stream",
     "text": [
      "O arquivo ./base.csv tem:\n",
      "23.921 linhas.\n",
      "25 colunas.\n"
     ]
    }
   ],
   "source": [
    "line, colonne = df.shape\n",
    "\n",
    "print(f'O arquivo {data} tem:')\n",
    "print(f'{valore_abbreviato(str(line))} linhas.')\n",
    "print(f'{valore_abbreviato(str(colonne))} colunas.')"
   ]
  },
  {
   "cell_type": "markdown",
   "metadata": {},
   "source": [
    "## 4\\. `Algoritmo`"
   ]
  },
  {
   "cell_type": "code",
   "execution_count": 164,
   "metadata": {},
   "outputs": [],
   "source": [
    "paese_da_cercare = 'Italy'"
   ]
  },
  {
   "cell_type": "code",
   "execution_count": 165,
   "metadata": {},
   "outputs": [],
   "source": [
    "df_paese_totale = df[(df['home_team'] == paese_da_cercare) | (df['away_team'] == paese_da_cercare)]"
   ]
  },
  {
   "cell_type": "code",
   "execution_count": 166,
   "metadata": {},
   "outputs": [
    {
     "name": "stdout",
     "output_type": "stream",
     "text": [
      "Totale di partite: 351\n"
     ]
    }
   ],
   "source": [
    "print(f'Totale di partite: {valore_abbreviato(str(len(df_paese_totale)))}')"
   ]
  },
  {
   "cell_type": "markdown",
   "metadata": {},
   "source": [
    "#### `Classe prestazioni della squadra (POO)`"
   ]
  },
  {
   "cell_type": "markdown",
   "metadata": {},
   "source": [
    "- Struttura"
   ]
  },
  {
   "cell_type": "code",
   "execution_count": 167,
   "metadata": {},
   "outputs": [
    {
     "name": "stdout",
     "output_type": "stream",
     "text": [
      "Italy ha avuto 351 partite.\n"
     ]
    }
   ],
   "source": [
    "class Prestazioni(object):\n",
    "\n",
    "    import pandas as pd\n",
    "    from adige import valore_abbreviato\n",
    "\n",
    "    def __init__(self, paese: str, data) -> None:\n",
    "        self.paese = paese\n",
    "        self.data = data\n",
    "    \n",
    "    def generale(self):\n",
    "        df_paese_totale = self.data[(self.data['home_team'] == self.paese) | (self.data['away_team'] == self.paese)]\n",
    "        totale = valore_abbreviato(str(len(df_paese_totale)))\n",
    "        return totale\n",
    "    \n",
    "    def vittorie(self):\n",
    "        \n",
    "        def calcoli(posto, score1, score2):\n",
    "            df_goal = self.data[['home_team', 'away_team', 'home_team_score', 'away_team_score', 'tournament']]\n",
    "            totale_di_partite = df_goal[df_goal[posto] == self.paese]\n",
    "            vittorie = df_goal[(df_goal[posto] == self.paese) & (self.data[score1] > self.data[score2])]\n",
    "\n",
    "            vittorie = valore_abbreviato(str(len(vittorie)))\n",
    "\n",
    "            # Proporzione\n",
    "            proporzione = round((float(vittorie) / len(totale_di_partite)) * 100, 2)\n",
    "            return len(totale_di_partite), vittorie, proporzione\n",
    "        \n",
    "        partite_dentro_casa = calcoli('home_team', 'home_team_score', 'away_team_score')[0]\n",
    "        vittorie_dentro_casa = calcoli('home_team', 'home_team_score', 'away_team_score')[1]\n",
    "        proporzione_dentro_casa = calcoli('home_team', 'home_team_score', 'away_team_score')[2]\n",
    "\n",
    "        partite_fuori_casa = calcoli('away_team', 'away_team_score', 'home_team_score')[0]\n",
    "        vittorie_fuori_casa = calcoli('away_team', 'away_team_score', 'home_team_score')[1]\n",
    "        proporzione_fuori_casa = calcoli('away_team', 'away_team_score', 'home_team_score')[2]\n",
    "\n",
    "        return partite_dentro_casa, vittorie_dentro_casa, proporzione_dentro_casa, partite_fuori_casa, vittorie_fuori_casa, proporzione_fuori_casa\n",
    "    \n",
    "    def pareggi(self):\n",
    "        \n",
    "        def calcoli(posto, score1, score2):\n",
    "            df_goal = self.data[['home_team', 'away_team', 'home_team_score', 'away_team_score', 'tournament']]\n",
    "            totale_di_partite = df_goal[df_goal[posto] == self.paese]\n",
    "            pareggi = df_goal[(df_goal[posto] == self.paese) & (self.data[score1] == self.data[score2])]\n",
    "\n",
    "            pareggi = valore_abbreviato(str(len(pareggi)))\n",
    "\n",
    "            # Proporzione\n",
    "            proporzione = round((float(pareggi) / len(totale_di_partite)) * 100, 2)\n",
    "            return len(totale_di_partite), pareggi, proporzione\n",
    "        \n",
    "        partite_dentro_casa = calcoli('home_team', 'home_team_score', 'away_team_score')[0]\n",
    "        pareggi_dentro_casa = calcoli('home_team', 'home_team_score', 'away_team_score')[1]\n",
    "        proporzione_dentro_casa = calcoli('home_team', 'home_team_score', 'away_team_score')[2]\n",
    "\n",
    "        partite_fuori_casa = calcoli('away_team', 'away_team_score', 'home_team_score')[0]\n",
    "        pareggi_fuori_casa = calcoli('away_team', 'away_team_score', 'home_team_score')[1]\n",
    "        proporzione_fuori_casa = calcoli('away_team', 'away_team_score', 'home_team_score')[2]\n",
    "\n",
    "        return partite_dentro_casa, pareggi_dentro_casa, proporzione_dentro_casa, partite_fuori_casa, pareggi_fuori_casa, proporzione_fuori_casa\n",
    "\n",
    "    def sconfitte(self):\n",
    "        \n",
    "        def calcoli(posto, score1, score2):\n",
    "            df_goal = self.data[['home_team', 'away_team', 'home_team_score', 'away_team_score', 'tournament']]\n",
    "            totale_di_partite = df_goal[df_goal[posto] == self.paese]\n",
    "            sconfitte = df_goal[(df_goal[posto] == self.paese) & (self.data[score1] < self.data[score2])]\n",
    "\n",
    "            sconfitte = valore_abbreviato(str(len(sconfitte)))\n",
    "\n",
    "            # Proporzione\n",
    "            proporzione = round((float(sconfitte) / len(totale_di_partite)) * 100, 2)\n",
    "            return len(totale_di_partite), sconfitte, proporzione\n",
    "        \n",
    "        partite_dentro_casa = calcoli('home_team', 'home_team_score', 'away_team_score')[0]\n",
    "        sconfitte_dentro_casa = calcoli('home_team', 'home_team_score', 'away_team_score')[1]\n",
    "        proporzione_dentro_casa = calcoli('home_team', 'home_team_score', 'away_team_score')[2]\n",
    "\n",
    "        partite_fuori_casa = calcoli('away_team', 'away_team_score', 'home_team_score')[0]\n",
    "        sconfitte_fuori_casa = calcoli('away_team', 'away_team_score', 'home_team_score')[1]\n",
    "        proporzione_fuori_casa = calcoli('away_team', 'away_team_score', 'home_team_score')[2]\n",
    "\n",
    "        return partite_dentro_casa, sconfitte_dentro_casa, proporzione_dentro_casa, partite_fuori_casa, sconfitte_fuori_casa, proporzione_fuori_casa\n",
    "\n",
    "italia = Prestazioni(paese_da_cercare, df)\n",
    "print(f'{italia.paese} ha avuto {italia.generale()} partite.')"
   ]
  },
  {
   "cell_type": "code",
   "execution_count": 168,
   "metadata": {},
   "outputs": [
    {
     "name": "stdout",
     "output_type": "stream",
     "text": [
      "199 partite, 117 vittorie e 58.79% di prestazione -- Dentro casa --\n",
      "152 partite, 71 vittorie e 46.71% di prestazione -- Fuori casa --\n"
     ]
    }
   ],
   "source": [
    "# Dentro casa\n",
    "print(f'{italia.vittorie()[0]} partite, {italia.vittorie()[1]} vittorie e {italia.vittorie()[2]}% di prestazione -- Dentro casa --')\n",
    "# Fuori casa\n",
    "print(f'{italia.vittorie()[3]} partite, {italia.vittorie()[4]} vittorie e {italia.vittorie()[5]}% di prestazione -- Fuori casa --')"
   ]
  },
  {
   "cell_type": "code",
   "execution_count": 169,
   "metadata": {},
   "outputs": [
    {
     "name": "stdout",
     "output_type": "stream",
     "text": [
      "199 partite, 55 pareggi e 27.64% di prestazione -- Dentro casa --\n",
      "152 partite, 48 pareggi e 31.58% di prestazione -- Fuori casa --\n"
     ]
    }
   ],
   "source": [
    "# Dentro casa\n",
    "print(f'{italia.pareggi()[0]} partite, {italia.pareggi()[1]} pareggi e {italia.pareggi()[2]}% di prestazione -- Dentro casa --')\n",
    "# Fuori casa\n",
    "print(f'{italia.pareggi()[3]} partite, {italia.pareggi()[4]} pareggi e {italia.pareggi()[5]}% di prestazione -- Fuori casa --')"
   ]
  },
  {
   "cell_type": "code",
   "execution_count": 170,
   "metadata": {},
   "outputs": [
    {
     "name": "stdout",
     "output_type": "stream",
     "text": [
      "199 partite, 27 sconfitte e 13.57% di prestazione -- Dentro casa --\n",
      "152 partite, 33 sconfitte e 21.71% di prestazione -- Fuori casa --\n"
     ]
    }
   ],
   "source": [
    "# Dentro casa\n",
    "print(f'{italia.sconfitte()[0]} partite, {italia.sconfitte()[1]} sconfitte e {italia.sconfitte()[2]}% di prestazione -- Dentro casa --')\n",
    "# Fuori casa\n",
    "print(f'{italia.sconfitte()[3]} partite, {italia.sconfitte()[4]} sconfitte e {italia.sconfitte()[5]}% di prestazione -- Fuori casa --')"
   ]
  },
  {
   "cell_type": "code",
   "execution_count": 171,
   "metadata": {},
   "outputs": [
    {
     "name": "stdout",
     "output_type": "stream",
     "text": [
      "Italy nel torneo UEFAEURO ha avuto 34 partite:\n",
      "---------------------------------------------------------------\n",
      "17 partite, 11 vittorie e 64.71% di prestazione -- Dentro casa\n",
      "17 partite, 6 vittorie e 35.29% di prestazione -- Fuori casa\n",
      "\n",
      "17 partite, 5 pareggi e 29.41% di prestazione -- Dentro casa\n",
      "17 partite, 7 pareggi e 41.18% di prestazione -- Fuori casa\n",
      "\n",
      "17 partite, 1 sconfitte e 5.88% di prestazione -- Dentro casa\n",
      "17 partite, 4 sconfitte e 23.53% di prestazione -- Fuori casa\n"
     ]
    }
   ],
   "source": [
    "def comportamento_in_un_torneo(paese, torneo:str):\n",
    "    torneo_df = df[df['tournament'] == torneo]\n",
    "    italia = Prestazioni(paese_da_cercare, torneo_df)\n",
    "    print(f'{paese} nel torneo {torneo.upper()} ha avuto {italia.generale()} partite:')\n",
    "    print('---------------------------------------------------------------')\n",
    "\n",
    "    print(f'{italia.vittorie()[0]} partite, {italia.vittorie()[1]} vittorie e {italia.vittorie()[2]}% di prestazione -- Dentro casa')\n",
    "    print(f'{italia.vittorie()[3]} partite, {italia.vittorie()[4]} vittorie e {italia.vittorie()[5]}% di prestazione -- Fuori casa\\n')\n",
    "\n",
    "    print(f'{italia.pareggi()[0]} partite, {italia.pareggi()[1]} pareggi e {italia.pareggi()[2]}% di prestazione -- Dentro casa')\n",
    "    print(f'{italia.pareggi()[3]} partite, {italia.pareggi()[4]} pareggi e {italia.pareggi()[5]}% di prestazione -- Fuori casa\\n')\n",
    "\n",
    "    print(f'{italia.sconfitte()[0]} partite, {italia.sconfitte()[1]} sconfitte e {italia.sconfitte()[2]}% di prestazione -- Dentro casa')\n",
    "    print(f'{italia.sconfitte()[3]} partite, {italia.sconfitte()[4]} sconfitte e {italia.sconfitte()[5]}% di prestazione -- Fuori casa')\n",
    "\n",
    "# FIFAWorldCup Friendly CONCACAFNationsLeague UEFAEuroqualification FIFAWorldCupqualification CopaAmérica UEFAEuro\n",
    "paese_da_cercare = 'Italy'\n",
    "try:\n",
    "    comportamento_in_un_torneo(paese_da_cercare, 'UEFAEuro')\n",
    "except:\n",
    "    print('\\nATTENZIONE!')\n",
    "    print(f'Mi sa che {paese_da_cercare} non ha mai partecipato a questo torneo.')"
   ]
  },
  {
   "cell_type": "markdown",
   "metadata": {},
   "source": [
    "#### `Vittorie e sconfitte`"
   ]
  },
  {
   "cell_type": "markdown",
   "metadata": {},
   "source": [
    "### A casa"
   ]
  },
  {
   "cell_type": "markdown",
   "metadata": {},
   "source": [
    "- Le vittorie"
   ]
  },
  {
   "cell_type": "code",
   "execution_count": 172,
   "metadata": {},
   "outputs": [],
   "source": [
    "def calcolare_le_vittorie(paese, data):\n",
    "    df_goal = data[['home_team', 'away_team', 'home_team_score', 'away_team_score', 'tournament']]\n",
    "    totale_di_partite_a_casa = df_goal[df_goal['home_team'] == paese]\n",
    "    df_paese_vittorie_in_casa = df_goal[(df_goal['home_team'] == paese) & (data['home_team_score'] > data['away_team_score'])]\n",
    "    \n",
    "    # Proporzione\n",
    "    proporzione = round((len(df_paese_vittorie_in_casa) / len(totale_di_partite_a_casa)) * 100, 2)\n",
    "    print(f'{paese.upper()} ha avuto: {valore_abbreviato(str(len(df_paese_vittorie_in_casa)))} vittorie a casa su {valore_abbreviato(str(len(totale_di_partite_a_casa)))} partite giocate. {proporzione}%')\n",
    "\n",
    "    return df_paese_vittorie_in_casa\n",
    "\n",
    "#vittorie = calcolare_le_vittorie()\n",
    "#vittorie.head(n=25)"
   ]
  },
  {
   "cell_type": "markdown",
   "metadata": {},
   "source": [
    "- Le sconfitte"
   ]
  },
  {
   "cell_type": "code",
   "execution_count": 173,
   "metadata": {},
   "outputs": [],
   "source": [
    "def calcolare_le_sconfitte(paese, data):\n",
    "    df_goal = data[['home_team', 'away_team', 'home_team_score', 'away_team_score', 'tournament']]\n",
    "    totale_di_partite_a_casa = df_goal[df_goal['home_team'] == paese]\n",
    "    df_paese_sconfitte_in_casa = df_goal[(df_goal['home_team'] == paese) & (data['home_team_score'] < data['away_team_score'])]\n",
    "\n",
    "    # Proporzione\n",
    "    proporzione = round((len(df_paese_sconfitte_in_casa) / len(totale_di_partite_a_casa)) * 100, 2)\n",
    "    print(f'{paese.upper()} ha avuto: {valore_abbreviato(str(len(df_paese_sconfitte_in_casa)))} sconfitte a casa su {valore_abbreviato(str(len(totale_di_partite_a_casa)))} partite giocate. {proporzione}%')\n",
    "\n",
    "    return df_paese_sconfitte_in_casa\n",
    "\n",
    "#sconfitte = calcolare_le_sconfitte()\n",
    "#sconfitte.head(n=25)"
   ]
  },
  {
   "cell_type": "markdown",
   "metadata": {},
   "source": [
    "- Pareggi"
   ]
  },
  {
   "cell_type": "code",
   "execution_count": 174,
   "metadata": {},
   "outputs": [],
   "source": [
    "def calcolare_le_pareggi(paese, data):\n",
    "    df_goal = data[['home_team', 'away_team', 'home_team_score', 'away_team_score', 'tournament']]\n",
    "    totale_di_partite_a_casa = df_goal[df_goal['home_team'] == paese]\n",
    "    df_paese_pareggi_in_casa = df_goal[(df_goal['home_team'] == paese) & (data['home_team_score'] == data['away_team_score'])]\n",
    "\n",
    "    # Proporzione\n",
    "    proporzione = round((len(df_paese_pareggi_in_casa) / len(totale_di_partite_a_casa)) * 100, 2)\n",
    "    print(f'{paese.upper()} ha avuto: {valore_abbreviato(str(len(df_paese_pareggi_in_casa)))} pareggi a casa su {valore_abbreviato(str(len(totale_di_partite_a_casa)))} partite giocate. {proporzione}%')\n",
    "\n",
    "    return df_paese_pareggi_in_casa\n",
    "\n",
    "#pareggi = calcolare_le_pareggi()\n",
    "#pareggi.head(n=25)"
   ]
  },
  {
   "cell_type": "code",
   "execution_count": 175,
   "metadata": {},
   "outputs": [
    {
     "name": "stdout",
     "output_type": "stream",
     "text": [
      "ITALY ha avuto: 117 vittorie a casa su 199 partite giocate. 58.79%\n",
      "ITALY ha avuto: 27 sconfitte a casa su 199 partite giocate. 13.57%\n",
      "ITALY ha avuto: 55 pareggi a casa su 199 partite giocate. 27.64%\n"
     ]
    }
   ],
   "source": [
    "vittorie = calcolare_le_vittorie(paese_da_cercare, df)\n",
    "sconfitte = calcolare_le_sconfitte(paese_da_cercare, df)\n",
    "pareggi = calcolare_le_pareggi(paese_da_cercare, df)"
   ]
  },
  {
   "cell_type": "markdown",
   "metadata": {},
   "source": [
    "### Fuori casa"
   ]
  },
  {
   "cell_type": "markdown",
   "metadata": {},
   "source": [
    "- Le vittoria"
   ]
  },
  {
   "cell_type": "code",
   "execution_count": 176,
   "metadata": {},
   "outputs": [
    {
     "name": "stdout",
     "output_type": "stream",
     "text": [
      "ITALY ha avuto: 71 vittorie fuori casa su 152 partite giocate. 46.71%\n"
     ]
    }
   ],
   "source": [
    "def calcolare_le_vittorie_fuori(paese, data):\n",
    "    df_goal = data[['home_team', 'away_team', 'home_team_score', 'away_team_score', 'tournament']]\n",
    "    totale_di_partite_fuori = df_goal[df_goal['away_team'] == paese]\n",
    "    df_paese_vittorie_fuori = df_goal[(df_goal['away_team'] == paese) & (data['away_team_score'] > data['home_team_score'])]\n",
    "    \n",
    "    # Proporzione\n",
    "    proporzione = round((len(df_paese_vittorie_fuori) / len(totale_di_partite_fuori)) * 100, 2)\n",
    "    print(f'{paese.upper()} ha avuto: {valore_abbreviato(str(len(df_paese_vittorie_fuori)))} vittorie fuori casa su {valore_abbreviato(str(len(totale_di_partite_fuori)))} partite giocate. {proporzione}%')\n",
    "\n",
    "    return df_paese_vittorie_fuori\n",
    "\n",
    "vittorie_fuori = calcolare_le_vittorie_fuori(paese_da_cercare, df)\n",
    "#vittorie_fuori.head(n=25)"
   ]
  },
  {
   "cell_type": "markdown",
   "metadata": {},
   "source": [
    "- Le sconfitte"
   ]
  },
  {
   "cell_type": "code",
   "execution_count": 177,
   "metadata": {},
   "outputs": [
    {
     "name": "stdout",
     "output_type": "stream",
     "text": [
      "ITALY ha avuto: 33 sconfitte fuori casa su 152 partite giocate. 21.71%\n"
     ]
    }
   ],
   "source": [
    "def calcolare_le_sconfitte_fuori(paese, data):\n",
    "    df_goal = data[['home_team', 'away_team', 'home_team_score', 'away_team_score', 'tournament']]\n",
    "    totale_di_partite_fuori = df_goal[df_goal['away_team'] == paese]\n",
    "    df_paese_sconfitte_fuori = df_goal[(df_goal['away_team'] == paese) & (data['away_team_score'] < data['home_team_score'])]\n",
    "\n",
    "    # Proporzione\n",
    "    proporzione = round((len(df_paese_sconfitte_fuori) / len(totale_di_partite_fuori)) * 100, 2)\n",
    "    print(f'{paese.upper()} ha avuto: {valore_abbreviato(str(len(df_paese_sconfitte_fuori)))} sconfitte fuori casa su {valore_abbreviato(str(len(totale_di_partite_fuori)))} partite giocate. {proporzione}%')\n",
    "\n",
    "    return df_paese_sconfitte_fuori\n",
    "\n",
    "sconfitte_fuori = calcolare_le_sconfitte_fuori(paese_da_cercare, df)\n",
    "#sconfitte_fuori.head(n=25)"
   ]
  },
  {
   "cell_type": "markdown",
   "metadata": {},
   "source": [
    "- I pareggi"
   ]
  },
  {
   "cell_type": "code",
   "execution_count": 178,
   "metadata": {},
   "outputs": [
    {
     "name": "stdout",
     "output_type": "stream",
     "text": [
      "ITALY ha avuto: 48 pareggi fuori casa su 152 partite giocate. 31.58%\n"
     ]
    }
   ],
   "source": [
    "def calcolare_le_pareggi_fuori(paese, data):\n",
    "    df_goal = data[['home_team', 'away_team', 'home_team_score', 'away_team_score', 'tournament']]\n",
    "    totale_di_partite_fuori = df_goal[df_goal['away_team'] == paese]\n",
    "    df_paese_pareggi_fuori = df_goal[(df_goal['away_team'] == paese) & (data['home_team_score'] == data['away_team_score'])]\n",
    "\n",
    "    # Proporzione\n",
    "    proporzione = round((len(df_paese_pareggi_fuori) / len(totale_di_partite_fuori)) * 100, 2)\n",
    "    print(f'{paese.upper()} ha avuto: {valore_abbreviato(str(len(df_paese_pareggi_fuori)))} pareggi fuori casa su {valore_abbreviato(str(len(totale_di_partite_fuori)))} partite giocate. {proporzione}%')\n",
    "\n",
    "    return df_paese_pareggi_fuori\n",
    "\n",
    "pareggi = calcolare_le_pareggi_fuori(paese_da_cercare, df)\n",
    "#pareggi.head(n=25)"
   ]
  },
  {
   "cell_type": "code",
   "execution_count": 179,
   "metadata": {},
   "outputs": [
    {
     "name": "stdout",
     "output_type": "stream",
     "text": [
      "ITALY ha avuto: 117 vittorie a casa su 199 partite giocate. 58.79%\n",
      "ITALY ha avuto: 27 sconfitte a casa su 199 partite giocate. 13.57%\n",
      "ITALY ha avuto: 55 pareggi a casa su 199 partite giocate. 27.64%\n"
     ]
    }
   ],
   "source": [
    "vittorie_a_casa = calcolare_le_vittorie(paese_da_cercare, df)\n",
    "sconfitte_a_casa = calcolare_le_sconfitte(paese_da_cercare, df)\n",
    "pareggi_a_casa = calcolare_le_pareggi(paese_da_cercare, df)"
   ]
  },
  {
   "cell_type": "code",
   "execution_count": 180,
   "metadata": {},
   "outputs": [
    {
     "name": "stdout",
     "output_type": "stream",
     "text": [
      "ITALY ha avuto: 71 vittorie fuori casa su 152 partite giocate. 46.71%\n",
      "ITALY ha avuto: 33 sconfitte fuori casa su 152 partite giocate. 21.71%\n",
      "ITALY ha avuto: 48 pareggi fuori casa su 152 partite giocate. 31.58%\n"
     ]
    }
   ],
   "source": [
    "vittorie_fuori_casa = calcolare_le_vittorie_fuori(paese_da_cercare, df)\n",
    "sconfitte_fuori_casa = calcolare_le_sconfitte_fuori(paese_da_cercare, df)\n",
    "pareggi_fuori_casa = calcolare_le_pareggi_fuori(paese_da_cercare, df)"
   ]
  },
  {
   "cell_type": "code",
   "execution_count": 181,
   "metadata": {},
   "outputs": [
    {
     "name": "stdout",
     "output_type": "stream",
     "text": [
      "Italy nel torneo FIFAWORLDCUPQUALIFICATION:\n",
      "-------------------------------------------------------------------------\n",
      "ITALY ha avuto: 28 vittorie a casa su 37 partite giocate. 75.68%\n",
      "ITALY ha avuto: 1 sconfitte a casa su 37 partite giocate. 2.7%\n",
      "ITALY ha avuto: 8 pareggi a casa su 37 partite giocate. 21.62%\n",
      "-------------------------------------------------------------------------\n",
      "ITALY ha avuto: 18 vittorie fuori casa su 35 partite giocate. 51.43%\n",
      "ITALY ha avuto: 3 sconfitte fuori casa su 35 partite giocate. 8.57%\n",
      "ITALY ha avuto: 14 pareggi fuori casa su 35 partite giocate. 40.0%\n",
      "\n",
      "\n"
     ]
    }
   ],
   "source": [
    "def comportamento_in_un_torneo(paese, torneo:str):\n",
    "    torneo_df = df[df['tournament'] == torneo]\n",
    "    print(f'{paese} nel torneo {torneo.upper()}:')\n",
    "    print('-------------------------------------------------------------------------')\n",
    "\n",
    "    calcolare_le_vittorie(paese_da_cercare, torneo_df)\n",
    "    calcolare_le_sconfitte(paese_da_cercare, torneo_df)\n",
    "    calcolare_le_pareggi(paese_da_cercare, torneo_df)\n",
    "    print('-------------------------------------------------------------------------')\n",
    "    calcolare_le_vittorie_fuori(paese_da_cercare, torneo_df)\n",
    "    calcolare_le_sconfitte_fuori(paese_da_cercare, torneo_df)\n",
    "    calcolare_le_pareggi_fuori(paese_da_cercare, torneo_df)\n",
    "    print('\\n')\n",
    "\n",
    "# FIFAWorldCup Friendly CONCACAFNationsLeague UEFAEuroqualification FIFAWorldCupqualification CopaAmérica UEFAEuro\n",
    "\n",
    "try:\n",
    "    comportamento_in_un_torneo(paese_da_cercare, 'FIFAWorldCupqualification')\n",
    "except:\n",
    "    print('\\nATTENZIONE!')\n",
    "    print(f'Mi sa che {paese_da_cercare} non ha mai partecipato a questo torneo.')"
   ]
  },
  {
   "cell_type": "code",
   "execution_count": 182,
   "metadata": {},
   "outputs": [
    {
     "data": {
      "image/png": "[encoded data removed]",
      "text/plain": [
       "<Figure size 640x480 with 1 Axes>"
      ]
     },
     "metadata": {},
     "output_type": "display_data"
    }
   ],
   "source": [
    "import matplotlib.pyplot as plt\n",
    "\n",
    "# Look at index 4 and 6, which demonstrate overlapping cases.\n",
    "x1 = ['GERALE', 'UEFAEuro', 'Friendly'] # Pareamento entre índice de satisfação (x) e número de clientes (y)\n",
    "y1 = [58.79, 47.37, 47.5] # Vittorie\n",
    "\n",
    "x2 = ['GERALE', 'UEFAEuro', 'Friendly'] # Pareamento entre índice de satisfação (x) e número de clientes (y)\n",
    "y2 = [27.64, 31.58, 32.5] # Pareggi\n",
    "\n",
    "x3 = ['GERALE', 'UEFAEuro', 'Friendly']\n",
    "y3 = [13.57, 21.05, 20.0] # Sconfitte\n",
    "\n",
    "# Mais cores: https://matplotlib.org/api/colors_api.html\n",
    "\n",
    "plt.bar(x1, y1, label=\"Vittorie\", color='g')\n",
    "plt.bar(x2, y2, label=\"Pareggi\", color='y')\n",
    "plt.bar(x3, y3, label=\"Sconfitte\", color='r')\n",
    "plt.plot()\n",
    "        \n",
    "plt.ylabel(\"Percentuale di vittoria\")\n",
    "plt.title(\"Parafonado le vittorie in un torneo\")\n",
    "#plt.legend()\n",
    "plt.show()"
   ]
  }
 ],
 "metadata": {
  "kernelspec": {
   "display_name": "Python 3",
   "language": "python",
   "name": "python3"
  },
  "language_info": {
   "codemirror_mode": {
    "name": "ipython",
    "version": 3
   },
   "file_extension": ".py",
   "mimetype": "text/x-python",
   "name": "python",
   "nbconvert_exporter": "python",
   "pygments_lexer": "ipython3",
   "version": "3.11.5"
  }
 },
 "nbformat": 4,
 "nbformat_minor": 2
}
