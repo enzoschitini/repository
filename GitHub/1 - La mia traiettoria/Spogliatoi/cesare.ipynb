{
 "cells": [
  {
   "cell_type": "markdown",
   "metadata": {},
   "source": [
    "<img src=\"image/Group.png\" alt=\"logo\">\n",
    "\n",
    "---\n",
    "\n",
    "# **Cesare** | Python: Data on national teams around the world since 1993\n",
    "\n",
    "Prediction **algorithm**<br> \n",
    "Desenvolvedor [Enzo Schitini](https://enzo-schitini.bubbleapps.io/version-test/)\n",
    "\n",
    "---"
   ]
  },
  {
   "cell_type": "code",
   "execution_count": 143,
   "metadata": {},
   "outputs": [],
   "source": [
    "from functools import reduce\n",
    "import time\n",
    "from time import sleep\n",
    "import matplotlib\n",
    "import pandas as pd\n",
    "import missingno as msno\n",
    "\n",
    "from adige import ArquivoCSV\n",
    "from adige import valore_abbreviato"
   ]
  },
  {
   "cell_type": "code",
   "execution_count": 144,
   "metadata": {},
   "outputs": [],
   "source": [
    "data = './base.csv'"
   ]
  },
  {
   "cell_type": "code",
   "execution_count": 145,
   "metadata": {},
   "outputs": [],
   "source": [
    "df = pd.read_csv(data)"
   ]
  },
  {
   "cell_type": "code",
   "execution_count": 146,
   "metadata": {},
   "outputs": [],
   "source": [
    "df = df[['date', 'home_team', 'away_team', 'home_team_score', 'away_team_score', 'tournament']]"
   ]
  },
  {
   "cell_type": "code",
   "execution_count": 147,
   "metadata": {},
   "outputs": [],
   "source": [
    "df = df[(df['tournament'] == 'FIFAWorldCup') | (df['tournament'] == 'Friendly') | (df['tournament'] == 'UEFAEuroqualification') | (df['tournament'] == 'FIFAWorldCupqualification') | (df['tournament'] == 'CopaAmérica') | (df['tournament'] == 'UEFAEuro')]"
   ]
  },
  {
   "cell_type": "code",
   "execution_count": 148,
   "metadata": {},
   "outputs": [
    {
     "data": {
      "text/html": [
       "<div>\n",
       "<style scoped>\n",
       "    .dataframe tbody tr th:only-of-type {\n",
       "        vertical-align: middle;\n",
       "    }\n",
       "\n",
       "    .dataframe tbody tr th {\n",
       "        vertical-align: top;\n",
       "    }\n",
       "\n",
       "    .dataframe thead th {\n",
       "        text-align: right;\n",
       "    }\n",
       "</style>\n",
       "<table border=\"1\" class=\"dataframe\">\n",
       "  <thead>\n",
       "    <tr style=\"text-align: right;\">\n",
       "      <th></th>\n",
       "      <th>date</th>\n",
       "      <th>home_team</th>\n",
       "      <th>away_team</th>\n",
       "      <th>home_team_score</th>\n",
       "      <th>away_team_score</th>\n",
       "      <th>tournament</th>\n",
       "    </tr>\n",
       "  </thead>\n",
       "  <tbody>\n",
       "    <tr>\n",
       "      <th>0</th>\n",
       "      <td>1993-08-08</td>\n",
       "      <td>Bolivia</td>\n",
       "      <td>Uruguay</td>\n",
       "      <td>3</td>\n",
       "      <td>1</td>\n",
       "      <td>FIFAWorldCupqualification</td>\n",
       "    </tr>\n",
       "    <tr>\n",
       "      <th>1</th>\n",
       "      <td>1993-08-08</td>\n",
       "      <td>Brazil</td>\n",
       "      <td>Mexico</td>\n",
       "      <td>1</td>\n",
       "      <td>1</td>\n",
       "      <td>Friendly</td>\n",
       "    </tr>\n",
       "    <tr>\n",
       "      <th>2</th>\n",
       "      <td>1993-08-08</td>\n",
       "      <td>Ecuador</td>\n",
       "      <td>Venezuela</td>\n",
       "      <td>5</td>\n",
       "      <td>0</td>\n",
       "      <td>FIFAWorldCupqualification</td>\n",
       "    </tr>\n",
       "    <tr>\n",
       "      <th>3</th>\n",
       "      <td>1993-08-08</td>\n",
       "      <td>Guinea</td>\n",
       "      <td>SierraLeone</td>\n",
       "      <td>1</td>\n",
       "      <td>0</td>\n",
       "      <td>Friendly</td>\n",
       "    </tr>\n",
       "    <tr>\n",
       "      <th>4</th>\n",
       "      <td>1993-08-08</td>\n",
       "      <td>Paraguay</td>\n",
       "      <td>Argentina</td>\n",
       "      <td>1</td>\n",
       "      <td>3</td>\n",
       "      <td>FIFAWorldCupqualification</td>\n",
       "    </tr>\n",
       "  </tbody>\n",
       "</table>\n",
       "</div>"
      ],
      "text/plain": [
       "         date home_team    away_team  home_team_score  away_team_score  \\\n",
       "0  1993-08-08   Bolivia      Uruguay                3                1   \n",
       "1  1993-08-08    Brazil       Mexico                1                1   \n",
       "2  1993-08-08   Ecuador    Venezuela                5                0   \n",
       "3  1993-08-08    Guinea  SierraLeone                1                0   \n",
       "4  1993-08-08  Paraguay    Argentina                1                3   \n",
       "\n",
       "                  tournament  \n",
       "0  FIFAWorldCupqualification  \n",
       "1                   Friendly  \n",
       "2  FIFAWorldCupqualification  \n",
       "3                   Friendly  \n",
       "4  FIFAWorldCupqualification  "
      ]
     },
     "execution_count": 148,
     "metadata": {},
     "output_type": "execute_result"
    }
   ],
   "source": [
    "df.head()"
   ]
  },
  {
   "cell_type": "code",
   "execution_count": 149,
   "metadata": {},
   "outputs": [
    {
     "name": "stdout",
     "output_type": "stream",
     "text": [
      "<class 'pandas.core.frame.DataFrame'>\n",
      "Index: 16788 entries, 0 to 23920\n",
      "Data columns (total 6 columns):\n",
      " #   Column           Non-Null Count  Dtype \n",
      "---  ------           --------------  ----- \n",
      " 0   date             16788 non-null  object\n",
      " 1   home_team        16788 non-null  object\n",
      " 2   away_team        16788 non-null  object\n",
      " 3   home_team_score  16788 non-null  int64 \n",
      " 4   away_team_score  16788 non-null  int64 \n",
      " 5   tournament       16788 non-null  object\n",
      "dtypes: int64(2), object(4)\n",
      "memory usage: 918.1+ KB\n",
      "None\n"
     ]
    }
   ],
   "source": [
    "print(df.info())"
   ]
  },
  {
   "cell_type": "code",
   "execution_count": 150,
   "metadata": {},
   "outputs": [],
   "source": [
    "mia_nazionale = 'Italy'\n",
    "squadra_avversaria = 'Ukraine' #Bulgaria\n",
    "torneo = 'Friendly'\n",
    "dove = ''"
   ]
  },
  {
   "cell_type": "code",
   "execution_count": 151,
   "metadata": {},
   "outputs": [],
   "source": [
    "df = df[(df['home_team'] == mia_nazionale) | (df['away_team'] == mia_nazionale)]\n",
    "df = df[(df['home_team'] == squadra_avversaria) | (df['away_team'] == squadra_avversaria)]"
   ]
  },
  {
   "cell_type": "code",
   "execution_count": 152,
   "metadata": {},
   "outputs": [
    {
     "data": {
      "text/html": [
       "<div>\n",
       "<style scoped>\n",
       "    .dataframe tbody tr th:only-of-type {\n",
       "        vertical-align: middle;\n",
       "    }\n",
       "\n",
       "    .dataframe tbody tr th {\n",
       "        vertical-align: top;\n",
       "    }\n",
       "\n",
       "    .dataframe thead th {\n",
       "        text-align: right;\n",
       "    }\n",
       "</style>\n",
       "<table border=\"1\" class=\"dataframe\">\n",
       "  <thead>\n",
       "    <tr style=\"text-align: right;\">\n",
       "      <th></th>\n",
       "      <th>date</th>\n",
       "      <th>home_team</th>\n",
       "      <th>away_team</th>\n",
       "      <th>home_team_score</th>\n",
       "      <th>away_team_score</th>\n",
       "      <th>tournament</th>\n",
       "    </tr>\n",
       "  </thead>\n",
       "  <tbody>\n",
       "    <tr>\n",
       "      <th>783</th>\n",
       "      <td>1995-03-29</td>\n",
       "      <td>Ukraine</td>\n",
       "      <td>Italy</td>\n",
       "      <td>0</td>\n",
       "      <td>2</td>\n",
       "      <td>UEFAEuroqualification</td>\n",
       "    </tr>\n",
       "    <tr>\n",
       "      <th>1134</th>\n",
       "      <td>1995-11-11</td>\n",
       "      <td>Italy</td>\n",
       "      <td>Ukraine</td>\n",
       "      <td>3</td>\n",
       "      <td>1</td>\n",
       "      <td>UEFAEuroqualification</td>\n",
       "    </tr>\n",
       "    <tr>\n",
       "      <th>9627</th>\n",
       "      <td>2006-06-02</td>\n",
       "      <td>Italy</td>\n",
       "      <td>Ukraine</td>\n",
       "      <td>0</td>\n",
       "      <td>0</td>\n",
       "      <td>Friendly</td>\n",
       "    </tr>\n",
       "    <tr>\n",
       "      <th>9716</th>\n",
       "      <td>2006-06-30</td>\n",
       "      <td>Italy</td>\n",
       "      <td>Ukraine</td>\n",
       "      <td>3</td>\n",
       "      <td>0</td>\n",
       "      <td>FIFAWorldCup</td>\n",
       "    </tr>\n",
       "    <tr>\n",
       "      <th>9953</th>\n",
       "      <td>2006-10-07</td>\n",
       "      <td>Italy</td>\n",
       "      <td>Ukraine</td>\n",
       "      <td>2</td>\n",
       "      <td>0</td>\n",
       "      <td>UEFAEuroqualification</td>\n",
       "    </tr>\n",
       "  </tbody>\n",
       "</table>\n",
       "</div>"
      ],
      "text/plain": [
       "            date home_team away_team  home_team_score  away_team_score  \\\n",
       "783   1995-03-29   Ukraine     Italy                0                2   \n",
       "1134  1995-11-11     Italy   Ukraine                3                1   \n",
       "9627  2006-06-02     Italy   Ukraine                0                0   \n",
       "9716  2006-06-30     Italy   Ukraine                3                0   \n",
       "9953  2006-10-07     Italy   Ukraine                2                0   \n",
       "\n",
       "                 tournament  \n",
       "783   UEFAEuroqualification  \n",
       "1134  UEFAEuroqualification  \n",
       "9627               Friendly  \n",
       "9716           FIFAWorldCup  \n",
       "9953  UEFAEuroqualification  "
      ]
     },
     "execution_count": 152,
     "metadata": {},
     "output_type": "execute_result"
    }
   ],
   "source": [
    "df.head()"
   ]
  },
  {
   "cell_type": "code",
   "execution_count": 153,
   "metadata": {},
   "outputs": [
    {
     "data": {
      "text/plain": [
       "[['1995-03-29', 'Ukraine', 'Italy', 0, 2, 'UEFAEuroqualification'],\n",
       " ['1995-11-11', 'Italy', 'Ukraine', 3, 1, 'UEFAEuroqualification'],\n",
       " ['2006-06-02', 'Italy', 'Ukraine', 0, 0, 'Friendly'],\n",
       " ['2006-06-30', 'Italy', 'Ukraine', 3, 0, 'FIFAWorldCup'],\n",
       " ['2006-10-07', 'Italy', 'Ukraine', 2, 0, 'UEFAEuroqualification'],\n",
       " ['2007-09-12', 'Ukraine', 'Italy', 1, 2, 'UEFAEuroqualification'],\n",
       " ['2011-03-29', 'Ukraine', 'Italy', 0, 2, 'Friendly'],\n",
       " ['2018-10-10', 'Italy', 'Ukraine', 1, 1, 'Friendly']]"
      ]
     },
     "execution_count": 153,
     "metadata": {},
     "output_type": "execute_result"
    }
   ],
   "source": [
    "df.values.tolist()"
   ]
  },
  {
   "cell_type": "code",
   "execution_count": 154,
   "metadata": {},
   "outputs": [
    {
     "name": "stdout",
     "output_type": "stream",
     "text": [
      "Ci sono state 8 partite tra Italy e Ukraine.\n"
     ]
    }
   ],
   "source": [
    "partite, _ =df.shape\n",
    "print(f'Ci sono state {partite} partite tra {mia_nazionale} e {squadra_avversaria}.')"
   ]
  },
  {
   "cell_type": "code",
   "execution_count": 155,
   "metadata": {},
   "outputs": [
    {
     "name": "stdout",
     "output_type": "stream",
     "text": [
      "[['1995-11-11', 'Italy', 'Ukraine', 3, 1, 'UEFAEuroqualification'], ['2006-06-02', 'Italy', 'Ukraine', 0, 0, 'Friendly'], ['2006-06-30', 'Italy', 'Ukraine', 3, 0, 'FIFAWorldCup'], ['2006-10-07', 'Italy', 'Ukraine', 2, 0, 'UEFAEuroqualification'], ['2018-10-10', 'Italy', 'Ukraine', 1, 1, 'Friendly']]\n"
     ]
    }
   ],
   "source": [
    "casa = df[(df['home_team'] == mia_nazionale)]\n",
    "casa = casa.values.tolist()\n",
    "print(casa)"
   ]
  },
  {
   "cell_type": "code",
   "execution_count": 156,
   "metadata": {},
   "outputs": [
    {
     "name": "stdout",
     "output_type": "stream",
     "text": [
      "Italy contro Ukraine: (dentro casa)\n",
      "Vittorie: 3, pareggi: 2, sconfitte: 0\n"
     ]
    }
   ],
   "source": [
    "vittorie_1 = 0\n",
    "pareggi_1 = 0\n",
    "sconfitte_1 = 0\n",
    "gol_1 = 0\n",
    "gol_3 = 0\n",
    "\n",
    "for x in casa:\n",
    "    if (x[3] > x[4]):\n",
    "        vittorie_1 += 1\n",
    "        gol_1 = gol_1 + x[3]\n",
    "        gol_3 = gol_3 + x[4]\n",
    "    elif (x[3] == x[4]):\n",
    "        pareggi_1 += 1\n",
    "        gol_1 = gol_1 + x[3]\n",
    "        gol_3 = gol_3 + x[4]\n",
    "    elif (x[3] < x[4]):\n",
    "        sconfitte_1 += 1\n",
    "        gol_1 = gol_1 + x[3]\n",
    "        gol_3 = gol_3 + x[4]\n",
    "    else:\n",
    "        print('OK')\n",
    "\n",
    "print(f'{mia_nazionale} contro {squadra_avversaria}: (dentro casa)')\n",
    "print(f'Vittorie: {vittorie_1}, pareggi: {pareggi_1}, sconfitte: {sconfitte_1}')"
   ]
  },
  {
   "cell_type": "code",
   "execution_count": 157,
   "metadata": {},
   "outputs": [
    {
     "name": "stdout",
     "output_type": "stream",
     "text": [
      "[['1995-03-29', 'Ukraine', 'Italy', 0, 2, 'UEFAEuroqualification'], ['2007-09-12', 'Ukraine', 'Italy', 1, 2, 'UEFAEuroqualification'], ['2011-03-29', 'Ukraine', 'Italy', 0, 2, 'Friendly']]\n"
     ]
    }
   ],
   "source": [
    "fuori = df[(df['away_team'] == mia_nazionale)]\n",
    "fuori = fuori.values.tolist()\n",
    "print(fuori)"
   ]
  },
  {
   "cell_type": "code",
   "execution_count": 158,
   "metadata": {},
   "outputs": [
    {
     "name": "stdout",
     "output_type": "stream",
     "text": [
      "Italy contro Ukraine: (fuori casa)\n",
      "Vittorie: 3, pareggi: 0, sconfitte: 0\n"
     ]
    }
   ],
   "source": [
    "vittorie_2 = 0\n",
    "pareggi_2 = 0\n",
    "sconfitte_2 = 0\n",
    "gol_2 = 0\n",
    "gol_4 = 0\n",
    "\n",
    "for x in fuori:\n",
    "    if (x[4] > x[3]):\n",
    "        vittorie_2 += 1\n",
    "        gol_2 = gol_2 + x[4]\n",
    "        gol_4 = gol_4 + x[3]\n",
    "    elif (x[4] == x[3]):\n",
    "        pareggi_2 += 1\n",
    "        gol_2 = gol_2 + x[4]\n",
    "        gol_4 = gol_4 + x[3]\n",
    "    elif (x[4] < x[3]):\n",
    "        sconfitte_2 += 1\n",
    "        gol_2 = gol_2 + x[4]\n",
    "        gol_4 = gol_4 + x[3]\n",
    "    else:\n",
    "        print('OK')\n",
    "\n",
    "print(f'{mia_nazionale} contro {squadra_avversaria}: (fuori casa)')\n",
    "print(f'Vittorie: {vittorie_2}, pareggi: {pareggi_2}, sconfitte: {sconfitte_2}')"
   ]
  },
  {
   "cell_type": "code",
   "execution_count": 159,
   "metadata": {},
   "outputs": [
    {
     "name": "stdout",
     "output_type": "stream",
     "text": [
      "Media di Gol per Italy: 2\n",
      "Media di Gol per Ukraine: 0\n",
      "8 - 75% / 25% / 0%\n"
     ]
    }
   ],
   "source": [
    "# Totale 4 2\n",
    "\n",
    "vittorie = vittorie_1 + vittorie_2\n",
    "pareggi = pareggi_1 + pareggi_2\n",
    "sconfitte = sconfitte_1 + sconfitte_2\n",
    "\n",
    "print(f'Media di Gol per {mia_nazionale}: {round((gol_1 + gol_2) / partite)}')\n",
    "print(f'Media di Gol per {squadra_avversaria}: {round((gol_3 + gol_4) / partite)}')\n",
    "print(f'{partite} - {round((vittorie / partite) * 100)}% / {round((pareggi / partite) * 100)}% / {round((sconfitte / partite) * 100)}%')"
   ]
  },
  {
   "cell_type": "code",
   "execution_count": 160,
   "metadata": {},
   "outputs": [
    {
     "name": "stdout",
     "output_type": "stream",
     "text": [
      "Media di Gol per Italy: 2\n",
      "Media di Gol per Ukraine: 0\n",
      "4.0 - 75% / 50% / 0%\n"
     ]
    }
   ],
   "source": [
    "# Totale 4 2\n",
    "\n",
    "vittorie = vittorie_1\n",
    "pareggi = pareggi_1\n",
    "sconfitte = sconfitte_1\n",
    "\n",
    "print(f'Media di Gol per {mia_nazionale}: {round((gol_1 + gol_2) / partite)}')\n",
    "print(f'Media di Gol per {squadra_avversaria}: {round((gol_3 + gol_4) / partite)}')\n",
    "print(f'{partite / 2} - {round((vittorie / (partite / 2)) * 100)}% / {round((pareggi / (partite / 2)) * 100)}% / {round((sconfitte / (partite / 2)) * 100)}%')"
   ]
  }
 ],
 "metadata": {
  "kernelspec": {
   "display_name": "Python 3",
   "language": "python",
   "name": "python3"
  },
  "language_info": {
   "codemirror_mode": {
    "name": "ipython",
    "version": 3
   },
   "file_extension": ".py",
   "mimetype": "text/x-python",
   "name": "python",
   "nbconvert_exporter": "python",
   "pygments_lexer": "ipython3",
   "version": "3.11.5"
  }
 },
 "nbformat": 4,
 "nbformat_minor": 2
}
