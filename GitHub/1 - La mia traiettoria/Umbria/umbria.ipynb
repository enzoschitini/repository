{
 "cells": [
  {
   "cell_type": "markdown",
   "metadata": {},
   "source": [
    "<img src=\"image/Capa.png\" alt=\"ebac-logo\">\n",
    "\n",
    "---\n",
    "\n",
    "# **Umbria** | Python: Behavior of CO2 emissions in the planet's atmosphere\n",
    "Caderno de **Programa**<br> \n",
    "Desenvolvedor [Enzo Schitini](https://enzo-schitini.bubbleapps.io/version-test/)\n",
    "\n",
    "---"
   ]
  },
  {
   "cell_type": "code",
   "execution_count": 2,
   "metadata": {},
   "outputs": [
    {
     "name": "stdout",
     "output_type": "stream",
     "text": [
      ",Country,Energy_type,Year,Energy_consumption,Energy_production,GDP,Population,Energy_intensity_per_capita,Energy_intensity_by_GDP,CO2_emission\n",
      "\n"
     ]
    }
   ],
   "source": [
    "csv_base = './Paesi_Emissioni_di_CO2.csv'\n",
    "csv_dati = './base.csv'\n",
    "\n",
    "# Le intestazioni\n",
    "from adige import ArquivoCSV\n",
    "csv = ArquivoCSV(csv_base)\n",
    "intestazioni = (csv._extrair_conteudo())[0]\n",
    "print(intestazioni)"
   ]
  },
  {
   "cell_type": "markdown",
   "metadata": {},
   "source": [
    "### `Pulizia dei dati`"
   ]
  },
  {
   "cell_type": "code",
   "execution_count": 3,
   "metadata": {},
   "outputs": [
    {
     "name": "stdout",
     "output_type": "stream",
     "text": [
      "Totale di righe dell'archivio csv_base: 45.966\n"
     ]
    }
   ],
   "source": [
    "nuovi = []\n",
    "with open(file=csv_base, mode='r', encoding='utf8') as fp:\n",
    "    line = fp.readline()\n",
    "    line = fp.readline()\n",
    "    while line:\n",
    "        list(line)\n",
    "        ultimo = line.split(',')[7]\n",
    "        if ultimo != '':\n",
    "            nuovi.append(line)\n",
    "            line = fp.readline()\n",
    "        else:\n",
    "            line = fp.readline()\n",
    "            \n",
    "from adige import limp_csv\n",
    "limp_csv(csv_base)\n",
    "#intestazioni = ',Country,Energy_type,Year,Energy_consumption,Energy_production,GDP,Population,Energy_intensity_per_capita,Energy_intensity_by_GDP,CO2_emission'\n",
    "with open(file=csv_base, mode='a', encoding='utf8') as fp:\n",
    "    fp.write(intestazioni)\n",
    "    for x in nuovi:\n",
    "        fp.write(x)\n",
    "\n",
    "def valore_abbreviato(valore:str) -> str:\n",
    "    alg_valore = list(valore)\n",
    "    num_punt = sum(map(lambda x: x == '.', valore))\n",
    "    for x in range(num_punt):\n",
    "     alg_valore.remove('.')\n",
    "    numero = int(\"\".join(alg_valore))\n",
    "    numero_format = \"{:,}\".format(numero).replace(\",\", \".\")\n",
    "    return numero_format\n",
    "\n",
    "from adige import ArquivoCSV\n",
    "csv = ArquivoCSV(csv_base)\n",
    "totale = valore_abbreviato(str(len(csv.extrair_coluna(0))))\n",
    "print(f\"Totale di righe dell'archivio csv_base: {totale}\")"
   ]
  },
  {
   "cell_type": "markdown",
   "metadata": {},
   "source": [
    "### `Su i dati`"
   ]
  },
  {
   "cell_type": "code",
   "execution_count": 4,
   "metadata": {},
   "outputs": [
    {
     "name": "stdout",
     "output_type": "stream",
     "text": [
      "I dati vanno dal 1980 fino a 2019 in un periodo di 39 anni.\n"
     ]
    }
   ],
   "source": [
    "# Gli anni\n",
    "\n",
    "def gli_anni(archivio:str):\n",
    "    anni = []\n",
    "    with open(file=archivio, mode='r', encoding='utf8') as fp:\n",
    "        line = fp.readline()\n",
    "        line = fp.readline()\n",
    "        while line:\n",
    "            list(line)\n",
    "            anno = line.split(',')[3]\n",
    "            anni.append(anno)\n",
    "            line = fp.readline()\n",
    "    return anni\n",
    "\n",
    "lista_anni = gli_anni(csv_base)\n",
    "lista_anni_pulita = []\n",
    "for x in lista_anni:\n",
    "    totale = len(list(x))\n",
    "    if (totale == 4) & (x != 'coal'):\n",
    "        x = int(x)\n",
    "        lista_anni_pulita.append(x)\n",
    "\n",
    "print(f'I dati vanno dal {min(lista_anni_pulita)} fino a {max(lista_anni_pulita)} in un periodo di {(max(lista_anni_pulita)) - (min(lista_anni_pulita))} anni.')"
   ]
  },
  {
   "cell_type": "code",
   "execution_count": 5,
   "metadata": {},
   "outputs": [
    {
     "name": "stdout",
     "output_type": "stream",
     "text": [
      "Ci sono: 204 \n",
      "\n",
      "1 India\n",
      "2 Algeria\n",
      "3 Uzbekistan\n",
      "4 Kiribati\n",
      "5 Mozambique\n",
      "6 Ghana\n",
      "7 Russia\n",
      "8 Singapore\n",
      "9 South Sudan\n",
      "10 Honduras\n",
      "11 Dominican Republic\n",
      "12 Ethiopia\n",
      "13 Mexico\n",
      "14 Nigeria\n",
      "15 Laos\n",
      "16 Ecuador\n",
      "17 Afghanistan\n",
      "18 Greece\n",
      "19 Slovenia\n",
      "20 Guatemala\n",
      "21 Haiti\n",
      "22 Estonia\n",
      "23 Zimbabwe\n",
      "24 Georgia\n",
      "25 Bhutan\n",
      "26 Kazakhstan\n",
      "27 Libya\n",
      "28 Northern Mariana Islands\n",
      "29 Niger\n",
      "30 Solomon Islands\n",
      "31 Benin\n",
      "32 Angola\n",
      "33 Congo-Kinshasa\n",
      "34 Comoros\n",
      "35 Sri Lanka\n",
      "36 Nicaragua\n",
      "37 Kenya\n",
      "38 Costa Rica\n",
      "39 Dominica\n",
      "40 Belarus\n",
      "41 Papua New Guinea\n",
      "42 Guam\n",
      "43 United Arab Emirates\n",
      "44 Denmark\n",
      "45 Morocco\n",
      "46 Syria\n",
      "47 Kyrgyzstan\n",
      "48 Bosnia and Herzegovina\n",
      "49 Oman\n",
      "50 Kuwait\n",
      "51 Iraq\n",
      "52 Cabo Verde\n",
      "53 Panama\n",
      "54 Iran\n",
      "55 Greenland\n",
      "56 New Zealand\n",
      "57 Paraguay\n",
      "58 Pakistan\n",
      "59 Poland\n",
      "60 Guadeloupe\n",
      "61 Belgium\n",
      "62 Jordan\n",
      "63 Senegal\n",
      "64 Lesotho\n",
      "65 Central African Republic\n",
      "66 Congo-Brazzaville\n",
      "67 Chile\n",
      "68 Cameroon\n",
      "69 Hungary\n",
      "70 Guinea\n",
      "71 Saint Lucia\n",
      "72 Côte d’Ivoire\n",
      "73 North Macedonia\n",
      "74 Saint Vincent/Grenadines\n",
      "75 World\n",
      "76 Norway\n",
      "77 Maldives\n",
      "78 United States\n",
      "79 Togo\n",
      "80 Luxembourg\n",
      "81 Taiwan\n",
      "82 Mali\n",
      "83 Chad\n",
      "84 Turkey\n",
      "85 South Korea\n",
      "86 Grenada\n",
      "87 Malawi\n",
      "88 Germany\n",
      "89 Namibia\n",
      "90 Equatorial Guinea\n",
      "91 Sao Tome and Principe\n",
      "92 Brunei\n",
      "93 Rwanda\n",
      "94 Macau\n",
      "95 Burundi\n",
      "96 Belize\n",
      "97 Trinidad and Tobago\n",
      "98 Japan\n",
      "99 Barbados\n",
      "100 Sudan\n",
      "101 Italy\n",
      "102 Antigua and Barbuda\n",
      "103 Argentina\n",
      "104 Cuba\n",
      "105 Cyprus\n",
      "106 Bahrain\n",
      "107 Bangladesh\n",
      "108 Finland\n",
      "109 Saudi Arabia\n",
      "110 Somalia\n",
      "111 Vanuatu\n",
      "112 Zambia\n",
      "113 Ukraine\n",
      "114 Eswatini\n",
      "115 Iceland\n",
      "116 Gabon\n",
      "117 Martinique\n",
      "118 Indonesia\n",
      "119 Peru\n",
      "120 Palestinian Territories\n",
      "121 El Salvador\n",
      "122 Philippines\n",
      "123 Bermuda\n",
      "124 Switzerland\n",
      "125 Tanzania\n",
      "126 China\n",
      "127 Tajikistan\n",
      "128 Nepal\n",
      "129 Bulgaria\n",
      "130 Samoa\n",
      "131 Tonga\n",
      "132 Uganda\n",
      "133 Cambodia\n",
      "134 Timor-Leste\n",
      "135 Guyana\n",
      "136 Portugal\n",
      "137 Yemen\n",
      "138 Saint Kitts and Nevis\n",
      "139 Kosovo\n",
      "140 British Virgin Islands\n",
      "141 Armenia\n",
      "142 The Bahamas\n",
      "143 Reunion\n",
      "144 Sweden\n",
      "145 Uruguay\n",
      "146 Bolivia\n",
      "147 Montenegro\n",
      "148 Jamaica\n",
      "149 Cayman Islands\n",
      "150 Slovakia\n",
      "151 Czech Republic\n",
      "152 American Samoa\n",
      "153 Suriname\n",
      "154 Brazil\n",
      "155 Thailand\n",
      "156 Aruba\n",
      "157 Fiji\n",
      "158 Croatia\n",
      "159 Israel\n",
      "160 Egypt\n",
      "161 Sierra Leone\n",
      "162 Lebanon\n",
      "163 U.S. Virgin Islands\n",
      "164 South Africa\n",
      "165 Colombia\n",
      "166 Latvia\n",
      "167 Romania\n",
      "168 Venezuela\n",
      "169 Puerto Rico\n",
      "170 Burkina Faso\n",
      "171 Guinea-Bissau\n",
      "172 Botswana\n",
      "173 Ireland\n",
      "174 Mongolia\n",
      "175 Seychelles\n",
      "176 Tunisia\n",
      "177 \"Gambia\n",
      "178 Albania\n",
      "179 Djibouti\n",
      "180 Moldova\n",
      "181 Mauritius\n",
      "182 Serbia\n",
      "183 Turkmenistan\n",
      "184 Burma\n",
      "185 Madagascar\n",
      "186 Vietnam\n",
      "187 Liberia\n",
      "188 Lithuania\n",
      "189 Mauritania\n",
      "190 Netherlands\n",
      "191 Netherlands Antilles\n",
      "192 Eritrea\n",
      "193 Malaysia\n",
      "194 North Korea\n",
      "195 France\n",
      "196 Austria\n",
      "197 Malta\n",
      "198 Spain\n",
      "199 Hong Kong\n",
      "200 Australia\n",
      "201 Qatar\n",
      "202 United Kingdom\n",
      "203 Azerbaijan\n",
      "204 Canada\n",
      "['India', 'Algeria', 'Uzbekistan', 'Kiribati', 'Mozambique', 'Ghana', 'Russia', 'Singapore', 'South Sudan', 'Honduras', 'Dominican Republic', 'Ethiopia', 'Mexico', 'Nigeria', 'Laos', 'Ecuador', 'Afghanistan', 'Greece', 'Slovenia', 'Guatemala', 'Haiti', 'Estonia', 'Zimbabwe', 'Georgia', 'Bhutan', 'Kazakhstan', 'Libya', 'Northern Mariana Islands', 'Niger', 'Solomon Islands', 'Benin', 'Angola', 'Congo-Kinshasa', 'Comoros', 'Sri Lanka', 'Nicaragua', 'Kenya', 'Costa Rica', 'Dominica', 'Belarus', 'Papua New Guinea', 'Guam', 'United Arab Emirates', 'Denmark', 'Morocco', 'Syria', 'Kyrgyzstan', 'Bosnia and Herzegovina', 'Oman', 'Kuwait', 'Iraq', 'Cabo Verde', 'Panama', 'Iran', 'Greenland', 'New Zealand', 'Paraguay', 'Pakistan', 'Poland', 'Guadeloupe', 'Belgium', 'Jordan', 'Senegal', 'Lesotho', 'Central African Republic', 'Congo-Brazzaville', 'Chile', 'Cameroon', 'Hungary', 'Guinea', 'Saint Lucia', 'Côte d’Ivoire', 'North Macedonia', 'Saint Vincent/Grenadines', 'World', 'Norway', 'Maldives', 'United States', 'Togo', 'Luxembourg', 'Taiwan', 'Mali', 'Chad', 'Turkey', 'South Korea', 'Grenada', 'Malawi', 'Germany', 'Namibia', 'Equatorial Guinea', 'Sao Tome and Principe', 'Brunei', 'Rwanda', 'Macau', 'Burundi', 'Belize', 'Trinidad and Tobago', 'Japan', 'Barbados', 'Sudan', 'Italy', 'Antigua and Barbuda', 'Argentina', 'Cuba', 'Cyprus', 'Bahrain', 'Bangladesh', 'Finland', 'Saudi Arabia', 'Somalia', 'Vanuatu', 'Zambia', 'Ukraine', 'Eswatini', 'Iceland', 'Gabon', 'Martinique', 'Indonesia', 'Peru', 'Palestinian Territories', 'El Salvador', 'Philippines', 'Bermuda', 'Switzerland', 'Tanzania', 'China', 'Tajikistan', 'Nepal', 'Bulgaria', 'Samoa', 'Tonga', 'Uganda', 'Cambodia', 'Timor-Leste', 'Guyana', 'Portugal', 'Yemen', 'Saint Kitts and Nevis', 'Kosovo', 'British Virgin Islands', 'Armenia', 'The Bahamas', 'Reunion', 'Sweden', 'Uruguay', 'Bolivia', 'Montenegro', 'Jamaica', 'Cayman Islands', 'Slovakia', 'Czech Republic', 'American Samoa', 'Suriname', 'Brazil', 'Thailand', 'Aruba', 'Fiji', 'Croatia', 'Israel', 'Egypt', 'Sierra Leone', 'Lebanon', 'U.S. Virgin Islands', 'South Africa', 'Colombia', 'Latvia', 'Romania', 'Venezuela', 'Puerto Rico', 'Burkina Faso', 'Guinea-Bissau', 'Botswana', 'Ireland', 'Mongolia', 'Seychelles', 'Tunisia', '\"Gambia', 'Albania', 'Djibouti', 'Moldova', 'Mauritius', 'Serbia', 'Turkmenistan', 'Burma', 'Madagascar', 'Vietnam', 'Liberia', 'Lithuania', 'Mauritania', 'Netherlands', 'Netherlands Antilles', 'Eritrea', 'Malaysia', 'North Korea', 'France', 'Austria', 'Malta', 'Spain', 'Hong Kong', 'Australia', 'Qatar', 'United Kingdom', 'Azerbaijan', 'Canada']\n"
     ]
    }
   ],
   "source": [
    "def quanti_ci_sono(archivio:str, colonna:int, lista:int):\n",
    "    from adige import ArquivoCSV\n",
    "    csv = ArquivoCSV(archivio)\n",
    "    oggetto = csv.extrair_coluna(colonna)\n",
    "    oggetto = list(set(oggetto))\n",
    "    if lista == 1:\n",
    "      ordine = 0\n",
    "      print(f'Ci sono: {len(oggetto)} \\n')\n",
    "      for x in oggetto:\n",
    "        ordine += 1\n",
    "        print(f'{ordine} {x}')\n",
    "    else:\n",
    "      return oggetto\n",
    "\n",
    "quanti_ci_sono(csv_base, 1, 1)\n",
    "paesi = quanti_ci_sono(csv_base, 1, 0)\n",
    "print(paesi)"
   ]
  },
  {
   "cell_type": "code",
   "execution_count": 6,
   "metadata": {},
   "outputs": [
    {
     "name": "stdout",
     "output_type": "stream",
     "text": [
      "['India', 'Algeria', 'Uzbekistan', 'Kiribati', 'Mozambique', 'Ghana', 'Russia', 'Singapore', 'South Sudan', 'Honduras', 'Dominican Republic', 'Ethiopia', 'Mexico', 'Nigeria', 'Laos', 'Ecuador', 'Afghanistan', 'Greece', 'Slovenia', 'Guatemala', 'Haiti', 'Estonia', 'Zimbabwe', 'Georgia', 'Bhutan', 'Kazakhstan', 'Libya', 'Northern Mariana Islands', 'Niger', 'Solomon Islands', 'Benin', 'Angola', 'Congo-Kinshasa', 'Comoros', 'Sri Lanka', 'Nicaragua', 'Kenya', 'Costa Rica', 'Dominica', 'Belarus', 'Papua New Guinea', 'Guam', 'United Arab Emirates', 'Denmark', 'Morocco', 'Syria', 'Kyrgyzstan', 'Bosnia and Herzegovina', 'Oman', 'Kuwait', 'Iraq', 'Cabo Verde', 'Panama', 'Iran', 'Greenland', 'New Zealand', 'Paraguay', 'Pakistan', 'Poland', 'Guadeloupe', 'Belgium', 'Jordan', 'Senegal', 'Lesotho', 'Central African Republic', 'Congo-Brazzaville', 'Chile', 'Cameroon', 'Hungary', 'Guinea', 'Saint Lucia', 'Côte d’Ivoire', 'North Macedonia', 'Saint Vincent/Grenadines', 'Norway', 'Maldives', 'United States', 'Togo', 'Luxembourg', 'Taiwan', 'Mali', 'Chad', 'Turkey', 'South Korea', 'Grenada', 'Malawi', 'Germany', 'Namibia', 'Equatorial Guinea', 'Sao Tome and Principe', 'Brunei', 'Rwanda', 'Macau', 'Burundi', 'Belize', 'Trinidad and Tobago', 'Japan', 'Barbados', 'Sudan', 'Italy', 'Antigua and Barbuda', 'Argentina', 'Cuba', 'Cyprus', 'Bahrain', 'Bangladesh', 'Finland', 'Saudi Arabia', 'Somalia', 'Vanuatu', 'Zambia', 'Ukraine', 'Eswatini', 'Iceland', 'Gabon', 'Martinique', 'Indonesia', 'Peru', 'Palestinian Territories', 'El Salvador', 'Philippines', 'Bermuda', 'Switzerland', 'Tanzania', 'China', 'Tajikistan', 'Nepal', 'Bulgaria', 'Samoa', 'Tonga', 'Uganda', 'Cambodia', 'Timor-Leste', 'Guyana', 'Portugal', 'Yemen', 'Saint Kitts and Nevis', 'Kosovo', 'British Virgin Islands', 'Armenia', 'The Bahamas', 'Reunion', 'Sweden', 'Uruguay', 'Bolivia', 'Montenegro', 'Jamaica', 'Cayman Islands', 'Slovakia', 'Czech Republic', 'American Samoa', 'Suriname', 'Brazil', 'Thailand', 'Aruba', 'Fiji', 'Croatia', 'Israel', 'Egypt', 'Sierra Leone', 'Lebanon', 'U.S. Virgin Islands', 'South Africa', 'Colombia', 'Latvia', 'Romania', 'Venezuela', 'Puerto Rico', 'Burkina Faso', 'Guinea-Bissau', 'Botswana', 'Ireland', 'Mongolia', 'Seychelles', 'Tunisia', '\"Gambia', 'Albania', 'Djibouti', 'Moldova', 'Mauritius', 'Serbia', 'Turkmenistan', 'Burma', 'Madagascar', 'Vietnam', 'Liberia', 'Lithuania', 'Mauritania', 'Netherlands', 'Netherlands Antilles', 'Eritrea', 'Malaysia', 'North Korea', 'France', 'Austria', 'Malta', 'Spain', 'Hong Kong', 'Australia', 'Qatar', 'United Kingdom', 'Azerbaijan', 'Canada']\n"
     ]
    }
   ],
   "source": [
    "# Raccolta dei paesi senza i dati del mondo\n",
    "paesi = quanti_ci_sono(csv_base, 1, 0)\n",
    "paesi_puliti = []\n",
    "for paese in paesi:\n",
    "    if paese != 'World':\n",
    "        paesi_puliti.append(paese)\n",
    "print(paesi_puliti)"
   ]
  },
  {
   "cell_type": "code",
   "execution_count": 7,
   "metadata": {},
   "outputs": [
    {
     "name": "stdout",
     "output_type": "stream",
     "text": [
      "L'elemento 'mela' si ripete 3 volte nella lista.\n",
      "L'elemento 'mela' si ripete 3 volte nella lista.\n",
      "L'elemento 'mela' si ripete 3 volte nella lista.\n"
     ]
    }
   ],
   "source": [
    "# Come misurare quante volte si ripete un elemento in una lista\n",
    "lista = ['mela', 'banana', 'mela', 'arancia', 'mela', 'banana']\n",
    "conteggi = []\n",
    "\n",
    "for x in lista:\n",
    "    conteggio = lista.count(x)\n",
    "    conteggi.append(conteggio)\n",
    "    #print(f\"L'elemento '{x}' si ripete {conteggio} volte nella lista.\")\n",
    "\n",
    "for x in lista:\n",
    "    conteggio = lista.count(x)\n",
    "    if conteggio == max(conteggi):\n",
    "     print(f\"L'elemento '{x}' si ripete {conteggio} volte nella lista.\")"
   ]
  },
  {
   "cell_type": "code",
   "execution_count": 8,
   "metadata": {},
   "outputs": [
    {
     "name": "stdout",
     "output_type": "stream",
     "text": [
      "['renewables_n_other', 'all_energy_types', 'The', 'natural_gas', 'petroleum_n_other_liquids', 'nuclear', 'coal']\n"
     ]
    }
   ],
   "source": [
    "# Classifica delle energie\n",
    "\n",
    "from adige import ArquivoCSV\n",
    "csv = ArquivoCSV(csv_base)\n",
    "\n",
    "types = csv.extrair_coluna(2)\n",
    "types = list(set(types))\n",
    "nt = []\n",
    "for x in types:\n",
    "    x = x.strip()\n",
    "    x = x.replace('\"', '')\n",
    "    nt.append(x)\n",
    "types = nt\n",
    "print(types)"
   ]
  },
  {
   "cell_type": "markdown",
   "metadata": {},
   "source": [
    "### `Prelevando dati globali`"
   ]
  },
  {
   "cell_type": "code",
   "execution_count": 9,
   "metadata": {},
   "outputs": [
    {
     "name": "stdout",
     "output_type": "stream",
     "text": [
      "Totale di 204 paesi.\n"
     ]
    }
   ],
   "source": [
    "print(f'Totale di {len(quanti_ci_sono(csv_base, 1, 0))} paesi.')"
   ]
  },
  {
   "cell_type": "code",
   "execution_count": 10,
   "metadata": {},
   "outputs": [
    {
     "name": "stdout",
     "output_type": "stream",
     "text": [
      "87.16\n"
     ]
    }
   ],
   "source": [
    "# Energy Consumption - Quantità di consumo per la specifica fonte di energia, misurata (quad BtuO\n",
    "def energy_consumption(archivio:str, colonna:int, numeri_dopo:int):\n",
    "    from adige import ArquivoCSV\n",
    "    from functools import reduce\n",
    "\n",
    "    energy_consumption = ArquivoCSV(archivio).extrair_coluna(colonna) # Prende la lista\n",
    "    energy_consumption = list(filter(None, energy_consumption)) # Rimuovere gli spazi vuoti\n",
    "    energy_consumption = list(map(float, energy_consumption)) # Trasforma tutto in Float\n",
    "    somma = reduce(lambda x, y: x + y, energy_consumption)\n",
    "    media = reduce(lambda x, y: x + y, energy_consumption) / len(energy_consumption) # Si calcola la mendia\n",
    "    #print(f'Media Energy_Consumption: {round(media, numeri_dopo)} (quad Btu)')\n",
    "    return round(media, numeri_dopo), round(somma)\n",
    "\n",
    "print(energy_consumption(csv_base, -1, 2)[0])"
   ]
  },
  {
   "cell_type": "code",
   "execution_count": 11,
   "metadata": {},
   "outputs": [
    {
     "name": "stdout",
     "output_type": "stream",
     "text": [
      "La velocità di emissione è: 100.766 miliardi di tonnellate di Co2 ad ogni anno.\n"
     ]
    }
   ],
   "source": [
    "# Tassa della crescita dell'emissione di Co2\n",
    "\n",
    "from adige import ArquivoCSV\n",
    "\n",
    "durata = (max(lista_anni_pulita)) - (min(lista_anni_pulita))\n",
    "emissione = energy_consumption(csv_base, -1, 0)[1]\n",
    "velocita_emissione = valore_abbreviato(str(round(int(emissione) / int(durata))))\n",
    "print(f'La velocità di emissione è: {velocita_emissione} miliardi di tonnellate di Co2 ad ogni anno.')\n",
    "\n",
    "anni = list(set(lista_anni_pulita))\n",
    "\n",
    "def pulizia_base(capo):\n",
    "    from adige import limp_csv\n",
    "    limp_csv(csv_dati)\n",
    "    with open(file=csv_dati, mode='a', encoding='utf8') as fp:\n",
    "        fp.write(capo)\n",
    "\n",
    "pulizia_base(intestazioni)\n",
    "\n",
    "nuovo_base = []\n",
    "for anno in anni:\n",
    "    with open(file=csv_base, mode='r', encoding='utf8') as fp:\n",
    "        line = fp.readline()\n",
    "        line = fp.readline()\n",
    "        while line:\n",
    "            #line_list = list(line)\n",
    "            anno_x = line.split(',')[3]\n",
    "            if anno_x == anno:\n",
    "                nuovo_base.append(line)\n",
    "                line = fp.readline()\n",
    "            else:\n",
    "                line = fp.readline()\n"
   ]
  },
  {
   "cell_type": "markdown",
   "metadata": {},
   "source": [
    "### `Analisi Esplorativa`"
   ]
  },
  {
   "cell_type": "code",
   "execution_count": 12,
   "metadata": {},
   "outputs": [
    {
     "name": "stdout",
     "output_type": "stream",
     "text": [
      "Inormazioni dei dati: 45.966 righe e 11 colonne.\n"
     ]
    }
   ],
   "source": [
    "import pandas as pd\n",
    "df = pd.read_csv(csv_base, na_values='na')\n",
    "\n",
    "struttura = df.shape\n",
    "struttura = str(struttura).replace('(', '').replace(')', '')\n",
    "struttura = str(struttura).strip().split(sep=',')\n",
    "print(f'Inormazioni dei dati: {valore_abbreviato(struttura[0])} righe e {valore_abbreviato(struttura[1])} colonne.')"
   ]
  },
  {
   "cell_type": "code",
   "execution_count": 13,
   "metadata": {},
   "outputs": [
    {
     "data": {
      "text/plain": [
       "(240, 11)"
      ]
     },
     "execution_count": 13,
     "metadata": {},
     "output_type": "execute_result"
    }
   ],
   "source": [
    "df[df['Country'] == 'Italy'].shape"
   ]
  },
  {
   "cell_type": "code",
   "execution_count": 14,
   "metadata": {},
   "outputs": [
    {
     "name": "stdout",
     "output_type": "stream",
     "text": [
      "Totale: 45.966 e Italia: 240\n"
     ]
    }
   ],
   "source": [
    "qtd_totale, _ = df.shape\n",
    "qtd_italia, _ = df[df['Country'] == 'Italy'].shape\n",
    "print(f'Totale: {valore_abbreviato(str(qtd_totale))} e Italia: {valore_abbreviato(str(qtd_italia))}')"
   ]
  },
  {
   "cell_type": "code",
   "execution_count": 15,
   "metadata": {},
   "outputs": [
    {
     "name": "stdout",
     "output_type": "stream",
     "text": [
      "La proporzione d'Italia è: 0.52%\n"
     ]
    }
   ],
   "source": [
    "print(f\"La proporzione d'Italia è: {round(100 * qtd_italia / qtd_totale, 2)}%\")"
   ]
  },
  {
   "cell_type": "markdown",
   "metadata": {},
   "source": [
    "#### `Schema`"
   ]
  },
  {
   "cell_type": "code",
   "execution_count": 16,
   "metadata": {},
   "outputs": [
    {
     "data": {
      "text/plain": [
       "Unnamed: 0                       int64\n",
       "Country                         object\n",
       "Energy_type                     object\n",
       "Year                             int64\n",
       "Energy_consumption             float64\n",
       "Energy_production              float64\n",
       "GDP                            float64\n",
       "Population                     float64\n",
       "Energy_intensity_per_capita    float64\n",
       "Energy_intensity_by_GDP        float64\n",
       "CO2_emission                   float64\n",
       "dtype: object"
      ]
     },
     "execution_count": 16,
     "metadata": {},
     "output_type": "execute_result"
    }
   ],
   "source": [
    "df.dtypes"
   ]
  },
  {
   "cell_type": "code",
   "execution_count": 17,
   "metadata": {},
   "outputs": [
    {
     "data": {
      "text/html": [
       "<div>\n",
       "<style scoped>\n",
       "    .dataframe tbody tr th:only-of-type {\n",
       "        vertical-align: middle;\n",
       "    }\n",
       "\n",
       "    .dataframe tbody tr th {\n",
       "        vertical-align: top;\n",
       "    }\n",
       "\n",
       "    .dataframe thead th {\n",
       "        text-align: right;\n",
       "    }\n",
       "</style>\n",
       "<table border=\"1\" class=\"dataframe\">\n",
       "  <thead>\n",
       "    <tr style=\"text-align: right;\">\n",
       "      <th></th>\n",
       "      <th>count</th>\n",
       "      <th>unique</th>\n",
       "      <th>top</th>\n",
       "      <th>freq</th>\n",
       "    </tr>\n",
       "  </thead>\n",
       "  <tbody>\n",
       "    <tr>\n",
       "      <th>Country</th>\n",
       "      <td>45966</td>\n",
       "      <td>204</td>\n",
       "      <td>World</td>\n",
       "      <td>240</td>\n",
       "    </tr>\n",
       "    <tr>\n",
       "      <th>Energy_type</th>\n",
       "      <td>45966</td>\n",
       "      <td>6</td>\n",
       "      <td>all_energy_types</td>\n",
       "      <td>7661</td>\n",
       "    </tr>\n",
       "  </tbody>\n",
       "</table>\n",
       "</div>"
      ],
      "text/plain": [
       "             count unique               top  freq\n",
       "Country      45966    204             World   240\n",
       "Energy_type  45966      6  all_energy_types  7661"
      ]
     },
     "execution_count": 17,
     "metadata": {},
     "output_type": "execute_result"
    }
   ],
   "source": [
    "df.select_dtypes('object').describe().transpose() # freq / count = %"
   ]
  },
  {
   "cell_type": "code",
   "execution_count": 18,
   "metadata": {},
   "outputs": [
    {
     "data": {
      "text/html": [
       "<div>\n",
       "<style scoped>\n",
       "    .dataframe tbody tr th:only-of-type {\n",
       "        vertical-align: middle;\n",
       "    }\n",
       "\n",
       "    .dataframe tbody tr th {\n",
       "        vertical-align: top;\n",
       "    }\n",
       "\n",
       "    .dataframe thead th {\n",
       "        text-align: right;\n",
       "    }\n",
       "</style>\n",
       "<table border=\"1\" class=\"dataframe\">\n",
       "  <thead>\n",
       "    <tr style=\"text-align: right;\">\n",
       "      <th></th>\n",
       "      <th>count</th>\n",
       "      <th>mean</th>\n",
       "      <th>std</th>\n",
       "      <th>min</th>\n",
       "      <th>25%</th>\n",
       "      <th>50%</th>\n",
       "      <th>75%</th>\n",
       "      <th>max</th>\n",
       "    </tr>\n",
       "  </thead>\n",
       "  <tbody>\n",
       "    <tr>\n",
       "      <th>Unnamed: 0</th>\n",
       "      <td>45966.0</td>\n",
       "      <td>28791.533808</td>\n",
       "      <td>15775.759209</td>\n",
       "      <td>0.000000e+00</td>\n",
       "      <td>15703.250000</td>\n",
       "      <td>29204.500000</td>\n",
       "      <td>42405.750000</td>\n",
       "      <td>5.543900e+04</td>\n",
       "    </tr>\n",
       "    <tr>\n",
       "      <th>Year</th>\n",
       "      <td>45966.0</td>\n",
       "      <td>2000.280903</td>\n",
       "      <td>11.377464</td>\n",
       "      <td>1.980000e+03</td>\n",
       "      <td>1991.000000</td>\n",
       "      <td>2001.000000</td>\n",
       "      <td>2010.000000</td>\n",
       "      <td>2.019000e+03</td>\n",
       "    </tr>\n",
       "    <tr>\n",
       "      <th>Energy_consumption</th>\n",
       "      <td>39447.0</td>\n",
       "      <td>1.675059</td>\n",
       "      <td>16.329246</td>\n",
       "      <td>-1.634377e-01</td>\n",
       "      <td>0.000325</td>\n",
       "      <td>0.029739</td>\n",
       "      <td>0.263251</td>\n",
       "      <td>6.010405e+02</td>\n",
       "    </tr>\n",
       "    <tr>\n",
       "      <th>Energy_production</th>\n",
       "      <td>39448.0</td>\n",
       "      <td>1.667949</td>\n",
       "      <td>16.149109</td>\n",
       "      <td>-1.000000e-39</td>\n",
       "      <td>0.000000</td>\n",
       "      <td>0.002136</td>\n",
       "      <td>0.146580</td>\n",
       "      <td>6.115090e+02</td>\n",
       "    </tr>\n",
       "    <tr>\n",
       "      <th>GDP</th>\n",
       "      <td>40026.0</td>\n",
       "      <td>827.144126</td>\n",
       "      <td>5981.703144</td>\n",
       "      <td>1.249580e-01</td>\n",
       "      <td>9.737780</td>\n",
       "      <td>47.757100</td>\n",
       "      <td>263.687100</td>\n",
       "      <td>1.276902e+05</td>\n",
       "    </tr>\n",
       "    <tr>\n",
       "      <th>Population</th>\n",
       "      <td>45966.0</td>\n",
       "      <td>62694.852323</td>\n",
       "      <td>456442.572641</td>\n",
       "      <td>1.147100e+01</td>\n",
       "      <td>1155.080000</td>\n",
       "      <td>6169.310000</td>\n",
       "      <td>20059.200000</td>\n",
       "      <td>7.714631e+06</td>\n",
       "    </tr>\n",
       "    <tr>\n",
       "      <th>Energy_intensity_per_capita</th>\n",
       "      <td>44766.0</td>\n",
       "      <td>80.876779</td>\n",
       "      <td>117.575841</td>\n",
       "      <td>0.000000e+00</td>\n",
       "      <td>8.473511</td>\n",
       "      <td>38.364848</td>\n",
       "      <td>105.960210</td>\n",
       "      <td>1.139321e+03</td>\n",
       "    </tr>\n",
       "    <tr>\n",
       "      <th>Energy_intensity_by_GDP</th>\n",
       "      <td>44766.0</td>\n",
       "      <td>4.156682</td>\n",
       "      <td>4.667849</td>\n",
       "      <td>0.000000e+00</td>\n",
       "      <td>1.631358</td>\n",
       "      <td>3.367963</td>\n",
       "      <td>5.318719</td>\n",
       "      <td>1.669136e+02</td>\n",
       "    </tr>\n",
       "    <tr>\n",
       "      <th>CO2_emission</th>\n",
       "      <td>45090.0</td>\n",
       "      <td>87.155956</td>\n",
       "      <td>962.170327</td>\n",
       "      <td>-5.130222e-03</td>\n",
       "      <td>0.000000</td>\n",
       "      <td>0.008616</td>\n",
       "      <td>6.328106</td>\n",
       "      <td>3.558493e+04</td>\n",
       "    </tr>\n",
       "  </tbody>\n",
       "</table>\n",
       "</div>"
      ],
      "text/plain": [
       "                               count          mean            std  \\\n",
       "Unnamed: 0                   45966.0  28791.533808   15775.759209   \n",
       "Year                         45966.0   2000.280903      11.377464   \n",
       "Energy_consumption           39447.0      1.675059      16.329246   \n",
       "Energy_production            39448.0      1.667949      16.149109   \n",
       "GDP                          40026.0    827.144126    5981.703144   \n",
       "Population                   45966.0  62694.852323  456442.572641   \n",
       "Energy_intensity_per_capita  44766.0     80.876779     117.575841   \n",
       "Energy_intensity_by_GDP      44766.0      4.156682       4.667849   \n",
       "CO2_emission                 45090.0     87.155956     962.170327   \n",
       "\n",
       "                                      min           25%           50%  \\\n",
       "Unnamed: 0                   0.000000e+00  15703.250000  29204.500000   \n",
       "Year                         1.980000e+03   1991.000000   2001.000000   \n",
       "Energy_consumption          -1.634377e-01      0.000325      0.029739   \n",
       "Energy_production           -1.000000e-39      0.000000      0.002136   \n",
       "GDP                          1.249580e-01      9.737780     47.757100   \n",
       "Population                   1.147100e+01   1155.080000   6169.310000   \n",
       "Energy_intensity_per_capita  0.000000e+00      8.473511     38.364848   \n",
       "Energy_intensity_by_GDP      0.000000e+00      1.631358      3.367963   \n",
       "CO2_emission                -5.130222e-03      0.000000      0.008616   \n",
       "\n",
       "                                      75%           max  \n",
       "Unnamed: 0                   42405.750000  5.543900e+04  \n",
       "Year                          2010.000000  2.019000e+03  \n",
       "Energy_consumption               0.263251  6.010405e+02  \n",
       "Energy_production                0.146580  6.115090e+02  \n",
       "GDP                            263.687100  1.276902e+05  \n",
       "Population                   20059.200000  7.714631e+06  \n",
       "Energy_intensity_per_capita    105.960210  1.139321e+03  \n",
       "Energy_intensity_by_GDP          5.318719  1.669136e+02  \n",
       "CO2_emission                     6.328106  3.558493e+04  "
      ]
     },
     "execution_count": 18,
     "metadata": {},
     "output_type": "execute_result"
    }
   ],
   "source": [
    "df.drop('Country', axis=1).select_dtypes('number').describe().transpose()"
   ]
  },
  {
   "cell_type": "code",
   "execution_count": 19,
   "metadata": {},
   "outputs": [
    {
     "data": {
      "text/plain": [
       "Unnamed: 0                     False\n",
       "Country                        False\n",
       "Energy_type                    False\n",
       "Year                           False\n",
       "Energy_consumption              True\n",
       "Energy_production               True\n",
       "GDP                             True\n",
       "Population                     False\n",
       "Energy_intensity_per_capita     True\n",
       "Energy_intensity_by_GDP         True\n",
       "CO2_emission                    True\n",
       "dtype: bool"
      ]
     },
     "execution_count": 19,
     "metadata": {},
     "output_type": "execute_result"
    }
   ],
   "source": [
    "df.isna().any()"
   ]
  },
  {
   "cell_type": "code",
   "execution_count": 20,
   "metadata": {},
   "outputs": [],
   "source": [
    "def stats_dados_faltantes(df: pd.DataFrame) -> None:\n",
    "\n",
    "  stats_dados_faltantes = []\n",
    "  for col in df.columns:\n",
    "    if df[col].isna().any():\n",
    "      qtd, _ = df[df[col].isna()].shape\n",
    "      total, _ = df.shape\n",
    "      dict_dados_faltantes = {col: {'quantidade': qtd, \"porcentagem\": round(100 * qtd/total, 2)}}\n",
    "      stats_dados_faltantes.append(dict_dados_faltantes)\n",
    "\n",
    "  for stat in stats_dados_faltantes:\n",
    "    print(stat)"
   ]
  },
  {
   "cell_type": "code",
   "execution_count": 21,
   "metadata": {},
   "outputs": [
    {
     "name": "stdout",
     "output_type": "stream",
     "text": [
      "{'Energy_consumption': {'quantidade': 6519, 'porcentagem': 14.18}}\n",
      "{'Energy_production': {'quantidade': 6518, 'porcentagem': 14.18}}\n",
      "{'GDP': {'quantidade': 5940, 'porcentagem': 12.92}}\n",
      "{'Energy_intensity_per_capita': {'quantidade': 1200, 'porcentagem': 2.61}}\n",
      "{'Energy_intensity_by_GDP': {'quantidade': 1200, 'porcentagem': 2.61}}\n",
      "{'CO2_emission': {'quantidade': 876, 'porcentagem': 1.91}}\n"
     ]
    }
   ],
   "source": [
    "stats_dados_faltantes(df=df)"
   ]
  }
 ],
 "metadata": {
  "kernelspec": {
   "display_name": "Python 3",
   "language": "python",
   "name": "python3"
  },
  "language_info": {
   "codemirror_mode": {
    "name": "ipython",
    "version": 3
   },
   "file_extension": ".py",
   "mimetype": "text/x-python",
   "name": "python",
   "nbconvert_exporter": "python",
   "pygments_lexer": "ipython3",
   "version": "3.11.5"
  }
 },
 "nbformat": 4,
 "nbformat_minor": 2
}
