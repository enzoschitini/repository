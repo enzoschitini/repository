{
 "cells": [
  {
   "cell_type": "markdown",
   "metadata": {},
   "source": [
    "<img src=\"image/Capa.png\" alt=\"ebac-logo\">\n",
    "\n",
    "---\n",
    "\n",
    "# **Imola** | Python: DataSet Space: Analisi Esplorativa\n",
    "\n",
    "Caderno de **Códigos**<br> \n",
    "Desenvolvedor [Enzo Schitini](https://enzo-schitini.bubbleapps.io/version-test/)\n",
    "\n",
    "---"
   ]
  },
  {
   "cell_type": "markdown",
   "metadata": {},
   "source": [
    "### `Analisi esplorativa`"
   ]
  },
  {
   "cell_type": "code",
   "execution_count": 5,
   "metadata": {},
   "outputs": [],
   "source": [
    "satelite = './satelite.csv'\n",
    "stars = './Stars.csv'"
   ]
  },
  {
   "cell_type": "code",
   "execution_count": 6,
   "metadata": {},
   "outputs": [],
   "source": [
    "def valore_abbreviato(valore:str) -> str:\n",
    "    alg_valore = list(valore)\n",
    "    num_punt = sum(map(lambda x: x == '.', valore))\n",
    "    for x in range(num_punt):\n",
    "     alg_valore.remove('.')\n",
    "    numero = int(\"\".join(alg_valore))\n",
    "    numero_format = \"{:,}\".format(numero).replace(\",\", \".\")\n",
    "    return numero_format"
   ]
  },
  {
   "cell_type": "code",
   "execution_count": 7,
   "metadata": {},
   "outputs": [
    {
     "name": "stdout",
     "output_type": "stream",
     "text": [
      "Inormazioni dei dati: 9.564 righe e 50 colonne.\n"
     ]
    }
   ],
   "source": [
    "import pandas as pd\n",
    "df = pd.read_csv(satelite, na_values='na')\n",
    "\n",
    "struttura = df.shape\n",
    "struttura = str(struttura).replace('(', '').replace(')', '')\n",
    "struttura = str(struttura).strip().split(sep=',')\n",
    "print(f'Inormazioni dei dati: {valore_abbreviato(struttura[0])} righe e {valore_abbreviato(struttura[1])} colonne.')\n"
   ]
  },
  {
   "cell_type": "code",
   "execution_count": 8,
   "metadata": {},
   "outputs": [
    {
     "name": "stdout",
     "output_type": "stream",
     "text": [
      "(2293, 50)\n",
      "(5023, 50)\n",
      "(2248, 50)\n"
     ]
    }
   ],
   "source": [
    "print(df[df['koi_disposition'] == 'CONFIRMED'].shape)\n",
    "print(df[df['koi_disposition'] == 'FALSE POSITIVE'].shape)\n",
    "print(df[df['koi_disposition'] == 'CANDIDATE'].shape)"
   ]
  },
  {
   "cell_type": "code",
   "execution_count": 9,
   "metadata": {},
   "outputs": [
    {
     "name": "stdout",
     "output_type": "stream",
     "text": [
      "Proporzione confermati: 23.98%\n",
      "Proporzione falsi 52.52%\n",
      "Proporzione candidati 23.5%\n"
     ]
    }
   ],
   "source": [
    "qtd_total, _ = df.shape\n",
    "qtd_confirmed, _ = df[df['koi_disposition'] == 'CONFIRMED'].shape\n",
    "qtd_false, _ = df[df['koi_disposition'] == 'FALSE POSITIVE'].shape\n",
    "qtd_candidate, _ = df[df['koi_disposition'] == 'CANDIDATE'].shape\n",
    "\n",
    "print(f\"Proporzione confermati: {round(100 * qtd_confirmed / qtd_total, 2)}%\")\n",
    "print(f\"Proporzione falsi {round(100 * qtd_false / qtd_total, 2)}%\")\n",
    "print(f\"Proporzione candidati {round(100 * qtd_candidate / qtd_total, 2)}%\")"
   ]
  },
  {
   "cell_type": "markdown",
   "metadata": {},
   "source": [
    "#### `Schema`"
   ]
  },
  {
   "cell_type": "code",
   "execution_count": 10,
   "metadata": {},
   "outputs": [
    {
     "data": {
      "text/plain": [
       "rowid                  int64\n",
       "kepid                  int64\n",
       "kepoi_name            object\n",
       "kepler_name           object\n",
       "koi_disposition       object\n",
       "koi_pdisposition      object\n",
       "koi_score            float64\n",
       "koi_fpflag_nt          int64\n",
       "koi_fpflag_ss          int64\n",
       "koi_fpflag_co          int64\n",
       "koi_fpflag_ec          int64\n",
       "koi_period           float64\n",
       "koi_period_err1      float64\n",
       "koi_period_err2      float64\n",
       "koi_time0bk          float64\n",
       "koi_time0bk_err1     float64\n",
       "koi_time0bk_err2     float64\n",
       "koi_impact           float64\n",
       "koi_impact_err1      float64\n",
       "koi_impact_err2      float64\n",
       "koi_duration         float64\n",
       "koi_duration_err1    float64\n",
       "koi_duration_err2    float64\n",
       "koi_depth            float64\n",
       "koi_depth_err1       float64\n",
       "koi_depth_err2       float64\n",
       "koi_prad             float64\n",
       "koi_prad_err1        float64\n",
       "koi_prad_err2        float64\n",
       "koi_teq              float64\n",
       "koi_teq_err1         float64\n",
       "koi_teq_err2         float64\n",
       "koi_insol            float64\n",
       "koi_insol_err1       float64\n",
       "koi_insol_err2       float64\n",
       "koi_model_snr        float64\n",
       "koi_tce_plnt_num     float64\n",
       "koi_tce_delivname     object\n",
       "koi_steff            float64\n",
       "koi_steff_err1       float64\n",
       "koi_steff_err2       float64\n",
       "koi_slogg            float64\n",
       "koi_slogg_err1       float64\n",
       "koi_slogg_err2       float64\n",
       "koi_srad             float64\n",
       "koi_srad_err1        float64\n",
       "koi_srad_err2        float64\n",
       "ra                   float64\n",
       "dec                  float64\n",
       "koi_kepmag           float64\n",
       "dtype: object"
      ]
     },
     "execution_count": 10,
     "metadata": {},
     "output_type": "execute_result"
    }
   ],
   "source": [
    "df.dtypes"
   ]
  }
 ],
 "metadata": {
  "kernelspec": {
   "display_name": "Python 3",
   "language": "python",
   "name": "python3"
  },
  "language_info": {
   "codemirror_mode": {
    "name": "ipython",
    "version": 3
   },
   "file_extension": ".py",
   "mimetype": "text/x-python",
   "name": "python",
   "nbconvert_exporter": "python",
   "pygments_lexer": "ipython3",
   "version": "3.11.5"
  }
 },
 "nbformat": 4,
 "nbformat_minor": 2
}
