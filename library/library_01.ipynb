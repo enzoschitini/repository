{
 "cells": [
  {
   "cell_type": "markdown",
   "metadata": {},
   "source": [
    "<img src=\"Images/Library.png\" alt=\"ebac-logo\">\n",
    "\n",
    "---\n",
    "\n",
    "# **Library 01** | Python: Estudo & desenvolvimento de projetos\n",
    "Caderno de **Conteúdos**<br> \n",
    "Desenvolvedor [Enzo Schitini](https://enzo-schitini.bubbleapps.io/version-test/)\n",
    "\n",
    "---"
   ]
  },
  {
   "cell_type": "markdown",
   "metadata": {},
   "source": [
    "### **Descrição** "
   ]
  },
  {
   "cell_type": "markdown",
   "metadata": {},
   "source": [
    "**Sobre:** `---`"
   ]
  },
  {
   "cell_type": "markdown",
   "metadata": {},
   "source": [
    "#### **Tópicos**\n",
    "\n",
    "<ol type=\"1\">\n",
    "  <li>Tratamento de erros</li>\n",
    "  <li>Programação funcional</li>\n",
    "  <li>Consumindo dados de uma tabela</li>\n",
    "  <li>Nomes da tabela</li>\n",
    "  <li>Desvio padrão amostral</li>\n",
    "  <li>Random</li> \n",
    "  <li>Objetos e classes - Exemplos</li> \n",
    "  <li>Graficos</li> \n",
    "  <li>Converter imagens e Criar PDF</li> \n",
    "  <li>Programação orientada a objeto</li> \n",
    "  <li>GitHub</li> \n",
    "  <li>Últil</li> \n",
    "</ol>"
   ]
  },
  {
   "cell_type": "markdown",
   "metadata": {},
   "source": [
    "---"
   ]
  },
  {
   "cell_type": "markdown",
   "metadata": {},
   "source": [
    "## 1\\. `Tratamento de erros`"
   ]
  },
  {
   "cell_type": "markdown",
   "metadata": {},
   "source": [
    "<img src=\"Group2.png\" alt=\"ebac-logo\"> "
   ]
  },
  {
   "cell_type": "markdown",
   "metadata": {},
   "source": [
    "### 1\\.1\\. (**Desafio**)  `Try e Except` para extrair o **tipo de erro**"
   ]
  },
  {
   "cell_type": "markdown",
   "metadata": {},
   "source": [
    "### **Encontrando e filtrando** "
   ]
  },
  {
   "cell_type": "code",
   "execution_count": 1,
   "metadata": {},
   "outputs": [
    {
     "name": "stdout",
     "output_type": "stream",
     "text": [
      "Writing erros.csv\n"
     ]
    }
   ],
   "source": [
    "%%writefile erros.csv\n",
    "nome, classe"
   ]
  },
  {
   "cell_type": "code",
   "execution_count": 2,
   "metadata": {},
   "outputs": [
    {
     "name": "stdout",
     "output_type": "stream",
     "text": [
      "2021\n"
     ]
    }
   ],
   "source": [
    "# Filtrando nome do erro                      | Enzo Schitini\n",
    "\n",
    "anos = [2019, 2020, 2021]\n",
    "\n",
    "try:\n",
    "  ano_atual = anos[2]\n",
    "  print(ano_atual)\n",
    "except Exception as exc:\n",
    "  # Encontrando a posição\n",
    "  posicao_risco = str(type(exc)).find(\"'\") + 1\n",
    "  posicao_fim = str(type(exc)).find(\">\") - 1\n",
    "  resposta = str(type(exc))[posicao_risco:posicao_fim]\n",
    "  # Imprimindo resposta\n",
    "  print(\"O programa apresenta falhas de sistema!\")\n",
    "  print(\"Erro:\", resposta, \"--> descrição:\", str(exc))\n",
    "  # Salvando erros\n",
    "  with open(file='erros.csv', mode='a', encoding='utf8') as fp:\n",
    "    line = str(resposta) + ',' + ' --> ' + str(exc) + '\\n'\n",
    "    fp.write(line)"
   ]
  },
  {
   "cell_type": "code",
   "execution_count": 3,
   "metadata": {},
   "outputs": [
    {
     "name": "stdout",
     "output_type": "stream",
     "text": [
      "nome, classe\n",
      "\n"
     ]
    }
   ],
   "source": [
    "# Mostrando a lista\n",
    "\n",
    "conteudo = None \n",
    "\n",
    "with open(file='erros.csv', mode='r', encoding='utf8') as fp:\n",
    "    conteudo = fp.read()\n",
    "\n",
    "print(conteudo)"
   ]
  },
  {
   "cell_type": "markdown",
   "metadata": {},
   "source": [
    "## 2\\. `Programação funcional`"
   ]
  },
  {
   "cell_type": "markdown",
   "metadata": {},
   "source": [
    "<img src=\"Group2.png\" alt=\"ebac-logo\"> "
   ]
  },
  {
   "cell_type": "markdown",
   "metadata": {},
   "source": [
    "### **Criando e chamando** "
   ]
  },
  {
   "cell_type": "markdown",
   "metadata": {},
   "source": [
    "Sem o retrono"
   ]
  },
  {
   "cell_type": "code",
   "execution_count": 4,
   "metadata": {},
   "outputs": [
    {
     "name": "stdout",
     "output_type": "stream",
     "text": [
      "10\n"
     ]
    }
   ],
   "source": [
    "def soma(v1: int):\n",
    "    soma_resposta = v1 + 5\n",
    "    print(soma_resposta)\n",
    "\n",
    "d1 = 5\n",
    "soma(v1=d1)"
   ]
  },
  {
   "cell_type": "markdown",
   "metadata": {},
   "source": [
    "Com o retrono"
   ]
  },
  {
   "cell_type": "code",
   "execution_count": 5,
   "metadata": {},
   "outputs": [
    {
     "name": "stdout",
     "output_type": "stream",
     "text": [
      "10\n"
     ]
    }
   ],
   "source": [
    "def soma(v1: int, v2: int) -> int:\n",
    "    soma_resposta = v1 + v2\n",
    "    return soma_resposta\n",
    "\n",
    "d1 = 5\n",
    "d2 = 5\n",
    "resposta = soma(v1=d1, v2=d2)\n",
    "print(resposta)"
   ]
  },
  {
   "cell_type": "markdown",
   "metadata": {},
   "source": [
    "### **Função Lambida** "
   ]
  },
  {
   "cell_type": "code",
   "execution_count": 6,
   "metadata": {},
   "outputs": [],
   "source": [
    "ex_email = lambda email: email.split(sep='@')[1]"
   ]
  },
  {
   "cell_type": "code",
   "execution_count": 7,
   "metadata": {},
   "outputs": [],
   "source": [
    "em = 'enzo@gmail.com'\n",
    "vl = ex_email(em)"
   ]
  },
  {
   "cell_type": "code",
   "execution_count": 8,
   "metadata": {},
   "outputs": [
    {
     "name": "stdout",
     "output_type": "stream",
     "text": [
      "gmail.com\n"
     ]
    }
   ],
   "source": [
    "print(vl)"
   ]
  },
  {
   "cell_type": "code",
   "execution_count": 9,
   "metadata": {},
   "outputs": [],
   "source": [
    "som = lambda v1, v2: True if (v1 + v2) / 2 == 16 else False"
   ]
  },
  {
   "cell_type": "code",
   "execution_count": 10,
   "metadata": {},
   "outputs": [
    {
     "name": "stdout",
     "output_type": "stream",
     "text": [
      "True\n"
     ]
    }
   ],
   "source": [
    "v = 10\n",
    "vv = 22\n",
    "\n",
    "valor = som(v,vv)\n",
    "print(valor)"
   ]
  },
  {
   "cell_type": "code",
   "execution_count": 11,
   "metadata": {},
   "outputs": [
    {
     "name": "stdout",
     "output_type": "stream",
     "text": [
      "<map object at 0x000001394005F070>\n",
      "['gmail.com', 'gamail.com']\n"
     ]
    }
   ],
   "source": [
    "emails = ['enzo@gmail.com', 'gew@gamail.com']\n",
    "\n",
    "provedores = map(lambda email: email.split(sep='@')[1], emails)\n",
    "print(provedores)\n",
    "print(list(provedores))"
   ]
  },
  {
   "cell_type": "code",
   "execution_count": 12,
   "metadata": {},
   "outputs": [
    {
     "name": "stdout",
     "output_type": "stream",
     "text": [
      "['enzo@gmail.com']\n"
     ]
    }
   ],
   "source": [
    "provedores = filter(lambda email: '@gmail.com' in email, emails)\n",
    "print(list(provedores))"
   ]
  },
  {
   "cell_type": "code",
   "execution_count": 13,
   "metadata": {},
   "outputs": [
    {
     "name": "stdout",
     "output_type": "stream",
     "text": [
      "Lista com o FOR: [44, 54, 78]\n",
      "Lista com o Lambda: [44, 54, 78]\n"
     ]
    }
   ],
   "source": [
    "qtds = [34, 44, 68]\n",
    "lista = []\n",
    "\n",
    "for qtd in qtds:\n",
    "    v = qtd + 10\n",
    "    lista.append(v)\n",
    "\n",
    "print(\"Lista com o FOR:\", lista)\n",
    "\n",
    "metade = map(lambda qtd: qtd + 10, qtds)\n",
    "print(\"Lista com o Lambda:\", list(metade))"
   ]
  },
  {
   "cell_type": "markdown",
   "metadata": {},
   "source": [
    "### **Com dicionários** "
   ]
  },
  {
   "cell_type": "code",
   "execution_count": 14,
   "metadata": {},
   "outputs": [
    {
     "name": "stdout",
     "output_type": "stream",
     "text": [
      "[448.0, 826.7, 313.6, -8008.0, 2212.0, 2771.3, 2240.0, -4151.0, 2021.95, 4039.0]\n"
     ]
    }
   ],
   "source": [
    "emprestimos = [\n",
    "    {'id_vendedor': '104271', 'valor_emprestimos': '448.0', 'quantidade_emprestimos': '1', 'data': '20161208'},\n",
    "    {'id_vendedor': '21476', 'valor_emprestimos': '826.7', 'quantidade_emprestimos': '3', 'data': '20161208'},\n",
    "    {'id_vendedor': '87440', 'valor_emprestimos': '313.6', 'quantidade_emprestimos': '3', 'data': '20161208'},\n",
    "    {'id_vendedor': '15980', 'valor_emprestimos': '-8008.0', 'quantidade_emprestimos': '6', 'data': '20161208'},\n",
    "    {'id_vendedor': '215906', 'valor_emprestimos': '2212.0', 'quantidade_emprestimos': '5', 'data': '20161208'},\n",
    "    {'id_vendedor': '33696', 'valor_emprestimos': '2771.3', 'quantidade_emprestimos': '2', 'data': '20161208'},\n",
    "    {'id_vendedor': '33893', 'valor_emprestimos': '2240.0', 'quantidade_emprestimos': '3', 'data': '20161208'},\n",
    "    {'id_vendedor': '214946', 'valor_emprestimos': '-4151.0', 'quantidade_emprestimos': '18', 'data': '20161208'},\n",
    "    {'id_vendedor': '123974', 'valor_emprestimos': '2021.95', 'quantidade_emprestimos': '2', 'data': \n",
    "'20161208'},\n",
    "    {'id_vendedor': \n",
    "'225870', \n",
    "'valor_emprestimos':\n",
    "'4039.0',\n",
    "'quantidade_emprestimos':\n",
    "'2',\n",
    "'data':\n",
    "'20161208'}\n",
    "]\n",
    "\n",
    "valor_emprestimos_lista = list(map(lambda x: float(x['valor_emprestimos']), emprestimos))\n",
    "\n",
    "print(valor_emprestimos_lista)"
   ]
  },
  {
   "cell_type": "markdown",
   "metadata": {},
   "source": [
    "## 3\\. `Consumindo dados de uma tabela`"
   ]
  },
  {
   "cell_type": "markdown",
   "metadata": {},
   "source": [
    "<img src=\"Group2.png\" alt=\"ebac-logo\"> "
   ]
  },
  {
   "cell_type": "code",
   "execution_count": 15,
   "metadata": {},
   "outputs": [
    {
     "ename": "FileNotFoundError",
     "evalue": "[Errno 2] No such file or directory: './banco.csv'",
     "output_type": "error",
     "traceback": [
      "\u001b[1;31m---------------------------------------------------------------------------\u001b[0m",
      "\u001b[1;31mFileNotFoundError\u001b[0m                         Traceback (most recent call last)",
      "\u001b[1;32mf:\\Python\\library\\library_01.ipynb Cella 33\u001b[0m line \u001b[0;36m4\n\u001b[0;32m      <a href='vscode-notebook-cell:/f%3A/Python/library/library_01.ipynb#X44sZmlsZQ%3D%3D?line=0'>1</a>\u001b[0m lista \u001b[39m=\u001b[39m []\n\u001b[0;32m      <a href='vscode-notebook-cell:/f%3A/Python/library/library_01.ipynb#X44sZmlsZQ%3D%3D?line=1'>2</a>\u001b[0m ordem \u001b[39m=\u001b[39m \u001b[39m0\u001b[39m\n\u001b[1;32m----> <a href='vscode-notebook-cell:/f%3A/Python/library/library_01.ipynb#X44sZmlsZQ%3D%3D?line=3'>4</a>\u001b[0m \u001b[39mwith\u001b[39;00m \u001b[39mopen\u001b[39;49m(file\u001b[39m=\u001b[39;49m\u001b[39m'\u001b[39;49m\u001b[39m./banco.csv\u001b[39;49m\u001b[39m'\u001b[39;49m, mode\u001b[39m=\u001b[39;49m\u001b[39m'\u001b[39;49m\u001b[39mr\u001b[39;49m\u001b[39m'\u001b[39;49m, encoding\u001b[39m=\u001b[39;49m\u001b[39m'\u001b[39;49m\u001b[39mutf8\u001b[39;49m\u001b[39m'\u001b[39;49m) \u001b[39mas\u001b[39;00m arq:\n\u001b[0;32m      <a href='vscode-notebook-cell:/f%3A/Python/library/library_01.ipynb#X44sZmlsZQ%3D%3D?line=4'>5</a>\u001b[0m     linha \u001b[39m=\u001b[39m arq\u001b[39m.\u001b[39mreadline()\n\u001b[0;32m      <a href='vscode-notebook-cell:/f%3A/Python/library/library_01.ipynb#X44sZmlsZQ%3D%3D?line=5'>6</a>\u001b[0m     linha \u001b[39m=\u001b[39m arq\u001b[39m.\u001b[39mreadline()\n",
      "File \u001b[1;32m~\\AppData\\Roaming\\Python\\Python311\\site-packages\\IPython\\core\\interactiveshell.py:286\u001b[0m, in \u001b[0;36m_modified_open\u001b[1;34m(file, *args, **kwargs)\u001b[0m\n\u001b[0;32m    279\u001b[0m \u001b[39mif\u001b[39;00m file \u001b[39min\u001b[39;00m {\u001b[39m0\u001b[39m, \u001b[39m1\u001b[39m, \u001b[39m2\u001b[39m}:\n\u001b[0;32m    280\u001b[0m     \u001b[39mraise\u001b[39;00m \u001b[39mValueError\u001b[39;00m(\n\u001b[0;32m    281\u001b[0m         \u001b[39mf\u001b[39m\u001b[39m\"\u001b[39m\u001b[39mIPython won\u001b[39m\u001b[39m'\u001b[39m\u001b[39mt let you open fd=\u001b[39m\u001b[39m{\u001b[39;00mfile\u001b[39m}\u001b[39;00m\u001b[39m by default \u001b[39m\u001b[39m\"\u001b[39m\n\u001b[0;32m    282\u001b[0m         \u001b[39m\"\u001b[39m\u001b[39mas it is likely to crash IPython. If you know what you are doing, \u001b[39m\u001b[39m\"\u001b[39m\n\u001b[0;32m    283\u001b[0m         \u001b[39m\"\u001b[39m\u001b[39myou can use builtins\u001b[39m\u001b[39m'\u001b[39m\u001b[39m open.\u001b[39m\u001b[39m\"\u001b[39m\n\u001b[0;32m    284\u001b[0m     )\n\u001b[1;32m--> 286\u001b[0m \u001b[39mreturn\u001b[39;00m io_open(file, \u001b[39m*\u001b[39;49margs, \u001b[39m*\u001b[39;49m\u001b[39m*\u001b[39;49mkwargs)\n",
      "\u001b[1;31mFileNotFoundError\u001b[0m: [Errno 2] No such file or directory: './banco.csv'"
     ]
    }
   ],
   "source": [
    "lista = []\n",
    "ordem = 0\n",
    "\n",
    "with open(file='./banco.csv', mode='r', encoding='utf8') as arq:\n",
    "    linha = arq.readline()\n",
    "    linha = arq.readline()\n",
    "    while linha:\n",
    "        list(linha)\n",
    "        linha = linha.split(',')[5]\n",
    "        lista.append(linha)\n",
    "        if linha == '747':\n",
    "            print(\"OK\")\n",
    "        linha = arq.readline()\n",
    "\n",
    "for ele in lista:\n",
    "    ordem = ordem + 1\n",
    "    print(\"-----------------\")\n",
    "    if ele == '0':\n",
    "        print(ordem, '->', ele, \"##### NULO\")\n",
    "    else:\n",
    "        print(ordem, '->', ele)\n",
    "\n",
    "print(\"-----------------\")"
   ]
  },
  {
   "cell_type": "code",
   "execution_count": null,
   "metadata": {},
   "outputs": [],
   "source": [
    "lista = []\n",
    "\n",
    "with open(file='./reviews_data.csv', mode='r', encoding='utf8') as arq:\n",
    "    linha = arq.readline()\n",
    "    linha = arq.readline()\n",
    "    while linha:\n",
    "        list(linha)\n",
    "        linha = linha.split(',')[0]\n",
    "        lista.append(linha)\n",
    "        linha = arq.readline()\n",
    "\n",
    "print(lista)"
   ]
  },
  {
   "cell_type": "markdown",
   "metadata": {},
   "source": [
    "---"
   ]
  },
  {
   "cell_type": "markdown",
   "metadata": {},
   "source": [
    "## 4\\. `Nomes da tabela`"
   ]
  },
  {
   "cell_type": "markdown",
   "metadata": {},
   "source": [
    "<img src=\"Group2.png\" alt=\"ebac-logo\"> "
   ]
  },
  {
   "cell_type": "code",
   "execution_count": null,
   "metadata": {},
   "outputs": [],
   "source": [
    "nomes = lista\n",
    "\n",
    "# Se você quiser saber quais nomes se repetem na lista, você pode usar a função \n",
    "# set() para criar um conjunto com os nomes únicos e depois iterar sobre esse \n",
    "# conjunto para verificar quantas vezes cada nome aparece na lista:\n",
    "\n",
    "nomes = lista\n",
    "nomes_unicos = set(nomes)\n",
    "qtd_nomes = []\n",
    "\n",
    "for nome in nomes_unicos:\n",
    "    if nomes.count(nome) > 1:\n",
    "        #print(f\"O nome {nome} aparece {nomes.count(nome)} vezes na lista.\")\n",
    "        qtd_nomes.append(nomes.count(nome))\n",
    "\n",
    "maior_numero = max(qtd_nomes)\n",
    "#print(f\"O maior número na lista é {maior_numero}.\")\n",
    "\n",
    "for nome in nomes_unicos:\n",
    "    if nomes.count(nome) == maior_numero:\n",
    "        print(f\"O nome {nome} aparece {nomes.count(nome)} vezes na lista.\")\n",
    "        qtd_nomes.append(nomes.count(nome))"
   ]
  },
  {
   "cell_type": "code",
   "execution_count": null,
   "metadata": {},
   "outputs": [],
   "source": [
    "# Criando tabela com os nomes repetidos\n",
    "\n",
    "nomes = lista\n",
    "nomes_unicos = set(nomes)\n",
    "qtd_nomes = []\n",
    "qtd_nomes_ordem = []\n",
    "\n",
    "# Nome e repetições\n",
    "for nome in nomes_unicos:\n",
    "    if nomes.count(nome) > 1:\n",
    "        rp = f\"O nome {nome}, Aparece {nomes.count(nome)} vezes na lista.\"\n",
    "        qtd_nomes.append(rp)\n",
    "\n",
    "# Ordenando --------------\n",
    "print(qtd_nomes)\n",
    "r = qtd_nomes[1]\n",
    "str(r)\n",
    "va = r[r.find(':') + 2]\n",
    "#print(va)\n",
    "# ------------------------"
   ]
  },
  {
   "cell_type": "code",
   "execution_count": null,
   "metadata": {},
   "outputs": [],
   "source": [
    "ord = 0\n",
    "with open(file='nomes.csv', mode='a', encoding='utf8') as fp:\n",
    "  for scr in qtd_nomes:\n",
    "    ord = ord + 1\n",
    "    str(scr)\n",
    "    linha = str(ord) + ',' + scr + '\\n'\n",
    "    fp.write(linha)"
   ]
  },
  {
   "cell_type": "code",
   "execution_count": null,
   "metadata": {},
   "outputs": [],
   "source": [
    "import os\n",
    "import sys\n",
    "\n",
    "def restart_program():\n",
    "    python = sys.executable\n",
    "    os.execl(python, python, *sys.argv)\n",
    "\n",
    "while True:\n",
    "    try:\n",
    "        # Código aqui:\n",
    "        break  # Se não houver erros, saia do loop\n",
    "    except Exception as e:\n",
    "        print(f\"Ocorreu um erro: {e}\")\n",
    "        restart_program()  # Reinicie o programa em caso de erro\n"
   ]
  },
  {
   "cell_type": "code",
   "execution_count": null,
   "metadata": {},
   "outputs": [],
   "source": [
    "while True:\n",
    "    try:\n",
    "        # Seu código aqui\n",
    "        print('OK')\n",
    "        lista = [3, 9, 2]\n",
    "        lista = lista[3]\n",
    "        print(lista)\n",
    "        break # Se não houver erros, saia do loop\n",
    "    except Exception as e:\n",
    "        print(f\"Ocorreu um erro: {e}\")\n",
    "        continue  # Se ocorrer um erro, continue para a próxima iteração do loop\n"
   ]
  },
  {
   "cell_type": "markdown",
   "metadata": {},
   "source": [
    "## 5\\. `Desvio padrão amostral`"
   ]
  },
  {
   "cell_type": "markdown",
   "metadata": {},
   "source": [
    "<img src=\"Group2.png\" alt=\"ebac-logo\"> "
   ]
  },
  {
   "cell_type": "markdown",
   "metadata": {},
   "source": [
    "##### **1. Definição** "
   ]
  },
  {
   "cell_type": "markdown",
   "metadata": {},
   "source": [
    "O **desvio padrão amostral é uma medida estatística** que indica o quanto os valores de um conjunto de dados tendem a se afastar da média. Em Python, você pode calcular o desvio padrão amostral usando a `biblioteca statistics`. A função `stdev()` dessa biblioteca retorna o desvio padrão amostral."
   ]
  },
  {
   "cell_type": "code",
   "execution_count": null,
   "metadata": {},
   "outputs": [],
   "source": [
    "#Aqui está um exemplo de como calcular o desvio padrão amostral em Python:\n",
    "\n",
    "import statistics\n",
    "from functools import reduce\n",
    "\n",
    "data = [1, 2, 3, 4, 5]\n",
    "sample_stdev = statistics.stdev(data)\n",
    "soma = reduce(lambda x, y: x + y, data)\n",
    "media = round(soma / 5)\n",
    "print(f\"Desvio padrão amostral: {sample_stdev} e media é: {media}\")"
   ]
  },
  {
   "cell_type": "markdown",
   "metadata": {},
   "source": [
    "Esse código calcula o desvio padrão amostral para um conjunto de dados representado pela lista data. No exemplo acima, o resultado será `1.58113883008418981`.\n",
    "\n",
    "Lembre-se de que o desvio padrão amostral **é uma medida útil para entender a dispersão dos dados em torno da média**. Ele é frequentemente **usado em `análises estatísticas` e `científicas` para avaliar a variabilidade dos dados**."
   ]
  },
  {
   "cell_type": "markdown",
   "metadata": {},
   "source": [
    "## 6\\. `Random`"
   ]
  },
  {
   "cell_type": "markdown",
   "metadata": {},
   "source": [
    "<img src=\"Group2.png\" alt=\"ebac-logo\"> "
   ]
  },
  {
   "cell_type": "markdown",
   "metadata": {},
   "source": [
    "##### **1. Definição** "
   ]
  },
  {
   "cell_type": "markdown",
   "metadata": {},
   "source": [
    "A função `random` é uma biblioteca padrão do Python que permite gerar números pseudoaleatórios. Ela pode ser usada para gerar números aleatórios inteiros ou em ponto flutuante, bem como para selecionar elementos aleatórios de uma sequência. A documentação oficial do Python 3.11.5 contém informações detalhadas sobre a biblioteca `random`.\n",
    "\n",
    "A função `random` é usada para gerar números pseudoaleatórios uniformemente distribuídos em um intervalo semiaberto de 0,0 a 1,0. A função `randint(a, b)` pode ser usada para gerar um número inteiro aleatório entre `a` e `b`, inclusive. "
   ]
  },
  {
   "cell_type": "code",
   "execution_count": null,
   "metadata": {},
   "outputs": [],
   "source": [
    "from random import random\n",
    "\n",
    "print(random())"
   ]
  },
  {
   "cell_type": "code",
   "execution_count": null,
   "metadata": {},
   "outputs": [],
   "source": [
    "# RANDOM\n",
    "\n",
    "from random import random\n",
    "\n",
    "numeros = [round(100 * random()) for _ in range(0, 100)]\n",
    "print(numeros)\n",
    "\n",
    "import random\n",
    "\n",
    "numero_aleatorio = random.randint(0, 100)\n",
    "#print(numero_aleatorio)\n",
    "\n",
    "r = numeros[numero_aleatorio]\n",
    "print(\"O valor na posição:\", numero_aleatorio, \"é\", r)"
   ]
  },
  {
   "cell_type": "code",
   "execution_count": null,
   "metadata": {},
   "outputs": [],
   "source": [
    "# Números pares\n",
    "\n",
    "pares = []\n",
    "impares = []\n",
    "\n",
    "for numero in numeros:\n",
    "    num = numero % 2\n",
    "    if num == 0:\n",
    "        pares.append(numero)\n",
    "    else:\n",
    "        impares.append(numero)\n",
    "\n",
    "print(\"Pares:\", pares)\n",
    "print(\"Impares:\", impares)"
   ]
  },
  {
   "cell_type": "markdown",
   "metadata": {},
   "source": [
    "##### **2. Permutação aleatória** "
   ]
  },
  {
   "cell_type": "markdown",
   "metadata": {},
   "source": [
    "A função `random` também pode ser usada para gerar uma permutação aleatória de uma lista internamente e para amostragem aleatória sem substituição. \n",
    "\n",
    "A biblioteca NumPy também fornece a função `numpy.random.permutation()` que é usada principalmente para obter uma cópia permutada aleatoriamente de uma sequência e obter um intervalo permutado aleatoriamente em Python."
   ]
  },
  {
   "cell_type": "markdown",
   "metadata": {},
   "source": [
    "##### **3. Arredondar um números** "
   ]
  },
  {
   "cell_type": "markdown",
   "metadata": {},
   "source": [
    "Por fim, a função `round()` é usada para arredondar um número com precisão especificada."
   ]
  },
  {
   "cell_type": "markdown",
   "metadata": {},
   "source": [
    "## 7\\. `Objetos e classes - Exemplos`"
   ]
  },
  {
   "cell_type": "markdown",
   "metadata": {},
   "source": [
    "<img src=\"Group2.png\" alt=\"ebac-logo\"> "
   ]
  },
  {
   "cell_type": "code",
   "execution_count": null,
   "metadata": {},
   "outputs": [],
   "source": [
    "class Pessoa(object):\n",
    "\n",
    "  def __init__(self, nome: str, idade: int, documento: str):\n",
    "    self.nome = nome\n",
    "    self.idade = idade\n",
    "    self.documento = documento"
   ]
  },
  {
   "cell_type": "markdown",
   "metadata": {},
   "source": [
    "## 8\\. `Gráficos`"
   ]
  },
  {
   "cell_type": "markdown",
   "metadata": {},
   "source": [
    "<img src=\"Group2.png\" alt=\"ebac-logo\"> "
   ]
  },
  {
   "cell_type": "markdown",
   "metadata": {},
   "source": [
    "#### `# Aula 01 - Introdução`"
   ]
  },
  {
   "cell_type": "code",
   "execution_count": 16,
   "metadata": {},
   "outputs": [
    {
     "data": {
      "image/png": "[encoded data removed]",
      "text/plain": [
       "<Figure size 640x480 with 1 Axes>"
      ]
     },
     "metadata": {},
     "output_type": "display_data"
    }
   ],
   "source": [
    "def graficos():\n",
    "\n",
    "  import matplotlib.pyplot as plt\n",
    "  x = [1, 2, 3, 4, 5, 6]\n",
    "  y = [1, 4, 9, 16, 25, 36]\n",
    "\n",
    "  plt.plot(x,y,color='blue')\n",
    "  plt.scatter(x,y,color='black')\n",
    "  plt.title('Climate Change')\n",
    "  plt.xlabel('x')\n",
    "  plt.ylabel('y')\n",
    "  plt.grid()\n",
    "  plt.legend(['Estimativa', 'Dado'])\n",
    "  plt.show()\n",
    "\n",
    "graficos()"
   ]
  },
  {
   "cell_type": "markdown",
   "metadata": {},
   "source": [
    "#### `# Aula 02 - Gráfico matplotlib: Alterando formatação das linhas`"
   ]
  },
  {
   "cell_type": "code",
   "execution_count": null,
   "metadata": {},
   "outputs": [
    {
     "data": {
      "image/png": "[encoded data removed]",
      "text/plain": [
       "<Figure size 640x480 with 1 Axes>"
      ]
     },
     "metadata": {},
     "output_type": "display_data"
    }
   ],
   "source": [
    "def graficos():\n",
    "\n",
    "  import matplotlib.pyplot as plt\n",
    "  x = [1, 2, 3, 4, 5, 6]\n",
    "  y = [1, 4, 9, 16, 25, 36]\n",
    "\n",
    "  plt.plot(x,y,'b--') # b = blue\n",
    "  #plt.plot(x,y,'b-.') \n",
    "  plt.scatter(x,y,marker='v',color='red')\n",
    "  plt.show()\n",
    "\n",
    "graficos()"
   ]
  },
  {
   "cell_type": "markdown",
   "metadata": {},
   "source": [
    "#### `# Aula 03 - Uso de label em legend para o comando plot`"
   ]
  },
  {
   "cell_type": "code",
   "execution_count": null,
   "metadata": {},
   "outputs": [
    {
     "data": {
      "image/png": "[encoded data removed]",
      "text/plain": [
       "<Figure size 640x480 with 1 Axes>"
      ]
     },
     "metadata": {},
     "output_type": "display_data"
    }
   ],
   "source": [
    "def graficos():\n",
    "\n",
    "  import matplotlib.pyplot as plt\n",
    "  x = [1, 2, 3, 4, 5]\n",
    "  y1 = [2, 4, 7, 5, 8]\n",
    "  y2 = [3, 6, 9, 4, 5]\n",
    "  \n",
    "  plt.plot(x,y1,color='blue',label='Produção')\n",
    "  plt.plot(x,y2,color='red',label='Demanda')\n",
    "  plt.legend()\n",
    "  plt.show()\n",
    "\n",
    "graficos()"
   ]
  },
  {
   "cell_type": "markdown",
   "metadata": {},
   "source": [
    "#### `# Aula 04 - Uso conjunto de plot e bar`"
   ]
  },
  {
   "cell_type": "code",
   "execution_count": 17,
   "metadata": {},
   "outputs": [
    {
     "data": {
      "image/png": "[encoded data removed]",
      "text/plain": [
       "<Figure size 640x480 with 1 Axes>"
      ]
     },
     "metadata": {},
     "output_type": "display_data"
    }
   ],
   "source": [
    "def graficos():\n",
    "\n",
    "  import matplotlib.pyplot as plt\n",
    "  x  = [1, 2, 3, 4, 5, 6, 7, 8, 9]\n",
    "  y1 = [1, 3, 5, 3, 1, 3, 5, 3, 1]\n",
    "  y2 = [2, 4, 6, 4, 2, 4, 6, 4, 2]\n",
    "  \n",
    "  plt.plot(x,y1,'r-.')\n",
    "  plt.bar(x,y2,color='gray')\n",
    "  plt.show()\n",
    "\n",
    "graficos()"
   ]
  },
  {
   "cell_type": "markdown",
   "metadata": {},
   "source": [
    "#### `# Aula 05 - Dois gráficos de barras no mesmo gráfico`"
   ]
  },
  {
   "cell_type": "code",
   "execution_count": 18,
   "metadata": {},
   "outputs": [
    {
     "data": {
      "image/png": "[encoded data removed]",
      "text/plain": [
       "<Figure size 640x480 with 1 Axes>"
      ]
     },
     "metadata": {},
     "output_type": "display_data"
    }
   ],
   "source": [
    "import matplotlib.pyplot as plt\n",
    "\n",
    "# Look at index 4 and 6, which demonstrate overlapping cases.\n",
    "x1 = [1, 3, 4, 5, 6, 7, 9] # Pareamento entre índice de satisfação (x) e número de clientes (y)\n",
    "y1 = [4, 7, 2, 4, 7, 8, 3]\n",
    "\n",
    "x2 = [2, 4, 6, 8, 10] # Pareamento entre índice de satisfação (x) e número de clientes (y)\n",
    "y2 = [5, 6, 2, 6, 2]\n",
    "\n",
    "# Mais cores: https://matplotlib.org/api/colors_api.html\n",
    "\n",
    "plt.bar(x1, y1, label=\"Empresa A\", color='b')\n",
    "plt.bar(x2, y2, label=\"Empresa B\", color='g')\n",
    "plt.plot()\n",
    "\n",
    "plt.xlabel(\"Índice de Satisfação\")\n",
    "plt.ylabel(\"Número de clientes\")\n",
    "plt.title(\"Comparativo de desempenho entre empresas\")\n",
    "plt.legend()\n",
    "plt.show()"
   ]
  },
  {
   "cell_type": "markdown",
   "metadata": {},
   "source": [
    "#### `# Conclisão - Salvar gráfico matplotlib como imagem`"
   ]
  },
  {
   "cell_type": "code",
   "execution_count": 19,
   "metadata": {},
   "outputs": [
    {
     "data": {
      "image/png": "[encoded data removed]",
      "text/plain": [
       "<Figure size 640x480 with 1 Axes>"
      ]
     },
     "metadata": {},
     "output_type": "display_data"
    }
   ],
   "source": [
    "def graficos():\n",
    "\n",
    "  import matplotlib.pyplot as plt\n",
    "  x = [1, 2, 3, 4, 5, 6]\n",
    "  y = [1, 4, 9, 16, 25, 36]\n",
    "\n",
    "  plt.plot(x,y,color='blue')\n",
    "  plt.scatter(x,y,color='black')\n",
    "  plt.title('Climate Change')\n",
    "  plt.xlabel('x')\n",
    "  plt.ylabel('y')\n",
    "  plt.grid()\n",
    "  plt.legend(['Estimativa', 'Dado'])\n",
    "  plt.savefig('plt.jpg')\n",
    "  plt.show()\n",
    "\n",
    "graficos()"
   ]
  },
  {
   "cell_type": "markdown",
   "metadata": {},
   "source": [
    "#### `# Exemplos - Gráficos práticos`"
   ]
  },
  {
   "cell_type": "code",
   "execution_count": 20,
   "metadata": {},
   "outputs": [
    {
     "data": {
      "image/png": "[encoded data removed]",
      "text/plain": [
       "<Figure size 640x480 with 1 Axes>"
      ]
     },
     "metadata": {},
     "output_type": "display_data"
    }
   ],
   "source": [
    "# Importando a biblioteca para fazer gráficos.\n",
    "import matplotlib.pyplot as plt\n",
    "\n",
    "x = [2, 3, 4, 5, 6, 7, 8, 9]\n",
    "y = [9, 2, 8, 3, 7, 4, 6, 5]\n",
    "\n",
    "# Criando gráficos a partir dos valores contidos em x e y.\n",
    "plt.plot(x, y, color='green')  # Desenhando linhas\n",
    "plt.scatter(x, y, color='red') # Desenhando apenas os pontos\n",
    "plt.title('Evolução das vendas') # Título do gráfico\n",
    "plt.xlabel('Tempo')   # Definindo nome do eixo X\n",
    "plt.ylabel('Vendas')   # Definindo nome do eixo Y\n",
    "plt.legend(['Previsão','Verificado']) # Definindo legenda\n",
    "plt.grid()                            # Criando uma grade \n",
    "\n",
    "plt.show()"
   ]
  },
  {
   "cell_type": "code",
   "execution_count": 21,
   "metadata": {},
   "outputs": [
    {
     "data": {
      "image/png": "[encoded data removed]",
      "text/plain": [
       "<Figure size 640x480 with 1 Axes>"
      ]
     },
     "metadata": {},
     "output_type": "display_data"
    }
   ],
   "source": [
    "plt.plot(x, y, 'b--')\n",
    "plt.scatter(x, y, marker=\"*\", color='red')\n",
    "plt.show()"
   ]
  },
  {
   "cell_type": "code",
   "execution_count": 22,
   "metadata": {},
   "outputs": [
    {
     "data": {
      "image/png": "[encoded data removed]",
      "text/plain": [
       "<Figure size 640x480 with 1 Axes>"
      ]
     },
     "metadata": {},
     "output_type": "display_data"
    }
   ],
   "source": [
    "import matplotlib.pyplot as plt\n",
    " \n",
    "x  = [1, 2, 3, 4, 5, 6, 7, 8, 9]\n",
    "y1 = [1, 3, 5, 3, 1, 3, 5, 3, 1]\n",
    "y2 = [2, 4, 6, 4, 2, 4, 6, 4, 2]\n",
    "plt.plot(x, y2, color = \"blue\", label=\"Produção\")\n",
    "plt.plot(x, y1, color = \"orange\", label=\"Demanda\")\n",
    "\n",
    "plt.xlabel(\"Eixo x\")\n",
    "plt.ylabel(\"Eixo y\")\n",
    "plt.title(\"Produção e demanda ao longo do tempo\")\n",
    "plt.legend()\n",
    "plt.show()"
   ]
  },
  {
   "cell_type": "code",
   "execution_count": null,
   "metadata": {},
   "outputs": [],
   "source": [
    "plt.plot(x, y, 'b--')\n",
    "plt.bar(x, y, color='gray')\n",
    "plt.show()"
   ]
  },
  {
   "cell_type": "markdown",
   "metadata": {},
   "source": [
    "## 9\\. `Converter imagens e Criar PDF`"
   ]
  },
  {
   "cell_type": "markdown",
   "metadata": {},
   "source": [
    "<img src=\"Group2.png\" alt=\"ebac-logo\"> "
   ]
  },
  {
   "cell_type": "markdown",
   "metadata": {},
   "source": [
    "`pip install/uninstall reportlab` - Recursos para a construção de PDF"
   ]
  },
  {
   "cell_type": "code",
   "execution_count": null,
   "metadata": {},
   "outputs": [],
   "source": [
    "from reportlab.pdfgen import canvas\n",
    "from reportlab.lib.pagesizes import A4"
   ]
  },
  {
   "cell_type": "code",
   "execution_count": null,
   "metadata": {},
   "outputs": [],
   "source": [
    "def mm2p(milimetros):\n",
    "    return milimetros / 0.352777"
   ]
  },
  {
   "cell_type": "code",
   "execution_count": null,
   "metadata": {},
   "outputs": [],
   "source": [
    "cnv = canvas.Canvas(\"Meu_pdf.pdf\", pagesize=A4)\n",
    "cnv.drawString(300, 150, \"Ok\")\n",
    "cnv.circle(100, 200, 50)\n",
    "cnv.line(100, 200, 22, 22)\n",
    "cnv.rect(200, 250, 300, 350)\n",
    "# Imagens\n",
    "cnv.drawImage(\"Group2.png\", 44, 650, width= 508, height= 174)\n",
    "cnv.save()"
   ]
  },
  {
   "cell_type": "markdown",
   "metadata": {},
   "source": [
    "### Converter imagens"
   ]
  },
  {
   "cell_type": "markdown",
   "metadata": {},
   "source": [
    "`pip install/uninstall Pillow` - Recursos para a conversão das imagens"
   ]
  },
  {
   "cell_type": "code",
   "execution_count": null,
   "metadata": {},
   "outputs": [],
   "source": [
    "# Converção simples\n",
    "\n",
    "from PIL import Image\n",
    "\n",
    "img = Image.open(\"Images/Group 11105.png\").convert(\"RGB\")\n",
    "img.save(\"Group 11105.jpg\")"
   ]
  },
  {
   "cell_type": "code",
   "execution_count": null,
   "metadata": {},
   "outputs": [],
   "source": [
    "from PIL import Image\n",
    "import os\n",
    "\n",
    "lista_arquivos = os.listdir(\"Images\")\n",
    "print(lista_arquivos)\n",
    "\n",
    "for arquivo in lista_arquivos:\n",
    "    img = Image.open(f\"images/{arquivo}\").convert(\"RGB\")\n",
    "    img.save(f\"images/{arquivo.replace('png', 'jpg')}\")\n"
   ]
  },
  {
   "cell_type": "markdown",
   "metadata": {},
   "source": [
    "## 10\\. `Programação orientada a objeto`"
   ]
  },
  {
   "cell_type": "markdown",
   "metadata": {},
   "source": [
    "<img src=\"Group2.png\" alt=\"ebac-logo\"> "
   ]
  },
  {
   "cell_type": "markdown",
   "metadata": {},
   "source": [
    "### Classes"
   ]
  },
  {
   "cell_type": "code",
   "execution_count": null,
   "metadata": {},
   "outputs": [],
   "source": [
    "class ControleRemoto():\n",
    "    pass"
   ]
  },
  {
   "cell_type": "code",
   "execution_count": null,
   "metadata": {},
   "outputs": [],
   "source": [
    "class ControleRemoto():\n",
    "    def __init__(self, valor_da_cor, altura, profundidade, largura):\n",
    "        self.cor = valor_da_cor\n",
    "        self.altura = altura\n",
    "        self.profundidade = profundidade\n",
    "        self.largura = largura\n",
    "    \n",
    "    def passar_canal(self, botao):\n",
    "        if botao == \"+\":\n",
    "            print(\"Aumentar\")\n",
    "        elif botao == \"-\":\n",
    "            print(\"Diminuir\")\n",
    "print(\"--------------------------\")\n",
    "controle_remoto = ControleRemoto('cinza', '10', '2', '2')\n",
    "print(controle_remoto.cor)\n",
    "\n",
    "controle_remoto.passar_canal(\"+\")\n",
    "print(\"--------------------------\")\n",
    "controle_remoto2 = ControleRemoto('Azul', '10', '2', '2')\n",
    "print(controle_remoto2.cor)\n",
    "\n",
    "controle_remoto2.passar_canal(\"-\")\n",
    "print(\"--------------------------\")"
   ]
  },
  {
   "cell_type": "markdown",
   "metadata": {},
   "source": [
    "#### Projeto `Netflix`"
   ]
  },
  {
   "cell_type": "code",
   "execution_count": null,
   "metadata": {},
   "outputs": [],
   "source": [
    "# Programa Netflix\n",
    "class Cliente():\n",
    "    def __init__(self, nome, email, plano, salario) -> None:\n",
    "        self.nome = nome\n",
    "        self.email = email\n",
    "        self.salario = salario\n",
    "        self.lista_planos = [\"basic\", \"premium\"]\n",
    "        if plano in self.lista_planos:\n",
    "            self.plano = plano\n",
    "        else:\n",
    "            raise Exception(\"Plano erro!\")\n",
    "    \n",
    "    def mudar_plano(self, novo_plano):\n",
    "        if novo_plano in self.lista_planos:\n",
    "            self.plano = novo_plano\n",
    "        else:\n",
    "            print(\"plano invalido!\")\n",
    "    \n",
    "    def ver_filme(self, filme, plano_filme):\n",
    "        if self.plano == plano_filme:\n",
    "            print(f\"Ver filme {filme}\")\n",
    "        elif self.plano == \"premium\":\n",
    "            print(f\"Ver filme {filme}\")\n",
    "        elif self.plano == \"basic\" and plano_filme == \"premium\":\n",
    "            print(\"Mude seu plano\")\n",
    "        else:\n",
    "            print(\"Plano invalido\")\n",
    "    \n",
    "    def compras(self, preco):\n",
    "        if self.salario >= preco:\n",
    "            self.salario = self.salario - preco\n",
    "            print(\"Comprado!\")\n",
    "        elif self.salario < preco:\n",
    "            print(\"Nao\")\n",
    "        elif self.salario == None:\n",
    "            print(\"Nao encontramos seu salario\")\n",
    "        else:\n",
    "            print(\"Erro\")\n",
    "    \n",
    "    def __str__(self) -> str:\n",
    "        return f'Nome do usuário {self.nome}, plano {self.plano}, salário {self.salario}'\n",
    "\n",
    "# Ações do usuário --------------\n",
    "print(\"----------------------------\")\n",
    "# Print informações do usuário\n",
    "cliente_use = Cliente(\"Enzo\", \"schitini@gmail.com\", \"basic\", 100)\n",
    "print(cliente_use.nome)\n",
    "print(cliente_use.plano)\n",
    "print(cliente_use.salario)\n",
    "print(\"----------------------------\")\n",
    "# Tenta ver filme com plano basic mas não pode\n",
    "cliente_use.ver_filme(\"Laura\", \"premium\")\n",
    "print(\"----------------------------\")\n",
    "# Muda o plano para premium\n",
    "cliente_use.mudar_plano(\"premium\")\n",
    "print(cliente_use.plano)\n",
    "# Tenta ver o filme com o novo plano\n",
    "cliente_use.ver_filme(\"Laura\", \"premium\")\n",
    "print(\"----------------------------\")\n",
    "# Botão comprar filme\n",
    "cliente_use.compras(60)\n",
    "print(cliente_use.salario)\n",
    "print(\"----------------------------\")\n",
    "# Tudo sobre o usuário\n",
    "print(cliente_use)\n",
    "print(\"----------------------------\")"
   ]
  },
  {
   "cell_type": "markdown",
   "metadata": {},
   "source": [
    "### Objetos"
   ]
  },
  {
   "cell_type": "code",
   "execution_count": null,
   "metadata": {},
   "outputs": [],
   "source": []
  },
  {
   "cell_type": "markdown",
   "metadata": {},
   "source": [
    "### Instâncias"
   ]
  },
  {
   "cell_type": "code",
   "execution_count": null,
   "metadata": {},
   "outputs": [],
   "source": []
  },
  {
   "cell_type": "markdown",
   "metadata": {},
   "source": [
    "### Herança"
   ]
  },
  {
   "cell_type": "code",
   "execution_count": null,
   "metadata": {},
   "outputs": [],
   "source": [
    "class Gerente(Cliente):\n",
    "    \n",
    "    def __init__(self, nome, email, plano, salario, pontos) -> None:\n",
    "        super().__init__(nome, email, plano, salario)\n",
    "        self.pontos = pontos\n",
    "\n",
    "gerente_use = Gerente(\"Enzo\", \"schitini@gmail.com\", \"basic\", 100, 10)\n",
    "print(gerente_use.pontos)"
   ]
  },
  {
   "cell_type": "code",
   "execution_count": null,
   "metadata": {},
   "outputs": [],
   "source": [
    "class persona(object):\n",
    "\n",
    "    def __init__(self, nome:str, numero:int) -> None:\n",
    "        self.nome = nome\n",
    "        self.numero = numero\n",
    "    \n",
    "    def num(self, numero:int):\n",
    "        return numero + 1\n",
    "\n",
    "    def __str__(self) -> str:\n",
    "        return f'Persona: {nome}, {numero}'\n",
    "\n",
    "enzo = persona('Enzo', 19)\n",
    "print(enzo.num(5))\n",
    "\n",
    "class scuola(object):\n",
    "\n",
    "    def __init__(self, nome_scuola, dove:str) -> None:\n",
    "        self.nome_scuola = nome_scuola\n",
    "        self.dove = dove\n",
    "\n",
    "class studente(persona):\n",
    "\n",
    "    def __init__(self, nome: str, numero: int, scuola:scuola) -> None:\n",
    "        super().__init__(nome, numero)\n",
    "        self.scuola = scuola\n",
    "\n",
    "s = scuola('Elementari di Pezzani', ' Via Matteotti, 3 - 48027 Solarolo (RA)')\n",
    "enzo = studente('Enzo', 19, scuola=s)\n",
    "print(f'Studente {enzo.nome} studia: {enzo.scuola.nome_scuola} in {enzo.scuola.dove}')"
   ]
  },
  {
   "cell_type": "markdown",
   "metadata": {},
   "source": [
    "## 11\\. `GitHub`"
   ]
  },
  {
   "cell_type": "markdown",
   "metadata": {},
   "source": [
    "#### Para publicar\n",
    "cd desktop\n",
    "mkdir enzo\n",
    "cd enzo\n",
    "echo \"# Enzo\" >> README.md\n",
    "git init\n",
    "git add README.md\n",
    "git add .\n",
    "git commit -m \"first commit\"\n",
    "git branch -M main\n",
    "git remote add origin https://github.com/enzoschitini/Enzo.git\n",
    "git push -u origin main"
   ]
  },
  {
   "cell_type": "markdown",
   "metadata": {},
   "source": [
    "#### Para baixar\n",
    "git pull"
   ]
  },
  {
   "cell_type": "markdown",
   "metadata": {},
   "source": [
    "## 12\\. `Últil`"
   ]
  },
  {
   "cell_type": "markdown",
   "metadata": {},
   "source": [
    "<img src=\"Group2.png\" alt=\"ebac-logo\"> "
   ]
  },
  {
   "cell_type": "code",
   "execution_count": null,
   "metadata": {},
   "outputs": [],
   "source": [
    "# Progress Bar\n",
    "import time\n",
    "from tqdm import tqdm\n",
    "\n",
    "# pip install neps\n",
    "# pip install tqdm\n",
    "\n",
    "for i in tqdm(range(5)):\n",
    "    time.sleep(1)"
   ]
  },
  {
   "cell_type": "code",
   "execution_count": null,
   "metadata": {},
   "outputs": [],
   "source": [
    "# Time program\n",
    "import time\n",
    "from time import sleep\n",
    "\n",
    "start_time = time.time()\n",
    "\n",
    "sleep(1.266)"
   ]
  },
  {
   "cell_type": "code",
   "execution_count": null,
   "metadata": {},
   "outputs": [],
   "source": [
    "\n",
    "time_x = round((time.time() - start_time), 2)\n",
    "print(\"--- %s seconds ---\" % time_x)"
   ]
  },
  {
   "cell_type": "code",
   "execution_count": null,
   "metadata": {},
   "outputs": [],
   "source": [
    "# Cattegory\n",
    "def categoria(lista : list, catg : list) -> list:\n",
    "   total = []\n",
    "   for x in catg:\n",
    "      soma = sum(int(item.split(', ')[1]) for item in lista if item.split(', ')[0] == x)\n",
    "      total.append(soma)\n",
    "   return total\n",
    "\n",
    "c = ['Music, 50', 'Sport, 20', 'Music, 23', 'Sport, 70']\n",
    "cc = ['Music', 'Sport']\n",
    "\n",
    "i = categoria(c, cc)\n",
    "print(i)"
   ]
  },
  {
   "cell_type": "code",
   "execution_count": null,
   "metadata": {},
   "outputs": [],
   "source": [
    "# Spostando elemennto\n",
    "\n",
    "lista = ['Enzo', '2004', '19', 'Schitini']"
   ]
  },
  {
   "cell_type": "markdown",
   "metadata": {},
   "source": [
    "## 13\\. `Metodi`"
   ]
  },
  {
   "cell_type": "markdown",
   "metadata": {},
   "source": [
    "<img src=\"Group2.png\" alt=\"ebac-logo\"> "
   ]
  },
  {
   "cell_type": "markdown",
   "metadata": {},
   "source": [
    "### `Strings` "
   ]
  },
  {
   "cell_type": "markdown",
   "metadata": {},
   "source": [
    "<img src=\"Images/strings.jpg\" alt=\"ebac-logo\"> "
   ]
  },
  {
   "cell_type": "markdown",
   "metadata": {},
   "source": [
    "<img src=\"Images/strings2.jpg\" alt=\"ebac-logo\"> "
   ]
  },
  {
   "cell_type": "markdown",
   "metadata": {},
   "source": [
    "### `List`"
   ]
  },
  {
   "cell_type": "markdown",
   "metadata": {},
   "source": [
    "<img src=\"Images/list.jpg\" alt=\"ebac-logo\"> "
   ]
  },
  {
   "cell_type": "markdown",
   "metadata": {},
   "source": [
    "<img src=\"Images/list2.jpg\" alt=\"ebac-logo\"> "
   ]
  },
  {
   "cell_type": "markdown",
   "metadata": {},
   "source": [
    "### `Dictionary`"
   ]
  },
  {
   "cell_type": "markdown",
   "metadata": {},
   "source": [
    "### `Set`"
   ]
  }
 ],
 "metadata": {
  "kernelspec": {
   "display_name": "Python 3",
   "language": "python",
   "name": "python3"
  },
  "language_info": {
   "codemirror_mode": {
    "name": "ipython",
    "version": 3
   },
   "file_extension": ".py",
   "mimetype": "text/x-python",
   "name": "python",
   "nbconvert_exporter": "python",
   "pygments_lexer": "ipython3",
   "version": "3.11.5"
  },
  "orig_nbformat": 4
 },
 "nbformat": 4,
 "nbformat_minor": 2
}
