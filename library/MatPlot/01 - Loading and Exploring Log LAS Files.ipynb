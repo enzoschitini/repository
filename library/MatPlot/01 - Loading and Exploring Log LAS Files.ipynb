{
 "cells": [
  {
   "cell_type": "markdown",
   "metadata": {},
   "source": [
    "# Loading and Exploring Log LAS Files With Python"
   ]
  },
  {
   "cell_type": "markdown",
   "metadata": {},
   "source": [
    "The accompanying video for this notebook can be found on my YouTube channel at:  \n",
    "Please check it out, like and subscribe.\n",
    "\n",
    "## Introduction\n",
    "\n",
    "Log ASCII Standard (LAS) files are a common Oil & Gas industry format for storing and transferring well log data. \n",
    "\n",
    "A LAS file is a structured file format that was developed in the late 1980s and early 1990s by the Canadian Well Logging Society and it is used to store log curve data as well as information about the well. The format makes it simple to transfer well log data between people and it is easy to explore these files as they are stored within plain text.\n",
    "\n",
    "This notebook illustrates how to load data in from a LAS file and carry out a basic QC of the data before plotting it on a log plot."
   ]
  },
  {
   "cell_type": "markdown",
   "metadata": {},
   "source": [
    "## Loading and Checking Data\n",
    "The first step is to import the required libraries: pandas, matplotlib and LASIO.  \n",
    "lasio is a library that has been developed to handle and work with LAS files. More info on the library can be found at: https://lasio.readthedocs.io/en/latest/"
   ]
  },
  {
   "cell_type": "code",
   "execution_count": 1,
   "metadata": {},
   "outputs": [],
   "source": [
    "import pandas as pd\n",
    "import matplotlib.pyplot as plt\n",
    "import lasio"
   ]
  },
  {
   "cell_type": "markdown",
   "metadata": {},
   "source": [
    "To load our file in, we can use the `.read()` method from LASIO like so:"
   ]
  },
  {
   "cell_type": "code",
   "execution_count": 2,
   "metadata": {},
   "outputs": [],
   "source": [
    "las = lasio.read(\"Data/15-9-19_SR_COMP.LAS\")"
   ]
  },
  {
   "cell_type": "code",
   "execution_count": 3,
   "metadata": {},
   "outputs": [
    {
     "data": {
      "text/plain": [
       "dict_keys(['Version', 'Well', 'Curves', 'Parameter', 'Other'])"
      ]
     },
     "execution_count": 3,
     "metadata": {},
     "output_type": "execute_result"
    }
   ],
   "source": [
    "las.sections.keys()"
   ]
  },
  {
   "cell_type": "code",
   "execution_count": 4,
   "metadata": {},
   "outputs": [
    {
     "data": {
      "text/plain": [
       "[HeaderItem(mnemonic=\"VERS\", unit=\"\", value=\"2.0\", descr=\"CWLS Log ASCII Stan...),\n",
       " HeaderItem(mnemonic=\"WRAP\", unit=\"\", value=\"NO\", descr=\"One line per depth s...)]"
      ]
     },
     "execution_count": 4,
     "metadata": {},
     "output_type": "execute_result"
    }
   ],
   "source": [
    "las.sections['Version']"
   ]
  },
  {
   "cell_type": "markdown",
   "metadata": {},
   "source": [
    "Now that our file has been loaded, we can start investigating it's contents.\n",
    "\n",
    "To find information out about where the file originated from, such as the well name, location and what the depth range of the file covers, we can create a simple for loop to go over each header item. Using Python's f-string we can join the items together."
   ]
  },
  {
   "cell_type": "code",
   "execution_count": 5,
   "metadata": {},
   "outputs": [
    {
     "name": "stdout",
     "output_type": "stream",
     "text": [
      "Top Depth (STRT): \t\t 102.1568\n",
      "Bottom Depth (STOP): \t\t 4636.514\n",
      "Depth Increment (STEP): \t\t 0.1524\n",
      "Null Value (NULL): \t\t -999.25\n",
      "Field Name (FLD): \t\t Q15\n",
      "NAME (WELL): \t\t 15/9-19\n",
      "WELLBORE (WBN): \t\t 15/9-19 SR\n",
      "COUNTRY (NATI): \t\t NOR\n",
      "COUNTRY (CTRY): \t\t NOR\n",
      "OPERATOR (COMP): \t\t STATOIL\n",
      "PERM DATUM (PDAT): \t\t MSL\n",
      "RIG NAME (COUN): \t\t NORTH SEA\n",
      "STATE (STAT): \t\t NORWAY\n",
      "PB WELL ID (PBWE): \t\t 15/9-19\n",
      "PB WELLBORE ID (APIN): \t\t 15/9-19 SR\n",
      "PB WELL NAME SET (PBWS): \t\t ALL\n"
     ]
    }
   ],
   "source": [
    "for item in las.sections['Well']:\n",
    "    print(f\"{item.descr} ({item.mnemonic}): \\t\\t {item.value}\")"
   ]
  },
  {
   "cell_type": "markdown",
   "metadata": {},
   "source": [
    "We can see above that we have the key information about the well, such as the name and location.\n",
    "\n",
    "If we wanted to change one of these entries, for example, COUNTRY (CTRY), we can easily do that by using the following line of code."
   ]
  },
  {
   "cell_type": "code",
   "execution_count": 6,
   "metadata": {},
   "outputs": [],
   "source": [
    "las.sections['Well']['CTRY'] = 'Norway'"
   ]
  },
  {
   "cell_type": "markdown",
   "metadata": {},
   "source": [
    "We can now see that if we run the code again the COUNTRY value is updated."
   ]
  },
  {
   "cell_type": "code",
   "execution_count": 7,
   "metadata": {},
   "outputs": [
    {
     "name": "stdout",
     "output_type": "stream",
     "text": [
      "Top Depth (STRT): \t\t 102.1568\n",
      "Bottom Depth (STOP): \t\t 4636.514\n",
      "Depth Increment (STEP): \t\t 0.1524\n",
      "Null Value (NULL): \t\t -999.25\n",
      "Field Name (FLD): \t\t Q15\n",
      "NAME (WELL): \t\t 15/9-19\n",
      "WELLBORE (WBN): \t\t 15/9-19 SR\n",
      "COUNTRY (NATI): \t\t NOR\n",
      "COUNTRY (CTRY): \t\t Norway\n",
      "OPERATOR (COMP): \t\t STATOIL\n",
      "PERM DATUM (PDAT): \t\t MSL\n",
      "RIG NAME (COUN): \t\t NORTH SEA\n",
      "STATE (STAT): \t\t NORWAY\n",
      "PB WELL ID (PBWE): \t\t 15/9-19\n",
      "PB WELLBORE ID (APIN): \t\t 15/9-19 SR\n",
      "PB WELL NAME SET (PBWS): \t\t ALL\n"
     ]
    }
   ],
   "source": [
    "for item in las.sections['Well']:\n",
    "    print(f\"{item.descr} ({item.mnemonic}): \\t\\t {item.value}\")"
   ]
  },
  {
   "cell_type": "markdown",
   "metadata": {},
   "source": [
    "We can also call upon the sections in a different way.\n",
    "In this case we can use `las.well` to call upon the well section.\n",
    "\n",
    "If we just want to extract the Well Name, we can simply call it by using the following:"
   ]
  },
  {
   "cell_type": "code",
   "execution_count": 8,
   "metadata": {},
   "outputs": [
    {
     "data": {
      "text/plain": [
       "'15/9-19'"
      ]
     },
     "execution_count": 8,
     "metadata": {},
     "output_type": "execute_result"
    }
   ],
   "source": [
    "las.well.WELL.value"
   ]
  },
  {
   "cell_type": "markdown",
   "metadata": {},
   "source": [
    "To quickly see what curve mnemonics are present within the las file we can loop through `las.curves` and print the mnemonic."
   ]
  },
  {
   "cell_type": "code",
   "execution_count": 9,
   "metadata": {},
   "outputs": [
    {
     "name": "stdout",
     "output_type": "stream",
     "text": [
      "DEPT\n",
      "AC\n",
      "CALI\n",
      "DEN\n",
      "GR\n",
      "NEU\n",
      "RDEP\n",
      "RMED\n"
     ]
    }
   ],
   "source": [
    "for curve in las.curves:\n",
    "    print(curve.mnemonic)"
   ]
  },
  {
   "cell_type": "markdown",
   "metadata": {},
   "source": [
    "To see what curves are present within the las file, we can repeat the process with the Curve Item object and call upon the `unit` and `descr` functions to get info on the units and the curve's description.\n",
    "The enumerate function allows us to keep a count of the number of curves that are present within the file. As enumerate returns a 0 on the first loop, we need to 1 to it if we want to include the depth curve."
   ]
  },
  {
   "cell_type": "code",
   "execution_count": 10,
   "metadata": {},
   "outputs": [
    {
     "name": "stdout",
     "output_type": "stream",
     "text": [
      "Curve: DEPT, \t Units: M, \t Description: 1  DEPTH\n",
      "Curve: AC, \t Units: US/F, \t Description: 2  Sonic Transit Time (Slowness)\n",
      "Curve: CALI, \t Units: IN, \t Description: 3  Caliper\n",
      "Curve: DEN, \t Units: G/CC, \t Description: 4  Bulk Density\n",
      "Curve: GR, \t Units: GAPI, \t Description: 5  Gamma Ray\n",
      "Curve: NEU, \t Units: %, \t Description: 6  Neutron Porosity\n",
      "Curve: RDEP, \t Units: OHMM, \t Description: 7  Deep Resistivity\n",
      "Curve: RMED, \t Units: OHMM, \t Description: 8  Medium Resistivity\n",
      "There are a total of: 8 curves present within this file\n"
     ]
    }
   ],
   "source": [
    "for count, curve in enumerate(las.curves):\n",
    "    print(f\"Curve: {curve.mnemonic}, \\t Units: {curve.unit}, \\t Description: {curve.descr}\")\n",
    "print(f\"There are a total of: {count+1} curves present within this file\")"
   ]
  },
  {
   "cell_type": "markdown",
   "metadata": {},
   "source": [
    "Curves can easily be removed from the LAS file. For example, if we do not whish to retain the RMED curve, we can remove it like so:"
   ]
  },
  {
   "cell_type": "code",
   "execution_count": 11,
   "metadata": {},
   "outputs": [],
   "source": [
    "las.delete_curve('RMED')"
   ]
  },
  {
   "cell_type": "code",
   "execution_count": 12,
   "metadata": {},
   "outputs": [
    {
     "name": "stdout",
     "output_type": "stream",
     "text": [
      "Curve: DEPT, \t Units: M, \t Description: 1  DEPTH\n",
      "Curve: AC, \t Units: US/F, \t Description: 2  Sonic Transit Time (Slowness)\n",
      "Curve: CALI, \t Units: IN, \t Description: 3  Caliper\n",
      "Curve: DEN, \t Units: G/CC, \t Description: 4  Bulk Density\n",
      "Curve: GR, \t Units: GAPI, \t Description: 5  Gamma Ray\n",
      "Curve: NEU, \t Units: %, \t Description: 6  Neutron Porosity\n",
      "Curve: RDEP, \t Units: OHMM, \t Description: 7  Deep Resistivity\n",
      "There are a total of: 7 curves present within this file\n"
     ]
    }
   ],
   "source": [
    "for count, curve in enumerate(las.curves):\n",
    "    print(f\"Curve: {curve.mnemonic}, \\t Units: {curve.unit}, \\t Description: {curve.descr}\")\n",
    "print(f\"There are a total of: {count+1} curves present within this file\")"
   ]
  },
  {
   "cell_type": "code",
   "execution_count": 13,
   "metadata": {},
   "outputs": [],
   "source": [
    "las.write('Exports/15_9-19_Exported.las')"
   ]
  },
  {
   "cell_type": "markdown",
   "metadata": {},
   "source": [
    "## Converting LAS File to a Pandas Dataframe\n",
    "Data loaded in using LASIO can be converted to a pandas dataframe using the .df() function. This allows us to easily plot data and pass it into one of the many machine learning algorithms."
   ]
  },
  {
   "cell_type": "code",
   "execution_count": 14,
   "metadata": {},
   "outputs": [],
   "source": [
    "well = las.df()"
   ]
  },
  {
   "cell_type": "markdown",
   "metadata": {},
   "source": [
    "The `.head()` function generates a table view of the header and the first 5 rows within the dataframe."
   ]
  },
  {
   "cell_type": "code",
   "execution_count": 15,
   "metadata": {},
   "outputs": [
    {
     "data": {
      "text/html": [
       "<div>\n",
       "<style scoped>\n",
       "    .dataframe tbody tr th:only-of-type {\n",
       "        vertical-align: middle;\n",
       "    }\n",
       "\n",
       "    .dataframe tbody tr th {\n",
       "        vertical-align: top;\n",
       "    }\n",
       "\n",
       "    .dataframe thead th {\n",
       "        text-align: right;\n",
       "    }\n",
       "</style>\n",
       "<table border=\"1\" class=\"dataframe\">\n",
       "  <thead>\n",
       "    <tr style=\"text-align: right;\">\n",
       "      <th></th>\n",
       "      <th>AC</th>\n",
       "      <th>CALI</th>\n",
       "      <th>DEN</th>\n",
       "      <th>GR</th>\n",
       "      <th>NEU</th>\n",
       "      <th>RDEP</th>\n",
       "    </tr>\n",
       "    <tr>\n",
       "      <th>DEPT</th>\n",
       "      <th></th>\n",
       "      <th></th>\n",
       "      <th></th>\n",
       "      <th></th>\n",
       "      <th></th>\n",
       "      <th></th>\n",
       "    </tr>\n",
       "  </thead>\n",
       "  <tbody>\n",
       "    <tr>\n",
       "      <th>102.1568</th>\n",
       "      <td>NaN</td>\n",
       "      <td>NaN</td>\n",
       "      <td>NaN</td>\n",
       "      <td>5.3274</td>\n",
       "      <td>NaN</td>\n",
       "      <td>NaN</td>\n",
       "    </tr>\n",
       "    <tr>\n",
       "      <th>102.3092</th>\n",
       "      <td>NaN</td>\n",
       "      <td>NaN</td>\n",
       "      <td>NaN</td>\n",
       "      <td>5.8235</td>\n",
       "      <td>NaN</td>\n",
       "      <td>NaN</td>\n",
       "    </tr>\n",
       "    <tr>\n",
       "      <th>102.4616</th>\n",
       "      <td>NaN</td>\n",
       "      <td>NaN</td>\n",
       "      <td>NaN</td>\n",
       "      <td>6.5228</td>\n",
       "      <td>NaN</td>\n",
       "      <td>NaN</td>\n",
       "    </tr>\n",
       "    <tr>\n",
       "      <th>102.6140</th>\n",
       "      <td>NaN</td>\n",
       "      <td>NaN</td>\n",
       "      <td>NaN</td>\n",
       "      <td>7.2285</td>\n",
       "      <td>NaN</td>\n",
       "      <td>NaN</td>\n",
       "    </tr>\n",
       "    <tr>\n",
       "      <th>102.7664</th>\n",
       "      <td>NaN</td>\n",
       "      <td>NaN</td>\n",
       "      <td>NaN</td>\n",
       "      <td>9.5020</td>\n",
       "      <td>NaN</td>\n",
       "      <td>NaN</td>\n",
       "    </tr>\n",
       "  </tbody>\n",
       "</table>\n",
       "</div>"
      ],
      "text/plain": [
       "          AC  CALI  DEN      GR  NEU  RDEP\n",
       "DEPT                                      \n",
       "102.1568 NaN   NaN  NaN  5.3274  NaN   NaN\n",
       "102.3092 NaN   NaN  NaN  5.8235  NaN   NaN\n",
       "102.4616 NaN   NaN  NaN  6.5228  NaN   NaN\n",
       "102.6140 NaN   NaN  NaN  7.2285  NaN   NaN\n",
       "102.7664 NaN   NaN  NaN  9.5020  NaN   NaN"
      ]
     },
     "execution_count": 15,
     "metadata": {},
     "output_type": "execute_result"
    }
   ],
   "source": [
    "well.head()"
   ]
  },
  {
   "cell_type": "markdown",
   "metadata": {},
   "source": [
    "To find out more information about data, we can call upon the `.info()` and `.describe()` functions.  \n",
    "    \n",
    "The `.info()` function provides information about the data types and how many non-null values are present within each curve.  \n",
    "The `.describe()` function, provides statistical information about each curve and can be a useful QC for each curve."
   ]
  },
  {
   "cell_type": "code",
   "execution_count": 16,
   "metadata": {},
   "outputs": [
    {
     "data": {
      "text/html": [
       "<div>\n",
       "<style scoped>\n",
       "    .dataframe tbody tr th:only-of-type {\n",
       "        vertical-align: middle;\n",
       "    }\n",
       "\n",
       "    .dataframe tbody tr th {\n",
       "        vertical-align: top;\n",
       "    }\n",
       "\n",
       "    .dataframe thead th {\n",
       "        text-align: right;\n",
       "    }\n",
       "</style>\n",
       "<table border=\"1\" class=\"dataframe\">\n",
       "  <thead>\n",
       "    <tr style=\"text-align: right;\">\n",
       "      <th></th>\n",
       "      <th>AC</th>\n",
       "      <th>CALI</th>\n",
       "      <th>DEN</th>\n",
       "      <th>GR</th>\n",
       "      <th>NEU</th>\n",
       "      <th>RDEP</th>\n",
       "    </tr>\n",
       "  </thead>\n",
       "  <tbody>\n",
       "    <tr>\n",
       "      <th>count</th>\n",
       "      <td>7007.000000</td>\n",
       "      <td>7007.000000</td>\n",
       "      <td>7084.000000</td>\n",
       "      <td>28117.000000</td>\n",
       "      <td>7096.000000</td>\n",
       "      <td>12223.000000</td>\n",
       "    </tr>\n",
       "    <tr>\n",
       "      <th>mean</th>\n",
       "      <td>79.498714</td>\n",
       "      <td>9.611068</td>\n",
       "      <td>2.449055</td>\n",
       "      <td>71.986798</td>\n",
       "      <td>20.117166</td>\n",
       "      <td>2.438382</td>\n",
       "    </tr>\n",
       "    <tr>\n",
       "      <th>std</th>\n",
       "      <td>18.390705</td>\n",
       "      <td>1.019751</td>\n",
       "      <td>0.165122</td>\n",
       "      <td>32.922780</td>\n",
       "      <td>14.729530</td>\n",
       "      <td>6.631202</td>\n",
       "    </tr>\n",
       "    <tr>\n",
       "      <th>min</th>\n",
       "      <td>1.025100</td>\n",
       "      <td>6.000000</td>\n",
       "      <td>1.943000</td>\n",
       "      <td>2.766100</td>\n",
       "      <td>2.178300</td>\n",
       "      <td>0.250300</td>\n",
       "    </tr>\n",
       "    <tr>\n",
       "      <th>25%</th>\n",
       "      <td>66.154350</td>\n",
       "      <td>9.142900</td>\n",
       "      <td>2.319975</td>\n",
       "      <td>50.255200</td>\n",
       "      <td>10.631350</td>\n",
       "      <td>0.988000</td>\n",
       "    </tr>\n",
       "    <tr>\n",
       "      <th>50%</th>\n",
       "      <td>74.661900</td>\n",
       "      <td>9.589400</td>\n",
       "      <td>2.505600</td>\n",
       "      <td>74.998500</td>\n",
       "      <td>15.718550</td>\n",
       "      <td>1.536100</td>\n",
       "    </tr>\n",
       "    <tr>\n",
       "      <th>75%</th>\n",
       "      <td>93.304550</td>\n",
       "      <td>9.904800</td>\n",
       "      <td>2.585125</td>\n",
       "      <td>92.343800</td>\n",
       "      <td>25.067375</td>\n",
       "      <td>2.434050</td>\n",
       "    </tr>\n",
       "    <tr>\n",
       "      <th>max</th>\n",
       "      <td>181.813900</td>\n",
       "      <td>20.330400</td>\n",
       "      <td>3.001300</td>\n",
       "      <td>304.333700</td>\n",
       "      <td>146.347400</td>\n",
       "      <td>198.537100</td>\n",
       "    </tr>\n",
       "  </tbody>\n",
       "</table>\n",
       "</div>"
      ],
      "text/plain": [
       "                AC         CALI          DEN            GR          NEU  \\\n",
       "count  7007.000000  7007.000000  7084.000000  28117.000000  7096.000000   \n",
       "mean     79.498714     9.611068     2.449055     71.986798    20.117166   \n",
       "std      18.390705     1.019751     0.165122     32.922780    14.729530   \n",
       "min       1.025100     6.000000     1.943000      2.766100     2.178300   \n",
       "25%      66.154350     9.142900     2.319975     50.255200    10.631350   \n",
       "50%      74.661900     9.589400     2.505600     74.998500    15.718550   \n",
       "75%      93.304550     9.904800     2.585125     92.343800    25.067375   \n",
       "max     181.813900    20.330400     3.001300    304.333700   146.347400   \n",
       "\n",
       "               RDEP  \n",
       "count  12223.000000  \n",
       "mean       2.438382  \n",
       "std        6.631202  \n",
       "min        0.250300  \n",
       "25%        0.988000  \n",
       "50%        1.536100  \n",
       "75%        2.434050  \n",
       "max      198.537100  "
      ]
     },
     "execution_count": 16,
     "metadata": {},
     "output_type": "execute_result"
    }
   ],
   "source": [
    "well.describe()"
   ]
  },
  {
   "cell_type": "code",
   "execution_count": 17,
   "metadata": {},
   "outputs": [
    {
     "name": "stdout",
     "output_type": "stream",
     "text": [
      "<class 'pandas.core.frame.DataFrame'>\n",
      "Float64Index: 29754 entries, 102.1568 to 4636.514\n",
      "Data columns (total 6 columns):\n",
      " #   Column  Non-Null Count  Dtype  \n",
      "---  ------  --------------  -----  \n",
      " 0   AC      7007 non-null   float64\n",
      " 1   CALI    7007 non-null   float64\n",
      " 2   DEN     7084 non-null   float64\n",
      " 3   GR      28117 non-null  float64\n",
      " 4   NEU     7096 non-null   float64\n",
      " 5   RDEP    12223 non-null  float64\n",
      "dtypes: float64(6)\n",
      "memory usage: 1.6 MB\n"
     ]
    }
   ],
   "source": [
    "well.info()"
   ]
  },
  {
   "cell_type": "markdown",
   "metadata": {},
   "source": [
    "### Quick Plot\n",
    "\n",
    "Using the ploting function within pandas, we can plot all curves on a single plot."
   ]
  },
  {
   "cell_type": "code",
   "execution_count": 18,
   "metadata": {},
   "outputs": [
    {
     "data": {
      "text/plain": [
       "<AxesSubplot:xlabel='DEPT'>"
      ]
     },
     "execution_count": 18,
     "metadata": {},
     "output_type": "execute_result"
    },
    {
     "data": {
      "image/png": "[encoded data removed]",
      "text/plain": [
       "<Figure size 432x288 with 1 Axes>"
      ]
     },
     "metadata": {
      "needs_background": "light"
     },
     "output_type": "display_data"
    }
   ],
   "source": [
    "well.plot()"
   ]
  },
  {
   "cell_type": "markdown",
   "metadata": {},
   "source": [
    "When we look at the plot above, we can see that is not very useful to us as all logging measurements have their own scales. We can see that RDEP, which is Deep Resistivity is very flat. That is becuase it is notmally plotted on a logarithmich scale. Similary, density (DEN) is also not easily distinguisable due to its small range (1.5 g/cc to 3g/cc).\n",
    "\n",
    "We can plot individual curves by supplying a y variable argument like so:"
   ]
  },
  {
   "cell_type": "code",
   "execution_count": 19,
   "metadata": {},
   "outputs": [
    {
     "data": {
      "text/plain": [
       "<AxesSubplot:xlabel='DEPT'>"
      ]
     },
     "execution_count": 19,
     "metadata": {},
     "output_type": "execute_result"
    },
    {
     "data": {
      "image/png": "[encoded data removed]",
      "text/plain": [
       "<Figure size 432x288 with 1 Axes>"
      ]
     },
     "metadata": {
      "needs_background": "light"
     },
     "output_type": "display_data"
    }
   ],
   "source": [
    "well.plot(y='GR')"
   ]
  },
  {
   "cell_type": "markdown",
   "metadata": {},
   "source": [
    "This allows us to view the Gamma Ray Curve on its own. We can change the variable to any other curve within the dataframe and view it as follows: "
   ]
  },
  {
   "cell_type": "code",
   "execution_count": 20,
   "metadata": {},
   "outputs": [
    {
     "data": {
      "text/plain": [
       "<AxesSubplot:xlabel='DEPT'>"
      ]
     },
     "execution_count": 20,
     "metadata": {},
     "output_type": "execute_result"
    },
    {
     "data": {
      "image/png": "[encoded data removed]",
      "text/plain": [
       "<Figure size 432x288 with 1 Axes>"
      ]
     },
     "metadata": {
      "needs_background": "light"
     },
     "output_type": "display_data"
    }
   ],
   "source": [
    "well.plot(y='DEN')"
   ]
  },
  {
   "cell_type": "code",
   "execution_count": null,
   "metadata": {},
   "outputs": [],
   "source": []
  }
 ],
 "metadata": {
  "kernelspec": {
   "display_name": "Python 3",
   "language": "python",
   "name": "python3"
  },
  "language_info": {
   "codemirror_mode": {
    "name": "ipython",
    "version": 3
   },
   "file_extension": ".py",
   "mimetype": "text/x-python",
   "name": "python",
   "nbconvert_exporter": "python",
   "pygments_lexer": "ipython3",
   "version": "3.8.5"
  }
 },
 "nbformat": 4,
 "nbformat_minor": 4
}
